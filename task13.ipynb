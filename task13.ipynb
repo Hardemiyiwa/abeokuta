{
 "cells": [
  {
   "cell_type": "code",
   "execution_count": 2,
   "id": "5186e184",
   "metadata": {},
   "outputs": [],
   "source": [
    "import numpy as np"
   ]
  },
  {
   "cell_type": "code",
   "execution_count": 8,
   "id": "fbae96fd",
   "metadata": {},
   "outputs": [
    {
     "name": "stdout",
     "output_type": "stream",
     "text": [
      "Identity matrix:\n",
      " [[1. 0. 0. 0.]\n",
      " [0. 1. 0. 0.]\n",
      " [0. 0. 1. 0.]\n",
      " [0. 0. 0. 1.]]\n",
      "Diagonal matrix\n",
      " [[10.  0.  0.  0.]\n",
      " [ 0. 20.  0.  0.]\n",
      " [ 0.  0. 30.  0.]\n",
      " [ 0.  0.  0. 40.]]\n"
     ]
    }
   ],
   "source": [
    "# 4 x 4 identity matrix\n",
    "identity_matrix = np.eye(4)\n",
    "print(\"Identity matrix:\\n\", identity_matrix)\n",
    "\n",
    "# Replcaing the diagonal with number\n",
    "np.fill_diagonal(identity_matrix, [10, 20, 30, 40])\n",
    "print(\"Diagonal matrix\\n\", identity_matrix)"
   ]
  },
  {
   "cell_type": "markdown",
   "id": "cabcc5a0",
   "metadata": {},
   "source": [
    "5. Perform matrix multiplication between: A 3x4 matrix of random integers (1-10) A 4x3 matrix of random integers (1-10)\n"
   ]
  },
  {
   "cell_type": "code",
   "execution_count": 15,
   "id": "6cb2d556",
   "metadata": {},
   "outputs": [
    {
     "name": "stdout",
     "output_type": "stream",
     "text": [
      "Array product\n",
      " [[135 217 112]\n",
      " [ 55 143  81]\n",
      " [134 221  97]]\n"
     ]
    }
   ],
   "source": [
    "a_arr = np.random.randint(1, 11, size=(3, 4))\n",
    "b_arr = np.random.randint(1, 11, size=(4, 3))\n",
    "\n",
    "# Array product\n",
    "# product_arr = np.dot(a_arr, b_arr)\n",
    "# product_arr\n",
    "product_arr = a_arr @ b_arr\n",
    "print(\"Array product\\n\", product_arr)\n"
   ]
  },
  {
   "cell_type": "markdown",
   "id": "7dc54643",
   "metadata": {},
   "source": [
    "6. Create a function that takes a 2D NumPy array as input and returns a new array where: All even numbers are squared. All odd numbers are replaced by -1."
   ]
  },
  {
   "cell_type": "code",
   "execution_count": 16,
   "id": "a0a3b589",
   "metadata": {},
   "outputs": [
    {
     "name": "stdout",
     "output_type": "stream",
     "text": [
      "Array before operation\n",
      " [[ 8  3 14  7]\n",
      " [ 9 18  2 11]\n",
      " [18 16 11  6]]\n",
      "Array after operation\n",
      " [[ 64  -1 196  -1]\n",
      " [ -1 324   4  -1]\n",
      " [324 256  -1  36]]\n"
     ]
    }
   ],
   "source": [
    "def arr_even_sq_odd_minus_1(arr):\n",
    "    return np.where(arr % 2 == 0, arr **2, -1)\n",
    "\n",
    "arr = np.random.randint(1, 20, size=(3, 4))\n",
    "arr_opration = arr_even_sq_odd_minus_1(arr)\n",
    "\n",
    "print(\"Array before operation\\n\", arr)\n",
    "print(\"Array after operation\\n\", arr_opration)"
   ]
  },
  {
   "cell_type": "code",
   "execution_count": null,
   "id": "3c332786",
   "metadata": {},
   "outputs": [],
   "source": []
  }
 ],
 "metadata": {
  "kernelspec": {
   "display_name": "_data_evn",
   "language": "python",
   "name": "python3"
  },
  "language_info": {
   "codemirror_mode": {
    "name": "ipython",
    "version": 3
   },
   "file_extension": ".py",
   "mimetype": "text/x-python",
   "name": "python",
   "nbconvert_exporter": "python",
   "pygments_lexer": "ipython3",
   "version": "3.13.5"
  }
 },
 "nbformat": 4,
 "nbformat_minor": 5
}
