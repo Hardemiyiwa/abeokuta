{
 "cells": [
  {
   "cell_type": "markdown",
   "id": "29d00451",
   "metadata": {},
   "source": [
    "### **INTRODUCTION TO EXPLORATORY DATA ANALYSIS (EDA)**"
   ]
  },
  {
   "cell_type": "markdown",
   "id": "f2fb4d7b",
   "metadata": {},
   "source": [
    "Machine learning is a subset of Data Science. In Machine Learning we build models that are capable of learning from data without it being explicitly programmed with the help of predefined algorithms.\n",
    "\n",
    "- Before starting the EDA process, its quite important to have a good understanding of the data science pipeline and your role in it as a data scientist. I believe this is what makes Data Science as the Sexiest Job of the 21st century."
   ]
  },
  {
   "cell_type": "markdown",
   "id": "764a785b",
   "metadata": {},
   "source": [
    "\n",
    "> Collection > Cleaning > Exploratory > Model Building > Model Deployment"
   ]
  },
  {
   "cell_type": "code",
   "execution_count": null,
   "id": "1ad980c1",
   "metadata": {},
   "outputs": [],
   "source": []
  }
 ],
 "metadata": {
  "language_info": {
   "name": "python"
  }
 },
 "nbformat": 4,
 "nbformat_minor": 5
}
