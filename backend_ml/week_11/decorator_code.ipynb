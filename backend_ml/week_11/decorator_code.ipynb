{
 "cells": [
  {
   "cell_type": "code",
   "execution_count": 2,
   "id": "f014cb7b",
   "metadata": {},
   "outputs": [
    {
     "name": "stdout",
     "output_type": "stream",
     "text": [
      "Welcome to our shop!\n",
      "Shopkeeper says: Welcome to our shop!\n"
     ]
    }
   ],
   "source": [
    "def greet_customer():\n",
    "    return \"Welcome to our shop!\"\n",
    "\n",
    "# You can assign functions to variables\n",
    "my_greeting = greet_customer\n",
    "print(my_greeting()) # Welcome to our shop!\n",
    "\n",
    "# you can pass functions as  arguments\n",
    "def use_greeting(greeting_func):\n",
    "    return f\"Shopkeeper says: {greeting_func()}\"\n",
    "\n",
    "print(use_greeting(greet_customer)) "
   ]
  },
  {
   "cell_type": "markdown",
   "id": "4fa4273d",
   "metadata": {},
   "source": [
    "**Lets create our first decorated**"
   ]
  },
  {
   "cell_type": "code",
   "execution_count": 4,
   "id": "aec6fadc",
   "metadata": {},
   "outputs": [],
   "source": [
    "def add_nigerian_politeness(original_function):\n",
    "    def wrapper():\n",
    "        result = original_function()\n",
    "        return f\"Good morning ooo! {result} How is family?\"\n",
    "    return wrapper\n",
    "\n",
    "# Original simple greeting\n",
    "def basic_greeting():\n",
    "    return \"Hello\""
   ]
  },
  {
   "cell_type": "code",
   "execution_count": 5,
   "id": "60148d10",
   "metadata": {},
   "outputs": [
    {
     "name": "stdout",
     "output_type": "stream",
     "text": [
      "Good morning ooo! Hello How is family?\n"
     ]
    }
   ],
   "source": [
    "# Applying the decorator manually\n",
    "polite_greeting = add_nigerian_politeness(basic_greeting)\n",
    "print(polite_greeting())"
   ]
  },
  {
   "cell_type": "code",
   "execution_count": 6,
   "id": "e5342fa7",
   "metadata": {},
   "outputs": [
    {
     "name": "stdout",
     "output_type": "stream",
     "text": [
      "Good morning ooo! Welcom to my provistion store How is family?\n"
     ]
    }
   ],
   "source": [
    "# Using the @ symbol (syntactic sugar)\n",
    "@add_nigerian_politeness\n",
    "def shop_greeting():\n",
    "    return \"Welcom to my provistion store\"\n",
    "\n",
    "print(shop_greeting())"
   ]
  },
  {
   "cell_type": "markdown",
   "id": "7b689f37",
   "metadata": {},
   "source": [
    "**This is what we did**\n",
    "- We created a decorator function that takes another function as input\n",
    "- Inside the decorator, we defined a wrapper function that adds extra behaviour\n",
    "- The wrapper calls the original function and enhances it result\n",
    "- we return the wrapper function\n",
    "- The @ symbol is just a shortcut for appying the decorator"
   ]
  },
  {
   "cell_type": "markdown",
   "id": "6f697d64",
   "metadata": {},
   "source": [
    "_more example_2"
   ]
  },
  {
   "cell_type": "code",
   "execution_count": 7,
   "id": "ee664db4",
   "metadata": {},
   "outputs": [],
   "source": [
    "#  This comes with arguments\n",
    "# Sometimes you want to pass information to your decorators"
   ]
  },
  {
   "cell_type": "code",
   "execution_count": 8,
   "id": "64740f6b",
   "metadata": {},
   "outputs": [],
   "source": [
    "def add_nigerian_time_greeting(time_of_day):\n",
    "    \"\"\"Decorator that adds appropriate Nigerian greeting based on time\"\"\"\n",
    "    def decorator(original_function):\n",
    "        def wrapper():\n",
    "            if time_of_day == 'morning':\n",
    "                greeting = \"Good morning ooo!\"\n",
    "            elif time_of_day == \"afternoon!\":\n",
    "                greeting = \"Good afternoon ooo!\"\n",
    "            elif time_of_day == \"evening\":\n",
    "                greeting = \"Good evening ooo!\"\n",
    "            else:\n",
    "                greeting = \"How far!\"\n",
    "\n",
    "            result = original_function()\n",
    "            return f\"{greeting} {result}\"\n",
    "        return wrapper\n",
    "    return decorator"
   ]
  },
  {
   "cell_type": "code",
   "execution_count": 9,
   "id": "7c3a43bd",
   "metadata": {},
   "outputs": [],
   "source": [
    "# Using the decorator with different times\n",
    "@add_nigerian_time_greeting(\"morning\")\n",
    "def market_greeting():\n",
    "    return \"Welcome to our shop. How can we help you today?\""
   ]
  },
  {
   "cell_type": "code",
   "execution_count": 10,
   "id": "6f3b991e",
   "metadata": {},
   "outputs": [],
   "source": [
    "@add_nigerian_time_greeting(\"evening\")\n",
    "def restaurant_greeting():\n",
    "    return \"welcome to our restaurant. What would you like to eat?\""
   ]
  },
  {
   "cell_type": "code",
   "execution_count": 11,
   "id": "fcdf0020",
   "metadata": {},
   "outputs": [
    {
     "name": "stdout",
     "output_type": "stream",
     "text": [
      "Good morning ooo! Welcome to our shop. How can we help you today?\n",
      "Good evening ooo! welcome to our restaurant. What would you like to eat?\n"
     ]
    }
   ],
   "source": [
    "print(market_greeting())\n",
    "print(restaurant_greeting())"
   ]
  },
  {
   "cell_type": "markdown",
   "id": "89e73cb0",
   "metadata": {},
   "source": [
    "_more example_3"
   ]
  },
  {
   "cell_type": "code",
   "execution_count": 2,
   "id": "f67c89fb",
   "metadata": {},
   "outputs": [],
   "source": [
    "def naira_formatter(currency_symbol = \"₦\"):\n",
    "    \"\"\"Decorator to format prices in Nigerian Naira\"\"\"\n",
    "    def decorator(price_function):\n",
    "        def wrapper(*args, **kwargs):\n",
    "            price = price_function(*args, **kwargs)\n",
    "            return f\"{currency_symbol}{price:,}\"\n",
    "        return wrapper\n",
    "    return decorator"
   ]
  },
  {
   "cell_type": "code",
   "execution_count": 3,
   "id": "f82aac9e",
   "metadata": {},
   "outputs": [],
   "source": [
    "@naira_formatter(\"₦\")\n",
    "def rice_price():\n",
    "    return 2500"
   ]
  },
  {
   "cell_type": "code",
   "execution_count": 4,
   "id": "e95765c6",
   "metadata": {},
   "outputs": [],
   "source": [
    "@naira_formatter(\"₦\")\n",
    "def calculate_transport_fare(distance_km):\n",
    "    base_fare = 200\n",
    "    per_km = 50\n",
    "    return base_fare + (distance_km * per_km)"
   ]
  },
  {
   "cell_type": "code",
   "execution_count": 5,
   "id": "7780bc48",
   "metadata": {},
   "outputs": [
    {
     "name": "stdout",
     "output_type": "stream",
     "text": [
      "₦2,500\n",
      "₦450\n"
     ]
    }
   ],
   "source": [
    "print(rice_price())\n",
    "print(calculate_transport_fare(5))"
   ]
  },
  {
   "cell_type": "markdown",
   "id": "8f97545d",
   "metadata": {},
   "source": [
    "_more example_4"
   ]
  },
  {
   "cell_type": "code",
   "execution_count": 6,
   "id": "9aeaf842",
   "metadata": {},
   "outputs": [],
   "source": [
    "# Shop Transaction Logger\n",
    "from datetime import datetime\n",
    "\n",
    "def log_transaction(log_file=\"shop_transactions.txt\"):\n",
    "    \"\"\"Decorator to log all shop transactions\"\"\"\n",
    "    def decorator(transaction_function):\n",
    "        def wrapper(*args, **kwargs):\n",
    "            # Before the transaction\n",
    "            start_time = datetime.now()\n",
    "            print(f\"[{start_time.strftime('%Y-%m-%d %H:%M:%S')}] Starting transaction...\")\n",
    "\n",
    "            # Execute the transaction\n",
    "            result = transaction_function(*args, **kwargs)\n",
    "\n",
    "            # After the transaction\n",
    "            end_time = datetime.now()\n",
    "            duration = end_time - start_time\n",
    "\n",
    "            # Log the transaction\n",
    "            log_entry = f\"[{end_time.strftime('%Y-%m-%d %H:%M:%S')}] Transaction completed: {result} (Duration: {duration.total_seconds():.2f}s)\\n\"\n",
    "            print(log_entry.strip())\n",
    "\n",
    "            # In real app, you'd write to file:\n",
    "            # with open(log_file, 'a') as f:\n",
    "            #     f.write(log_entry)\n",
    "            return result\n",
    "        return wrapper\n",
    "    return decorator"
   ]
  },
  {
   "cell_type": "code",
   "execution_count": 7,
   "id": "9e3821f8",
   "metadata": {},
   "outputs": [],
   "source": [
    "@log_transaction(\"adunni_shop.txt\")\n",
    "def sell_item(item_name, quantity, price_per_item):\n",
    "    \"\"\"Sell items in Abiodun's provision store\"\"\"\n",
    "    total = quantity * price_per_item\n",
    "    return f\"Sold {quantity} {item_name}(s) for ₦{total:,}\""
   ]
  },
  {
   "cell_type": "code",
   "execution_count": 11,
   "id": "d4a19a5e",
   "metadata": {},
   "outputs": [],
   "source": [
    "@log_transaction(\"Taofeek_transport.txt\")\n",
    "def collect_transport_fare(passenger_name, destination, fare):\n",
    "    \"\"\"Collect fare in Taofeek's bus\"\"\"\n",
    "    return f\"Collected ₦{fare:,} from {passenger_name} going to {destination}\""
   ]
  },
  {
   "cell_type": "code",
   "execution_count": 12,
   "id": "6b7020f4",
   "metadata": {},
   "outputs": [
    {
     "name": "stdout",
     "output_type": "stream",
     "text": [
      "[2025-10-15 00:37:37] Starting transaction...\n",
      "[2025-10-15 00:37:37] Transaction completed: Sold 5 Ladies' wear(s) for ₦750 (Duration: 0.00s)\n",
      "Sold 5 Ladies' wear(s) for ₦750\n",
      "[2025-10-15 00:37:37] Starting transaction...\n",
      "[2025-10-15 00:37:37] Transaction completed: Collected ₦500 from Kemi Adebayo going to Victoria Island (Duration: 0.00s)\n",
      "Collected ₦500 from Kemi Adebayo going to Victoria Island\n"
     ]
    }
   ],
   "source": [
    "# Using the decorated functions\n",
    "print(sell_item(\"Ladies' wear\", 5, 150))\n",
    "print(collect_transport_fare(\"Kemi Adebayo\", \"Victoria Island\", 500))"
   ]
  },
  {
   "cell_type": "code",
   "execution_count": 16,
   "id": "c69f6f09",
   "metadata": {},
   "outputs": [],
   "source": [
    "# _more example_5"
   ]
  },
  {
   "cell_type": "code",
   "execution_count": 32,
   "id": "8c6c2790",
   "metadata": {},
   "outputs": [],
   "source": [
    "import time\n",
    "import functools\n",
    "\n",
    "def monitor_performance(max_execution_time=5.0):\n",
    "    \"\"\"Decorator to monitor function performance - useful for Nigerian apps with slow internet\"\"\"\n",
    "    def decorator(func):\n",
    "        @functools.wraps(func) # Preserves original function metadata\n",
    "        def wrapper(*args, **kwargs):\n",
    "            start_time = time.time()\n",
    "\n",
    "            print(f\"Starting {func.__name__}...\")\n",
    "\n",
    "            try:\n",
    "                result = func(*args, **kwargs)\n",
    "                execution_time = time.time() - start_time\n",
    "\n",
    "                if execution_time > max_execution_time:\n",
    "                    print(f\"{func.__name__} took {execution_time:.2f}s (slower than expected {max_execution_time}s)\")\n",
    "                    print(\"Consider optimizing for Nigerian internet speeds!\")\n",
    "                else:\n",
    "                    print(f\"{func.__name__} completed in {execution_time:.2f}s\")\n",
    "\n",
    "                return result\n",
    "            except Exception as e:\n",
    "                excution_time = time.time() - start_time\n",
    "                print(f\"{func.__name__} failed after {excution_time:.2f}s: {e}\")\n",
    "                raise\n",
    "        return wrapper\n",
    "    return decorator\n"
   ]
  },
  {
   "cell_type": "code",
   "execution_count": 33,
   "id": "022b812c",
   "metadata": {},
   "outputs": [],
   "source": [
    "@monitor_performance(max_execution_time=3.0)\n",
    "def process_bvn_verification(bvn_number):\n",
    "    \"\"\"Simulate BVN verification - often slow in Nigeria\"\"\"\n",
    "    print(f\"verifying BVN: {bvn_number}\")\n",
    "    time.sleep(2) # Simulate network delay\n",
    "    return f\"BVN {bvn_number} verified successfully\""
   ]
  },
  {
   "cell_type": "code",
   "execution_count": 36,
   "id": "dca1c6d0",
   "metadata": {},
   "outputs": [],
   "source": [
    "@monitor_performance(max_execution_time=1.0)\n",
    "def calculate_fuel_subsidy(liters, pump_price):\n",
    "    \"\"\"Calculate fuel subsidy - should be fast\"\"\"\n",
    "    subsidy_per_liter = 100\n",
    "    total_subsidy = liters * subsidy_per_liter\n",
    "    time.sleep(0.5) # Small delay\n",
    "    return f\"Subsidy for {liters}L: ₦{total_subsidy:,}\""
   ]
  },
  {
   "cell_type": "code",
   "execution_count": 37,
   "id": "1fefe583",
   "metadata": {},
   "outputs": [
    {
     "name": "stdout",
     "output_type": "stream",
     "text": [
      "Starting process_bvn_verification...\n",
      "verifying BVN: 12345678901\n",
      "process_bvn_verification completed in 2.00s\n",
      "BVN 12345678901 verified successfully\n",
      "Starting calculate_fuel_subsidy...\n",
      "calculate_fuel_subsidy completed in 0.50s\n",
      "Subsidy for 50L: ₦5,000\n"
     ]
    }
   ],
   "source": [
    "# Test the decorated functions\n",
    "print(process_bvn_verification(\"12345678901\"))\n",
    "print(calculate_fuel_subsidy(50, 617))"
   ]
  },
  {
   "cell_type": "code",
   "execution_count": 38,
   "id": "9f140aed",
   "metadata": {},
   "outputs": [],
   "source": [
    "# _more example_5"
   ]
  },
  {
   "cell_type": "code",
   "execution_count": 57,
   "id": "8c7fab25",
   "metadata": {},
   "outputs": [],
   "source": [
    "# Authorization Decorator for Government Systems\n",
    "def require_authorization(required_level):\n",
    "    \"\"\"Decorator for Nigerian government office authorization\"\"\"\n",
    "    def decorator(func):\n",
    "        def wrapper(*args, **kwargs):\n",
    "            # In real app, you'd get this from session/token\n",
    "            user_level = kwargs.get('user_level', 'citizen')\n",
    "\n",
    "            authorization_hierarchy = {\n",
    "                'citizen': 1,\n",
    "                'local_govt_staff': 2,\n",
    "                'state_govt_staff': 3,\n",
    "                'federal_govt_staff': 4,\n",
    "                'minister': 5\n",
    "            }\n",
    "\n",
    "            user_auth_level = authorization_hierarchy.get(user_level, 0)\n",
    "            print(\"user_auth_level\", user_auth_level)\n",
    "            required_auth_level = authorization_hierarchy.get(required_level, 0)\n",
    "            print(\"require_auth_level\", required_auth_level)\n",
    "\n",
    "            if user_auth_level < required_auth_level:\n",
    "                return f\"Access Denied! {required_level} clearance required. you have {user_level} clearance.\"\n",
    "\n",
    "            print(f\"Access granted to {user_level}\")\n",
    "            return func(*args, **kwargs)\n",
    "\n",
    "        return wrapper\n",
    "    return decorator"
   ]
  },
  {
   "cell_type": "code",
   "execution_count": 58,
   "id": "e6e6c1fa",
   "metadata": {},
   "outputs": [],
   "source": [
    "@require_authorization('local_govt_staff')\n",
    "def issue_certificate_of_occupancy(applicant_name, plot_number, user_level=None):\n",
    "    \"\"\"Issue C of O - requires local government staff clearance\"\"\"\n",
    "    return f\"Certificate of Occupancy issued to {applicant_name} for plot {plot_number}\""
   ]
  },
  {
   "cell_type": "code",
   "execution_count": 59,
   "id": "7a32b867",
   "metadata": {},
   "outputs": [],
   "source": [
    "@require_authorization('state_govt_staff')\n",
    "def approve_building_permit(applicant_name, building_type, user_level=None):\n",
    "    \"\"\"Approve building permit - requires state government clearance\"\"\"\n",
    "    return f\"Building permit approved for {applicant_name}'s {building_type}\""
   ]
  },
  {
   "cell_type": "code",
   "execution_count": 60,
   "id": "37e2c1d4",
   "metadata": {},
   "outputs": [],
   "source": [
    "@require_authorization('federal_govt_staff')\n",
    "def process_international_passport(applicant_name, user_level=None):\n",
    "    \"\"\"Process passport - requires federal clearance\"\"\"\n",
    "    return f\"International passport processed for {applicant_name}\""
   ]
  },
  {
   "cell_type": "code",
   "execution_count": 61,
   "id": "b14aec2c",
   "metadata": {},
   "outputs": [
    {
     "name": "stdout",
     "output_type": "stream",
     "text": [
      "user_auth_level 1\n",
      "require_auth_level 2\n",
      "Access Denied! local_govt_staff clearance required. you have citizen clearance.\n",
      "user_auth_level 2\n",
      "require_auth_level 2\n",
      "Access granted to local_govt_staff\n",
      "Certificate of Occupancy issued to Aderonke Esther for plot Plot 123\n",
      "user_auth_level 2\n",
      "require_auth_level 3\n",
      "Access Denied! state_govt_staff clearance required. you have local_govt_staff clearance.\n",
      "user_auth_level 3\n",
      "require_auth_level 3\n",
      "Access granted to state_govt_staff\n",
      "Building permit approved for Elizbeth Mariam's Duplex\n",
      "user_auth_level 3\n",
      "require_auth_level 4\n",
      "Access Denied! federal_govt_staff clearance required. you have state_govt_staff clearance.\n",
      "user_auth_level 4\n",
      "require_auth_level 4\n",
      "Access granted to federal_govt_staff\n",
      "International passport processed for Marcus Rashford\n"
     ]
    }
   ],
   "source": [
    "# Testing with different user levels\n",
    "print(issue_certificate_of_occupancy(\"Aderonke Esther\", \"Plot 123\", user_level = \"citizen\"))\n",
    "print(issue_certificate_of_occupancy(\"Aderonke Esther\", \"Plot 123\", user_level = \"local_govt_staff\"))\n",
    "print(approve_building_permit(\"Elizbeth Mariam\", \"Duplex\", user_level=\"local_govt_staff\"))\n",
    "print(approve_building_permit(\"Elizbeth Mariam\", \"Duplex\", user_level=\"state_govt_staff\"))\n",
    "print(process_international_passport(\"Marcus Rashford\", user_level=\"state_govt_staff\"))\n",
    "print(process_international_passport(\"Marcus Rashford\", user_level=\"federal_govt_staff\"))"
   ]
  },
  {
   "cell_type": "code",
   "execution_count": 62,
   "id": "c42c64d7",
   "metadata": {},
   "outputs": [],
   "source": [
    "# _more example_6"
   ]
  },
  {
   "cell_type": "code",
   "execution_count": 2,
   "id": "ca04eacc",
   "metadata": {},
   "outputs": [],
   "source": [
    "# Retry Decorator for Unreliable Nigerian Services\n",
    "\n",
    "import random\n",
    "import time\n",
    "\n",
    "def retry_on_failure(max_attempts=3, delay=1, exceptions=(Exception,)):\n",
    "    \"\"\"Decorator to retry failed operations - perfect for Nigerian internet/power issues\"\"\"\n",
    "    def decorator(func):\n",
    "        def wrapper(*args, **kwargs):\n",
    "            last_exception = None\n",
    "\n",
    "            for attempt in range(1, max_attempts + 1):\n",
    "                try:\n",
    "                    print(f\"Attempt {attempt}/{max_attempt} for {func.__name__}\")\n",
    "                    result = func(*args, **kwargs)\n",
    "                    if attempt > 1:\n",
    "                        print(f\"Success on attempt {attempt}!\")\n",
    "                    return result\n",
    "\n",
    "                except exceptions as e:\n",
    "                    last_exception = e\n",
    "                    print(f\"Attempt {attempt} failed: {e}\")\n",
    "\n",
    "                    if attempt < max_attempts:\n",
    "                        print(f\"Waiting {delay} seconds before retry...\")\n",
    "                        time.sleep(delay)\n",
    "                    else:\n",
    "                        print(f\"All {max_attempts} attempts failed!\")\n",
    "            raise last_exception\n",
    "        return wrapper\n",
    "    return decorator"
   ]
  },
  {
   "cell_type": "code",
   "execution_count": 3,
   "id": "92048640",
   "metadata": {},
   "outputs": [],
   "source": [
    "@retry_on_failure(max_attempts = 3, delay=2)\n",
    "def transfer_money_online(sender, recipient, amount):\n",
    "    \"\"\"Simulate online money transfer - often fails due to network issues\"\"\"\n",
    "    # Simulate random failures (common in Nigeria)\n",
    "    if random.random() < 0.7: # 70% chance of failure\n",
    "        failures = [\n",
    "            \"Network timeout - please try again\",\n",
    "            \"Bank server unavailable\",\n",
    "            \"Transaction decline by issuer\",\n",
    "            \"Service temporarily unavailable\"\n",
    "        ]\n",
    "        raise Exception(random.choice(failures))\n",
    "    \n",
    "    return f\"₦{amount:,} successfully tranferred from {sender} to {recipient}\""
   ]
  },
  {
   "cell_type": "code",
   "execution_count": 4,
   "id": "bbce9f36",
   "metadata": {},
   "outputs": [],
   "source": [
    "@retry_on_failure(max_attempts=4, delay=1.5)\n",
    "def check_jamb_result(jamb_reg_number):\n",
    "    \"\"\"Check JAMB - JAMB website often crashes during result season\"\"\"\n",
    "    if random.random() < 0.8: # 80% chances of failure (JAMB website reality!)\n",
    "        failures = [\n",
    "            \"JAMB portal overloaded - too many requests\",\n",
    "            \"Database connectiion error\",\n",
    "            \"Server maintenance in progress\",\n",
    "            \"Your session has expired\"\n",
    "        ]\n",
    "        raise Exception(random.choice(failures))\n",
    "    \n",
    "    return f\"JAMB Result for {jamb_reg_number}: Score: 298/400 - Excellent!\""
   ]
  },
  {
   "cell_type": "code",
   "execution_count": 6,
   "id": "bc67ae8b",
   "metadata": {},
   "outputs": [
    {
     "name": "stdout",
     "output_type": "stream",
     "text": [
      "Attempt 1 failed: name 'max_attempt' is not defined\n",
      "Waiting 2 seconds before retry...\n",
      "Attempt 2 failed: name 'max_attempt' is not defined\n",
      "Waiting 2 seconds before retry...\n",
      "Attempt 3 failed: name 'max_attempt' is not defined\n",
      "All 3 attempts failed!\n",
      "Final failure: name 'max_attempt' is not defined\n",
      "\n",
      "==================================================\n",
      "\n",
      "Attempt 1 failed: name 'max_attempt' is not defined\n",
      "Waiting 1.5 seconds before retry...\n",
      "Attempt 2 failed: name 'max_attempt' is not defined\n",
      "Waiting 1.5 seconds before retry...\n",
      "Attempt 3 failed: name 'max_attempt' is not defined\n",
      "Waiting 1.5 seconds before retry...\n",
      "Attempt 4 failed: name 'max_attempt' is not defined\n",
      "All 4 attempts failed!\n",
      "Final failure: name 'max_attempt' is not defined\n"
     ]
    }
   ],
   "source": [
    "# Test the retry decorators\n",
    "try:\n",
    "    print(transfer_money_online(\"Adduni Olaleye\", \"Emeka\", 5000))\n",
    "except Exception as e:\n",
    "    print(f\"Final failure: {e}\")\n",
    "\n",
    "print(\"\\n\" + \"=\"*50 + \"\\n\")\n",
    "\n",
    "try:\n",
    "    print(check_jamb_result(\"12345678CF\"))\n",
    "except Exception as e:\n",
    "    print(f\"Final failure: {e}\")"
   ]
  },
  {
   "cell_type": "code",
   "execution_count": 7,
   "id": "f60cc919",
   "metadata": {},
   "outputs": [],
   "source": [
    "# _more example_7"
   ]
  },
  {
   "cell_type": "code",
   "execution_count": null,
   "id": "7d3b007c",
   "metadata": {},
   "outputs": [],
   "source": [
    "class GradeValidator:\n",
    "    \"\"\"Class-based decorator for validating grading systems\"\"\"\n",
    "\n",
    "    def __init__(self, min_score=0, max_score=100):\n",
    "        self.min_score = min_score\n",
    "        self.max_score = max_score\n",
    "    \n",
    "    def __call__(self, func):\n",
    "        def wrapper(*args, **kwargs):\n",
    "            # Get the score from arguments\n",
    "            if args:\n",
    "                score = args[0] if isinstance(args[0], (int, float)) else None\n",
    "            else:\n",
    "                score = kwargs.get('score')\n",
    "\n",
    "            if score is not None:\n",
    "                if not (self.min_score <= score <= self.max_score):\n",
    "                    return f\"Invalid score: {score}. Must be between {self.min_score} and {self.max_score}\"\n",
    "            return func(*args, **kwargs)\n",
    "        return wrapper"
   ]
  },
  {
   "cell_type": "code",
   "execution_count": null,
   "id": "d4ae834d",
   "metadata": {},
   "outputs": [],
   "source": []
  }
 ],
 "metadata": {
  "kernelspec": {
   "display_name": "_data_evn",
   "language": "python",
   "name": "python3"
  },
  "language_info": {
   "codemirror_mode": {
    "name": "ipython",
    "version": 3
   },
   "file_extension": ".py",
   "mimetype": "text/x-python",
   "name": "python",
   "nbconvert_exporter": "python",
   "pygments_lexer": "ipython3",
   "version": "3.13.5"
  }
 },
 "nbformat": 4,
 "nbformat_minor": 5
}
