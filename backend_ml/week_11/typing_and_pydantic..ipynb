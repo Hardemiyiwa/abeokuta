{
 "cells": [
  {
   "cell_type": "markdown",
   "id": "ed8fa1c2",
   "metadata": {},
   "source": [
    "### **Python Typing**"
   ]
  },
  {
   "cell_type": "markdown",
   "id": "7cfd0752",
   "metadata": {},
   "source": [
    "Typing deals with data types like int, float, bool, str - these are the basic or primitive types and also data structure like list, tuple, dict, set - these are the collection types.\n",
    "\n",
    "Now, typing is a system that lets you explicitly state what types(or combination of types) your variables, function arguments and return values should be.\n",
    "\n",
    "But you need to know that typing extends a bit more. it is more about decribing the shape of your data and how it flows through your program."
   ]
  },
  {
   "cell_type": "code",
   "execution_count": 3,
   "id": "57241952",
   "metadata": {},
   "outputs": [],
   "source": [
    "# example\n",
    "\n",
    "def get_fellows_names(fellow: list[str]) -> list[str]:\n",
    "    return fellow"
   ]
  },
  {
   "cell_type": "markdown",
   "id": "9b175241",
   "metadata": {},
   "source": [
    "`(fellow: list[str])` - type of input the function should accept.\n",
    "\n",
    "`-> list[str]` - type of output you should expect\n",
    "\n",
    "The function is saying that fellow must be a list, not just any list, by a list of strings.\n",
    "\n",
    "So in summary, typing is about using data types and data structure to define rules and expectations for our program.\n",
    "\n",
    "`names: list[str] = [\"Esther\", \"Peter\", \"David\"]`\n",
    "\n",
    "- Meaning that every value in the list should be strings\n",
    "\n",
    "so the function will not accept this\n",
    "\n",
    "`names = [\"Esther\", 22, True]` The reason is because it mixes different types(str, int, bool)"
   ]
  },
  {
   "cell_type": "code",
   "execution_count": 1,
   "id": "2970b18a",
   "metadata": {},
   "outputs": [],
   "source": [
    "def get_average(name: str, scores: list[float]) -> float:\n",
    "    average_score = sum(scores)/len(scores)\n",
    "    print(f\"{name}'s average score is {average_score}\")\n",
    "    return average_score"
   ]
  },
  {
   "cell_type": "markdown",
   "id": "6e2a8973",
   "metadata": {},
   "source": [
    "`name: str` - The parameter name must be a string\n",
    "\n",
    "`scores: list[int]` - The argument scores must be list containing integers.\n",
    "\n",
    "-> float - The function must return a floating point number"
   ]
  },
  {
   "cell_type": "code",
   "execution_count": 4,
   "id": "566d9d4d",
   "metadata": {},
   "outputs": [],
   "source": [
    "def greet(name: str) -> None:\n",
    "    print(f\"Hello, {name}\")"
   ]
  },
  {
   "cell_type": "markdown",
   "id": "26bf8278",
   "metadata": {},
   "source": [
    "This function `prints` something, buh it doesn't return anything with a return statement, So its \"return type\" is `None`."
   ]
  },
  {
   "cell_type": "code",
   "execution_count": 5,
   "id": "139df606",
   "metadata": {},
   "outputs": [],
   "source": [
    "def add(a: int, b: int) -> int:\n",
    "    return a + b"
   ]
  },
  {
   "cell_type": "markdown",
   "id": "235ff28e",
   "metadata": {},
   "source": [
    "**Typing module**"
   ]
  },
  {
   "cell_type": "markdown",
   "id": "d12c9a6a",
   "metadata": {},
   "source": [
    "The typing module is part of Python's standard library.\n",
    "\n",
    "It provides tools called **type hints** that let you describe what kind of data your variables, functions and classes work with especially when things get more complicated."
   ]
  },
  {
   "cell_type": "markdown",
   "id": "8dac71b0",
   "metadata": {},
   "source": [
    "**How to use typing**"
   ]
  },
  {
   "cell_type": "code",
   "execution_count": 6,
   "id": "23c582ff",
   "metadata": {},
   "outputs": [],
   "source": [
    "from typing import List, Dict, Union, Optional"
   ]
  },
  {
   "cell_type": "code",
   "execution_count": 7,
   "id": "3332b162",
   "metadata": {},
   "outputs": [],
   "source": [
    "# lets try out an example\n",
    "\n",
    "from typing import List, Dict, Union, Optional\n",
    "\n",
    "def process_score(\n",
    "        scores: List[int],\n",
    "        info: Dict[str, Union[int,float]],\n",
    "        comment: Optional[str] = None) -> None:\n",
    "    print(\"Scores:\", scores)\n",
    "    print(\"Info:\",info)\n",
    "    if comment:\n",
    "        print(\"Comment:\", comment)"
   ]
  },
  {
   "cell_type": "markdown",
   "id": "ca4125ec",
   "metadata": {},
   "source": [
    "**Union**\n",
    "\n",
    "Union is used when a variable or argument can hold more than one possible type. lets say you have a function that accepts either an integer or a string as an ID"
   ]
  },
  {
   "cell_type": "code",
   "execution_count": 8,
   "id": "96b5482f",
   "metadata": {},
   "outputs": [],
   "source": [
    "from typing import Union\n",
    "def get_fellow_id(id: Union[int, str]) -> str:\n",
    "    return f\"fellow ID: {id}\""
   ]
  },
  {
   "cell_type": "code",
   "execution_count": 9,
   "id": "2167e7c8",
   "metadata": {},
   "outputs": [
    {
     "name": "stdout",
     "output_type": "stream",
     "text": [
      "fellow ID: 42\n",
      "fellow ID: 42\n"
     ]
    }
   ],
   "source": [
    "print(get_fellow_id(42))\n",
    "print(get_fellow_id(\"42\"))"
   ]
  },
  {
   "cell_type": "code",
   "execution_count": 10,
   "id": "2f644619",
   "metadata": {},
   "outputs": [
    {
     "name": "stdout",
     "output_type": "stream",
     "text": [
      "fellow ID: 42.0\n"
     ]
    }
   ],
   "source": [
    "#  lets try ging it float\n",
    "\n",
    "print(get_fellow_id(42.0)) # Our IDE will flag it because it is not a string/int"
   ]
  },
  {
   "cell_type": "markdown",
   "id": "be835853",
   "metadata": {},
   "source": [
    "if you like ... you can decide to chain two or more types `Union[int, float, str]`\n",
    "\n",
    "But you should keep it simple and not complicate matters."
   ]
  },
  {
   "cell_type": "code",
   "execution_count": 11,
   "id": "696e15b1",
   "metadata": {},
   "outputs": [],
   "source": [
    "# Instead of union you can use pipe \"|\" \n",
    "\n",
    "def get_fellow_id(id: int | str) -> str:\n",
    "    return f\"fellow ID: {id}\"\n",
    "\n",
    "# same as\n",
    "\n",
    "def get_fellow_id(id: Union[int, str]) -> str:\n",
    "    return f\"fellow ID: {id}\""
   ]
  },
  {
   "cell_type": "code",
   "execution_count": 13,
   "id": "fb991873",
   "metadata": {},
   "outputs": [],
   "source": [
    "from typing import Union\n",
    "\n",
    "def format_address(house_number: Union[int, str], street: str):\n",
    "    return f\"{house_number} {street}\""
   ]
  },
  {
   "cell_type": "code",
   "execution_count": 17,
   "id": "5c0b6eb2",
   "metadata": {},
   "outputs": [
    {
     "name": "stdout",
     "output_type": "stream",
     "text": [
      "23 Ajelogo Street\n",
      "23B Ajelogo Street\n"
     ]
    }
   ],
   "source": [
    "print(format_address(23, \"Ajelogo Street\")) # 23 Ajelogo Street\n",
    "print(format_address(\"23B\", \"Ajelogo Street\")) # 23B Ajelogo Street"
   ]
  },
  {
   "cell_type": "markdown",
   "id": "4803b440",
   "metadata": {},
   "source": [
    "**Optional**\n",
    "\n",
    "Sometimes you don't just have \"this or that\", you have \"this or nothing\".\n",
    "\n",
    "This is where `Optional` comes in.\n",
    "\n",
    "Optional is just a shorthand for a very common Union case:\n",
    "\n",
    "`Optiona[X] == Union[x, None]`\n",
    "\n",
    "`option[str] # This means the value can string or \"None\" (nothing)`\n",
    "\n",
    "Now, in a real project, it is common to have parameters or fields that are not always provided.\n",
    "\n",
    "for example,\n",
    "\n",
    "- A user might have a middle name or might not\n",
    "- An API request might include a comment, or might leave it blank\n",
    "\n",
    "This is what optional expresses"
   ]
  },
  {
   "cell_type": "code",
   "execution_count": 18,
   "id": "bc7e95f5",
   "metadata": {},
   "outputs": [],
   "source": [
    "from typing import Optional\n",
    "\n",
    "def greet(first_name: str, last_name: Optional[str] = None) -> None:\n",
    "    if last_name:\n",
    "        print(f\"Hello {first_name} {last_name}\")\n",
    "    else:\n",
    "        print(f\"Hello {first_name}\")"
   ]
  },
  {
   "cell_type": "code",
   "execution_count": 19,
   "id": "53473ee0",
   "metadata": {},
   "outputs": [
    {
     "name": "stdout",
     "output_type": "stream",
     "text": [
      "Hello Toyeebat Arike\n",
      "Hello Toyeebat\n"
     ]
    }
   ],
   "source": [
    "greet(\"Toyeebat\", \"Arike\")\n",
    "greet(\"Toyeebat\")"
   ]
  },
  {
   "cell_type": "markdown",
   "id": "91be913e",
   "metadata": {},
   "source": [
    "The last_name parameter can be string or None.\n",
    "\n",
    "By default, we set it to None if the user doesn't supply one"
   ]
  },
  {
   "cell_type": "code",
   "execution_count": 20,
   "id": "23b64ca9",
   "metadata": {},
   "outputs": [],
   "source": [
    "def find_user(username: str) -> Optional[dict]:\n",
    "    if username == \"admin\":\n",
    "        return {\"username\": \"admin\", \"role\": \"superuser\"}\n",
    "    return None"
   ]
  },
  {
   "cell_type": "markdown",
   "id": "932e1053",
   "metadata": {},
   "source": [
    "The function returns a dictionary if the user exists.\n",
    "\n",
    "If not, it returns None.\n",
    "\n",
    "That's exactly what Optional describes."
   ]
  },
  {
   "cell_type": "code",
   "execution_count": 21,
   "id": "51118c63",
   "metadata": {},
   "outputs": [
    {
     "data": {
      "text/plain": [
       "{'username': 'admin', 'role': 'superuser'}"
      ]
     },
     "execution_count": 21,
     "metadata": {},
     "output_type": "execute_result"
    }
   ],
   "source": [
    "find_user(\"admin\")"
   ]
  },
  {
   "cell_type": "markdown",
   "id": "973350a5",
   "metadata": {},
   "source": [
    "**typed collection**\n",
    "- Starting with `dict` and `tuple`. These are quite important because when we get to Pydantic models and FastAPI, we will use them to describe structured data."
   ]
  },
  {
   "cell_type": "markdown",
   "id": "a599a738",
   "metadata": {},
   "source": [
    "`Dict` - **typed dictionary**"
   ]
  },
  {
   "cell_type": "markdown",
   "id": "adecd8ff",
   "metadata": {},
   "source": [
    "`Dict[K, V]` described a dictionary where\n",
    "- `K` - type of the keys\n",
    "\n",
    "- `V` - type of the values\n",
    "\n",
    "- This is takes the **kwargs argument"
   ]
  },
  {
   "cell_type": "code",
   "execution_count": 26,
   "id": "af887ebb",
   "metadata": {},
   "outputs": [],
   "source": [
    "from typing import Dict\n",
    "\n",
    "fellow_scores: Dict[str, int] = {\n",
    "    \"David\": 89,\n",
    "    \"Micheal\": 98\n",
    "}"
   ]
  },
  {
   "cell_type": "markdown",
   "id": "ae3a211a",
   "metadata": {},
   "source": [
    "This means that every key is a string and every value is an integer. The IDE will flag it if you decide to add a string as value"
   ]
  },
  {
   "cell_type": "markdown",
   "id": "e7da135d",
   "metadata": {},
   "source": [
    "`Tuple` **Typed Tuples**"
   ]
  },
  {
   "cell_type": "markdown",
   "id": "86566160",
   "metadata": {},
   "source": [
    "A tuple is like a small fixed-sized list, but we can define exactly what type each position should have."
   ]
  },
  {
   "cell_type": "code",
   "execution_count": 28,
   "id": "83216456",
   "metadata": {},
   "outputs": [],
   "source": [
    "from typing import Tuple\n",
    "\n",
    "fellow: Tuple[str, int, str] = (\"Perpetual\",88,\"AI Engineering\")"
   ]
  },
  {
   "cell_type": "markdown",
   "id": "3e7b771f",
   "metadata": {},
   "source": [
    "This means that position 0 takes on string, 1 takes on int while 2 takes on strings also. And it will be flagged if interchanged."
   ]
  },
  {
   "cell_type": "code",
   "execution_count": 29,
   "id": "0c5330ce",
   "metadata": {},
   "outputs": [],
   "source": [
    "def ai_fellow(fellow: Tuple[str, int]) -> str:\n",
    "    name, score = fellow\n",
    "    return f\"{name} scored {score} in the last exam.\""
   ]
  },
  {
   "cell_type": "markdown",
   "id": "fd4d5790",
   "metadata": {},
   "source": [
    "**Pydantic**"
   ]
  },
  {
   "cell_type": "markdown",
   "id": "5d86c2da",
   "metadata": {},
   "source": [
    "Pydantic like typing is used to build a structured, type-safe data models. It uses these type hint to validate, serialize, parse and structure data automatically.\n",
    "\n",
    "In simple terms, it takes messy or untrusted data like API input, JSON or form data and checks that it matches your type definitions.\n",
    "\n",
    "Now if the data type doesnt match, pydantic raises an error with a clear explanation."
   ]
  },
  {
   "cell_type": "markdown",
   "id": "a3971114",
   "metadata": {},
   "source": [
    "**Using pydantic**"
   ]
  },
  {
   "cell_type": "markdown",
   "id": "5885cf66",
   "metadata": {},
   "source": [
    "You can `pip install pydantic` but if you already installed `fastapi` that means you have it already."
   ]
  },
  {
   "cell_type": "code",
   "execution_count": 7,
   "id": "bbbe3c8a",
   "metadata": {},
   "outputs": [],
   "source": [
    "# importing pdantic\n",
    "from pydantic import BaseModel"
   ]
  },
  {
   "cell_type": "markdown",
   "id": "03ba919d",
   "metadata": {},
   "source": [
    "`BaseModel` - This is the core class in pydantic that all our models inherit from\n",
    "\n",
    "- It gives your class the superpowers that makes pydantic useful. It handles core concept like;\n",
    "- data validation\n",
    "- automatic type conversion\n",
    "- error reporting\n",
    "- serialization/ deserialization\n",
    "- schema generation - this one is heavilty used in FastAPI"
   ]
  },
  {
   "cell_type": "code",
   "execution_count": 8,
   "id": "1a3eeee9",
   "metadata": {},
   "outputs": [],
   "source": [
    "#  Lets create a pydantic data model\n",
    "class Fellow(BaseModel):\n",
    "    name: str\n",
    "    score: int\n",
    "    track: str"
   ]
  },
  {
   "cell_type": "markdown",
   "id": "f95855a4",
   "metadata": {},
   "source": [
    "These data model knows\n",
    "\n",
    "- What field it has (`name`, `score`, `track`)\n",
    "- What types those field should be (`str`, `int`, `str`)\n",
    "- how to check and clean input data\n",
    "- how to output itsself as clean, structured data(`dict`, `json`, e.t.c)"
   ]
  },
  {
   "cell_type": "markdown",
   "id": "24220b0d",
   "metadata": {},
   "source": [
    "**What is `BaseModel` Capable of**"
   ]
  },
  {
   "cell_type": "code",
   "execution_count": 9,
   "id": "d4212f1c",
   "metadata": {},
   "outputs": [
    {
     "data": {
      "text/plain": [
       "Fellow(name='Perpetual', score=88, track='AI Engineering')"
      ]
     },
     "execution_count": 9,
     "metadata": {},
     "output_type": "execute_result"
    }
   ],
   "source": [
    "# 1. Validation - It automatically validate data passed to it\n",
    "\n",
    "Fellow(name=\"Perpetual\", score=88, track=\"AI Engineering\")  # This will work fine"
   ]
  },
  {
   "cell_type": "code",
   "execution_count": 10,
   "id": "baa1ce23",
   "metadata": {},
   "outputs": [
    {
     "ename": "ValidationError",
     "evalue": "1 validation error for Fellow\nscore\n  Input should be a valid integer, unable to parse string as an integer [type=int_parsing, input_value='eighty-seven', input_type=str]\n    For further information visit https://errors.pydantic.dev/2.12/v/int_parsing",
     "output_type": "error",
     "traceback": [
      "\u001b[31m---------------------------------------------------------------------------\u001b[39m",
      "\u001b[31mValidationError\u001b[39m                           Traceback (most recent call last)",
      "\u001b[36mCell\u001b[39m\u001b[36m \u001b[39m\u001b[32mIn[10]\u001b[39m\u001b[32m, line 1\u001b[39m\n\u001b[32m----> \u001b[39m\u001b[32m1\u001b[39m \u001b[43mFellow\u001b[49m\u001b[43m(\u001b[49m\u001b[43mname\u001b[49m\u001b[43m=\u001b[49m\u001b[33;43m\"\u001b[39;49m\u001b[33;43mPerpetual\u001b[39;49m\u001b[33;43m\"\u001b[39;49m\u001b[43m,\u001b[49m\u001b[43m \u001b[49m\u001b[43mscore\u001b[49m\u001b[43m=\u001b[49m\u001b[33;43m\"\u001b[39;49m\u001b[33;43meighty-seven\u001b[39;49m\u001b[33;43m\"\u001b[39;49m\u001b[43m,\u001b[49m\u001b[43m \u001b[49m\u001b[43mtrack\u001b[49m\u001b[43m=\u001b[49m\u001b[33;43m\"\u001b[39;49m\u001b[33;43mAI Engineering\u001b[39;49m\u001b[33;43m\"\u001b[39;49m\u001b[43m)\u001b[49m \u001b[38;5;66;03m# This will raise an error\u001b[39;00m\n",
      "\u001b[36mFile \u001b[39m\u001b[32mc:\\Users\\personal\\Desktop\\abeokuta\\_data_evn\\Lib\\site-packages\\pydantic\\main.py:250\u001b[39m, in \u001b[36mBaseModel.__init__\u001b[39m\u001b[34m(self, **data)\u001b[39m\n\u001b[32m    248\u001b[39m \u001b[38;5;66;03m# `__tracebackhide__` tells pytest and some other tools to omit this function from tracebacks\u001b[39;00m\n\u001b[32m    249\u001b[39m __tracebackhide__ = \u001b[38;5;28;01mTrue\u001b[39;00m\n\u001b[32m--> \u001b[39m\u001b[32m250\u001b[39m validated_self = \u001b[38;5;28;43mself\u001b[39;49m\u001b[43m.\u001b[49m\u001b[43m__pydantic_validator__\u001b[49m\u001b[43m.\u001b[49m\u001b[43mvalidate_python\u001b[49m\u001b[43m(\u001b[49m\u001b[43mdata\u001b[49m\u001b[43m,\u001b[49m\u001b[43m \u001b[49m\u001b[43mself_instance\u001b[49m\u001b[43m=\u001b[49m\u001b[38;5;28;43mself\u001b[39;49m\u001b[43m)\u001b[49m\n\u001b[32m    251\u001b[39m \u001b[38;5;28;01mif\u001b[39;00m \u001b[38;5;28mself\u001b[39m \u001b[38;5;129;01mis\u001b[39;00m \u001b[38;5;129;01mnot\u001b[39;00m validated_self:\n\u001b[32m    252\u001b[39m     warnings.warn(\n\u001b[32m    253\u001b[39m         \u001b[33m'\u001b[39m\u001b[33mA custom validator is returning a value other than `self`.\u001b[39m\u001b[38;5;130;01m\\n\u001b[39;00m\u001b[33m'\u001b[39m\n\u001b[32m    254\u001b[39m         \u001b[33m\"\u001b[39m\u001b[33mReturning anything other than `self` from a top level model validator isn\u001b[39m\u001b[33m'\u001b[39m\u001b[33mt supported when validating via `__init__`.\u001b[39m\u001b[38;5;130;01m\\n\u001b[39;00m\u001b[33m\"\u001b[39m\n\u001b[32m    255\u001b[39m         \u001b[33m'\u001b[39m\u001b[33mSee the `model_validator` docs (https://docs.pydantic.dev/latest/concepts/validators/#model-validators) for more details.\u001b[39m\u001b[33m'\u001b[39m,\n\u001b[32m    256\u001b[39m         stacklevel=\u001b[32m2\u001b[39m,\n\u001b[32m    257\u001b[39m     )\n",
      "\u001b[31mValidationError\u001b[39m: 1 validation error for Fellow\nscore\n  Input should be a valid integer, unable to parse string as an integer [type=int_parsing, input_value='eighty-seven', input_type=str]\n    For further information visit https://errors.pydantic.dev/2.12/v/int_parsing"
     ]
    }
   ],
   "source": [
    "Fellow(name=\"Perpetual\", score=\"eighty-seven\", track=\"AI Engineering\") # This will raise an error"
   ]
  },
  {
   "cell_type": "code",
   "execution_count": null,
   "id": "3f27c26b",
   "metadata": {},
   "outputs": [
    {
     "name": "stdout",
     "output_type": "stream",
     "text": [
      "<class 'int'>\n"
     ]
    }
   ],
   "source": [
    "# 2. parsing and type conversion - It automatically converts comvertible types\n",
    "# It reads and interprete data\n",
    "\n",
    "p = Fellow(name=\"Perpetual\", score=\"88\", track=\"AI Engineering\")\n",
    "print(type(p.score))"
   ]
  },
  {
   "cell_type": "markdown",
   "id": "78896b45",
   "metadata": {},
   "source": [
    "This is telling us that the compatible class is int and not string as we have define above."
   ]
  },
  {
   "cell_type": "code",
   "execution_count": null,
   "id": "b67a5fb5",
   "metadata": {},
   "outputs": [
    {
     "name": "stdout",
     "output_type": "stream",
     "text": [
      "name='blessing' score=100 track='AI Engineering'\n",
      "<class 'int'>\n"
     ]
    }
   ],
   "source": [
    "# an incomming data\n",
    "data = {\"name\":\"blessing\", \"score\":\"100\", \"track\": \"AI Engineering\"}\n",
    "\n",
    "# pydantic will parse it like this\n",
    "fellow = Fellow(**data)\n",
    "print(fellow)\n",
    "print(type(fellow.score))"
   ]
  },
  {
   "cell_type": "code",
   "execution_count": null,
   "id": "33ea3a9a",
   "metadata": {},
   "outputs": [
    {
     "name": "stdout",
     "output_type": "stream",
     "text": [
      "{\"name\":\"Perpetual\",\"score\":88,\"track\":\"AI Engineering\"}\n"
     ]
    },
    {
     "name": "stderr",
     "output_type": "stream",
     "text": [
      "C:\\Users\\user234\\AppData\\Local\\Temp\\ipykernel_11232\\3166598483.py:3: PydanticDeprecatedSince20: The `json` method is deprecated; use `model_dump_json` instead. Deprecated in Pydantic V2.0 to be removed in V3.0. See Pydantic V2 Migration Guide at https://errors.pydantic.dev/2.12/migration/\n",
      "  print(p.json())\n"
     ]
    }
   ],
   "source": [
    "# 3. Serialization - It automatically converts data to Json or dictionary(converts to a format that can be stored or sent)\n",
    "# Itss more like packaging a data for output\n",
    "print(p.json())"
   ]
  },
  {
   "cell_type": "code",
   "execution_count": null,
   "id": "b8ad50c5",
   "metadata": {},
   "outputs": [
    {
     "name": "stdout",
     "output_type": "stream",
     "text": [
      "{'name': 'Perpetual', 'score': 88, 'track': 'AI Engineering'}\n"
     ]
    },
    {
     "name": "stderr",
     "output_type": "stream",
     "text": [
      "C:\\Users\\user234\\AppData\\Local\\Temp\\ipykernel_11232\\2898676942.py:1: PydanticDeprecatedSince20: The `dict` method is deprecated; use `model_dump` instead. Deprecated in Pydantic V2.0 to be removed in V3.0. See Pydantic V2 Migration Guide at https://errors.pydantic.dev/2.12/migration/\n",
      "  print(p.dict())\n"
     ]
    }
   ],
   "source": [
    "print(p.dict())"
   ]
  },
  {
   "cell_type": "code",
   "execution_count": null,
   "id": "7699cb6b",
   "metadata": {},
   "outputs": [],
   "source": [
    "# 4. Nesting  - Medels can be nested to create complex data structures\n",
    "\n",
    "class Address(BaseModel):\n",
    "    street: str\n",
    "    city: str\n",
    "    state: str\n",
    "    country: str\n",
    "\n",
    "class Fellow(BaseModel):\n",
    "    name: str\n",
    "    score: int\n",
    "    track: str\n",
    "    address: Address\n",
    "\n",
    "# Pydantic will validate this automatically"
   ]
  },
  {
   "cell_type": "code",
   "execution_count": null,
   "id": "5c82072e",
   "metadata": {},
   "outputs": [
    {
     "name": "stdout",
     "output_type": "stream",
     "text": [
      "name='Perpetual' score=88 track='AI Engineering' address=Address(street='Ajelogo Street', city='ketu', state='Lagos', country='Nigeria')\n"
     ]
    }
   ],
   "source": [
    "# lets pass this data\n",
    "data = {\n",
    "    \"name\": \"Perpetual\",\n",
    "    \"score\": 88,\n",
    "    \"track\": \"AI Engineering\",\n",
    "\n",
    "    \"address\": {\n",
    "        \"street\" : \"Ajelogo Street\",\n",
    "        \"city\": \"ketu\",\n",
    "        \"state\": \"Lagos\",\n",
    "        \"country\": \"Nigeria\"\n",
    "    }\n",
    "}\n",
    "\n",
    "# pydantic will parse it like this\n",
    "fellow = Fellow(**data)\n",
    "\n",
    "print(fellow)"
   ]
  },
  {
   "cell_type": "code",
   "execution_count": null,
   "id": "af429f71",
   "metadata": {},
   "outputs": [
    {
     "name": "stdout",
     "output_type": "stream",
     "text": [
      "Ajelogo Street\n"
     ]
    }
   ],
   "source": [
    "# you can easily access inner fields if you need to\n",
    "print(fellow.address.street)"
   ]
  },
  {
   "cell_type": "code",
   "execution_count": null,
   "id": "b56370c1",
   "metadata": {},
   "outputs": [
    {
     "name": "stdout",
     "output_type": "stream",
     "text": [
      "{'name': 'Perpetual', 'score': 88, 'track': 'AI Engineering', 'address': {'street': 'Ajelogo Street', 'city': 'ketu', 'state': 'Lagos', 'country': 'Nigeria'}}\n"
     ]
    },
    {
     "name": "stderr",
     "output_type": "stream",
     "text": [
      "C:\\Users\\user234\\AppData\\Local\\Temp\\ipykernel_11232\\956739212.py:1: PydanticDeprecatedSince20: The `dict` method is deprecated; use `model_dump` instead. Deprecated in Pydantic V2.0 to be removed in V3.0. See Pydantic V2 Migration Guide at https://errors.pydantic.dev/2.12/migration/\n",
      "  print(fellow.dict())\n"
     ]
    }
   ],
   "source": [
    "print(fellow.dict())"
   ]
  },
  {
   "cell_type": "code",
   "execution_count": null,
   "id": "06747d5e",
   "metadata": {},
   "outputs": [
    {
     "name": "stdout",
     "output_type": "stream",
     "text": [
      "{'name': 'Perpetual', 'score': 88, 'track': 'AI Engineering', 'address': {'street': 'Ajelogo Street', 'city': 'ketu', 'state': 'Lagos', 'country': 'Nigeria'}}\n"
     ]
    },
    {
     "name": "stderr",
     "output_type": "stream",
     "text": [
      "C:\\Users\\user234\\AppData\\Local\\Temp\\ipykernel_11232\\956739212.py:1: PydanticDeprecatedSince20: The `dict` method is deprecated; use `model_dump` instead. Deprecated in Pydantic V2.0 to be removed in V3.0. See Pydantic V2 Migration Guide at https://errors.pydantic.dev/2.12/migration/\n",
      "  print(fellow.dict())\n"
     ]
    }
   ],
   "source": [
    "print(fellow.dict())"
   ]
  },
  {
   "cell_type": "markdown",
   "id": "f40d385c",
   "metadata": {},
   "source": [
    "**A list Nested Models**"
   ]
  },
  {
   "cell_type": "markdown",
   "id": "985ac4f2",
   "metadata": {},
   "source": [
    "This makes sense, lets say you are using two addresses, yea?"
   ]
  },
  {
   "cell_type": "code",
   "execution_count": null,
   "id": "253c3f8c",
   "metadata": {},
   "outputs": [],
   "source": [
    "# So we can have something like this.... for a list of address\n",
    "# from typing import List\n",
    "from pydantic import BaseModel\n",
    "\n",
    "class Fellow(BaseModel):\n",
    "    name: str\n",
    "    score: int\n",
    "    track: str\n",
    "    addresses: List[Address]"
   ]
  },
  {
   "cell_type": "code",
   "execution_count": null,
   "id": "a68e0d8d",
   "metadata": {},
   "outputs": [
    {
     "name": "stdout",
     "output_type": "stream",
     "text": [
      "name='Perpetual' score=88 track='AI Engineering' addresses=[Address(street='Idoroko Road', city='Sango', state='Lagos', country='Nigeria'), Address(street='Kobape', city='Abeokuta', state='Ogun', country='Nigeria')]\n"
     ]
    }
   ],
   "source": [
    "data = {\n",
    "    \"name\": \"Perpetual\",\n",
    "    \"score\": 88,\n",
    "    \"track\": \"AI Engineering\",\n",
    "    \"addresses\": [\n",
    "        {\"street\": \"Idoroko Road\", \"city\": \"Sango\", \"state\": \"Lagos\",\n",
    "        \"country\": \"Nigeria\"},\n",
    "        {\"street\": \"Kobape\", \"city\": \"Abeokuta\", \"state\": \"Ogun\",\n",
    "        \"country\": \"Nigeria\"}\n",
    "    ]\n",
    "}\n",
    "\n",
    "fellow = Fellow(**data)\n",
    "print(fellow)"
   ]
  },
  {
   "cell_type": "code",
   "execution_count": null,
   "id": "9cf0a446",
   "metadata": {},
   "outputs": [
    {
     "name": "stdout",
     "output_type": "stream",
     "text": [
      "Sango\n",
      "Abeokuta\n"
     ]
    }
   ],
   "source": [
    "# Accessing the nested Items\n",
    "\n",
    "print(fellow.addresses[0].city)\n",
    "print(fellow.addresses[1].city)"
   ]
  },
  {
   "cell_type": "code",
   "execution_count": null,
   "id": "a9d87d90",
   "metadata": {},
   "outputs": [
    {
     "name": "stdout",
     "output_type": "stream",
     "text": [
      "{\"name\":\"Perpetual\",\"score\":88,\"track\":\"AI Engineering\",\"addresses\":[{\"street\":\"Idoroko Road\",\"city\":\"Sango\",\"state\":\"Lagos\",\"country\":\"Nigeria\"},{\"street\":\"Kobape\",\"city\":\"Abeokuta\",\"state\":\"Ogun\",\"country\":\"Nigeria\"}]}\n",
      "\n",
      "\n",
      "{'name': 'Perpetual', 'score': 88, 'track': 'AI Engineering', 'addresses': [{'street': 'Idoroko Road', 'city': 'Sango', 'state': 'Lagos', 'country': 'Nigeria'}, {'street': 'Kobape', 'city': 'Abeokuta', 'state': 'Ogun', 'country': 'Nigeria'}]}\n"
     ]
    }
   ],
   "source": [
    "# we can serialize if we want to\n",
    "\n",
    "# print(fellow.json())\n",
    "print(fellow.model_dump_json()) # use this instead\n",
    "print(\"\\n\")\n",
    "# print(fellow.dict())\n",
    "print(fellow.model_dump()) # use this instead"
   ]
  },
  {
   "cell_type": "markdown",
   "id": "10accdf7",
   "metadata": {},
   "source": [
    "**Understanding Validation**"
   ]
  },
  {
   "cell_type": "code",
   "execution_count": null,
   "id": "6be2fe9d",
   "metadata": {},
   "outputs": [
    {
     "name": "stdout",
     "output_type": "stream",
     "text": [
      "name='Micheal' score=-79 addresses=[Address(street='123 Marose St', city='Ikorodu'), Address(street='4 Babatude Ave', city='Abiola way')]\n"
     ]
    }
   ],
   "source": [
    "from typing import List\n",
    "from pydantic import BaseModel\n",
    "\n",
    "class Address(BaseModel):\n",
    "    street: str\n",
    "    city: str\n",
    "\n",
    "class Fellow(BaseModel):\n",
    "    name: str\n",
    "    score: int\n",
    "    addresses: List[Address]\n",
    "\n",
    "data = {\n",
    "    \"name\": \"Micheal\",\n",
    "    \"score\": -79,\n",
    "    \"addresses\": [\n",
    "        {\"street\": \"123 Marose St\", \"city\": \"Ikorodu\"},\n",
    "        {\"street\": \"4 Babatude Ave\", \"city\": \"Abiola way\"}\n",
    "    ]\n",
    "}\n",
    "\n",
    "fellow = Fellow(**data)\n",
    "print(fellow)"
   ]
  },
  {
   "cell_type": "markdown",
   "id": "4eb9ba8d",
   "metadata": {},
   "source": [
    "This works fine, but right now, any value for score is accepted, even somthing unrealistic like -79 score\n",
    "\n",
    "Let's fix that, we would do that by adding a `field level validation`\n",
    "\n",
    "Pydantic lets you add constraints directly to fields using the `Field` helper"
   ]
  },
  {
   "cell_type": "code",
   "execution_count": null,
   "id": "aea8eb47",
   "metadata": {},
   "outputs": [],
   "source": [
    "from pydantic import BaseModel, Field\n",
    "from typing import List\n",
    "\n",
    "class Address(BaseModel):\n",
    "    street: str\n",
    "    city: str\n",
    "\n",
    "class Fellow(BaseModel):\n",
    "    name: str\n",
    "    score: int = Field(..., ge=0, le=100) # using the field\n",
    "    addresses: List[Address]"
   ]
  },
  {
   "cell_type": "markdown",
   "id": "a91e209b",
   "metadata": {},
   "source": [
    "Here's what that means:\n",
    "`ge=0` -greater than or equal to 0\n",
    "\n",
    "`le=120` - less than or equal to 100\n",
    "\n",
    "The `...` means this field is required (it can't be missing)"
   ]
  },
  {
   "cell_type": "code",
   "execution_count": null,
   "id": "59ba41d5",
   "metadata": {},
   "outputs": [
    {
     "ename": "ValidationError",
     "evalue": "1 validation error for Fellow\nscore\n  Input should be greater than or equal to 0 [type=greater_than_equal, input_value=-40, input_type=int]\n    For further information visit https://errors.pydantic.dev/2.12/v/greater_than_equal",
     "output_type": "error",
     "traceback": [
      "\u001b[31m---------------------------------------------------------------------------\u001b[39m",
      "\u001b[31mValidationError\u001b[39m                           Traceback (most recent call last)",
      "\u001b[36mCell\u001b[39m\u001b[36m \u001b[39m\u001b[32mIn[51]\u001b[39m\u001b[32m, line 1\u001b[39m\n\u001b[32m----> \u001b[39m\u001b[32m1\u001b[39m \u001b[43mFellow\u001b[49m\u001b[43m(\u001b[49m\u001b[43mname\u001b[49m\u001b[43m=\u001b[49m\u001b[33;43m\"\u001b[39;49m\u001b[33;43mHassan\u001b[39;49m\u001b[33;43m\"\u001b[39;49m\u001b[43m,\u001b[49m\u001b[43m \u001b[49m\u001b[43mscore\u001b[49m\u001b[43m=\u001b[49m\u001b[43m-\u001b[49m\u001b[32;43m40\u001b[39;49m\u001b[43m,\u001b[49m\u001b[43m \u001b[49m\u001b[43maddresses\u001b[49m\u001b[43m=\u001b[49m\u001b[43m[\u001b[49m\u001b[43m]\u001b[49m\u001b[43m)\u001b[49m\n",
      "\u001b[36mFile \u001b[39m\u001b[32mc:\\Users\\user234\\Desktop\\abeokuta\\_data_env\\Lib\\site-packages\\pydantic\\main.py:250\u001b[39m, in \u001b[36mBaseModel.__init__\u001b[39m\u001b[34m(self, **data)\u001b[39m\n\u001b[32m    248\u001b[39m \u001b[38;5;66;03m# `__tracebackhide__` tells pytest and some other tools to omit this function from tracebacks\u001b[39;00m\n\u001b[32m    249\u001b[39m __tracebackhide__ = \u001b[38;5;28;01mTrue\u001b[39;00m\n\u001b[32m--> \u001b[39m\u001b[32m250\u001b[39m validated_self = \u001b[38;5;28;43mself\u001b[39;49m\u001b[43m.\u001b[49m\u001b[43m__pydantic_validator__\u001b[49m\u001b[43m.\u001b[49m\u001b[43mvalidate_python\u001b[49m\u001b[43m(\u001b[49m\u001b[43mdata\u001b[49m\u001b[43m,\u001b[49m\u001b[43m \u001b[49m\u001b[43mself_instance\u001b[49m\u001b[43m=\u001b[49m\u001b[38;5;28;43mself\u001b[39;49m\u001b[43m)\u001b[49m\n\u001b[32m    251\u001b[39m \u001b[38;5;28;01mif\u001b[39;00m \u001b[38;5;28mself\u001b[39m \u001b[38;5;129;01mis\u001b[39;00m \u001b[38;5;129;01mnot\u001b[39;00m validated_self:\n\u001b[32m    252\u001b[39m     warnings.warn(\n\u001b[32m    253\u001b[39m         \u001b[33m'\u001b[39m\u001b[33mA custom validator is returning a value other than `self`.\u001b[39m\u001b[38;5;130;01m\\n\u001b[39;00m\u001b[33m'\u001b[39m\n\u001b[32m    254\u001b[39m         \u001b[33m\"\u001b[39m\u001b[33mReturning anything other than `self` from a top level model validator isn\u001b[39m\u001b[33m'\u001b[39m\u001b[33mt supported when validating via `__init__`.\u001b[39m\u001b[38;5;130;01m\\n\u001b[39;00m\u001b[33m\"\u001b[39m\n\u001b[32m    255\u001b[39m         \u001b[33m'\u001b[39m\u001b[33mSee the `model_validator` docs (https://docs.pydantic.dev/latest/concepts/validators/#model-validators) for more details.\u001b[39m\u001b[33m'\u001b[39m,\n\u001b[32m    256\u001b[39m         stacklevel=\u001b[32m2\u001b[39m,\n\u001b[32m    257\u001b[39m     )\n",
      "\u001b[31mValidationError\u001b[39m: 1 validation error for Fellow\nscore\n  Input should be greater than or equal to 0 [type=greater_than_equal, input_value=-40, input_type=int]\n    For further information visit https://errors.pydantic.dev/2.12/v/greater_than_equal"
     ]
    }
   ],
   "source": [
    "Fellow(name=\"Hassan\", score=-40, addresses=[])"
   ]
  },
  {
   "cell_type": "code",
   "execution_count": null,
   "id": "dbc0e887",
   "metadata": {},
   "outputs": [
    {
     "data": {
      "text/plain": [
       "Fellow(name='Hassan', score=80, addresses=[])"
      ]
     },
     "execution_count": 52,
     "metadata": {},
     "output_type": "execute_result"
    }
   ],
   "source": [
    "Fellow(name=\"Hassan\", score=80, addresses=[])"
   ]
  },
  {
   "cell_type": "markdown",
   "id": "67aea13c",
   "metadata": {},
   "source": [
    "This kind of validation\n",
    "\n",
    "- prevents bad data from ever entering your system,\n",
    "\n",
    "- gives clear feedback to API clients,\n",
    "\n",
    "- and works automatically inside FastAPI (no extra code needed in your routes)"
   ]
  },
  {
   "cell_type": "markdown",
   "id": "3764dbb0",
   "metadata": {},
   "source": [
    "**Custom Validaton**"
   ]
  },
  {
   "cell_type": "code",
   "execution_count": 30,
   "id": "5f522187",
   "metadata": {},
   "outputs": [],
   "source": [
    "from pydantic import BaseModel, Field, field_validator\n",
    "\n",
    "class Person(BaseModel):\n",
    "    name: str\n",
    "    age: int = Field(..., ge=0)\n",
    "\n",
    "    @field_validator(\"name\")\n",
    "    def name_must_start_with_capital(cls, v):\n",
    "        if not v[0].isupper():\n",
    "            raise ValueError(\"Name must start with a capital letter\")\n",
    "        return v"
   ]
  },
  {
   "cell_type": "code",
   "execution_count": 31,
   "id": "8372d779",
   "metadata": {},
   "outputs": [
    {
     "ename": "ValidationError",
     "evalue": "1 validation error for Person\nname\n  Value error, Name must start with a capital letter [type=value_error, input_value='solomon', input_type=str]\n    For further information visit https://errors.pydantic.dev/2.12/v/value_error",
     "output_type": "error",
     "traceback": [
      "\u001b[31m---------------------------------------------------------------------------\u001b[39m",
      "\u001b[31mValidationError\u001b[39m                           Traceback (most recent call last)",
      "\u001b[36mCell\u001b[39m\u001b[36m \u001b[39m\u001b[32mIn[31]\u001b[39m\u001b[32m, line 1\u001b[39m\n\u001b[32m----> \u001b[39m\u001b[32m1\u001b[39m \u001b[43mPerson\u001b[49m\u001b[43m(\u001b[49m\u001b[43mname\u001b[49m\u001b[43m \u001b[49m\u001b[43m=\u001b[49m\u001b[43m \u001b[49m\u001b[33;43m\"\u001b[39;49m\u001b[33;43msolomon\u001b[39;49m\u001b[33;43m\"\u001b[39;49m\u001b[43m,\u001b[49m\u001b[43m \u001b[49m\u001b[43mage\u001b[49m\u001b[43m=\u001b[49m\u001b[32;43m20\u001b[39;49m\u001b[43m)\u001b[49m\n",
      "\u001b[36mFile \u001b[39m\u001b[32mc:\\Users\\personal\\Desktop\\abeokuta\\_data_evn\\Lib\\site-packages\\pydantic\\main.py:250\u001b[39m, in \u001b[36mBaseModel.__init__\u001b[39m\u001b[34m(self, **data)\u001b[39m\n\u001b[32m    248\u001b[39m \u001b[38;5;66;03m# `__tracebackhide__` tells pytest and some other tools to omit this function from tracebacks\u001b[39;00m\n\u001b[32m    249\u001b[39m __tracebackhide__ = \u001b[38;5;28;01mTrue\u001b[39;00m\n\u001b[32m--> \u001b[39m\u001b[32m250\u001b[39m validated_self = \u001b[38;5;28;43mself\u001b[39;49m\u001b[43m.\u001b[49m\u001b[43m__pydantic_validator__\u001b[49m\u001b[43m.\u001b[49m\u001b[43mvalidate_python\u001b[49m\u001b[43m(\u001b[49m\u001b[43mdata\u001b[49m\u001b[43m,\u001b[49m\u001b[43m \u001b[49m\u001b[43mself_instance\u001b[49m\u001b[43m=\u001b[49m\u001b[38;5;28;43mself\u001b[39;49m\u001b[43m)\u001b[49m\n\u001b[32m    251\u001b[39m \u001b[38;5;28;01mif\u001b[39;00m \u001b[38;5;28mself\u001b[39m \u001b[38;5;129;01mis\u001b[39;00m \u001b[38;5;129;01mnot\u001b[39;00m validated_self:\n\u001b[32m    252\u001b[39m     warnings.warn(\n\u001b[32m    253\u001b[39m         \u001b[33m'\u001b[39m\u001b[33mA custom validator is returning a value other than `self`.\u001b[39m\u001b[38;5;130;01m\\n\u001b[39;00m\u001b[33m'\u001b[39m\n\u001b[32m    254\u001b[39m         \u001b[33m\"\u001b[39m\u001b[33mReturning anything other than `self` from a top level model validator isn\u001b[39m\u001b[33m'\u001b[39m\u001b[33mt supported when validating via `__init__`.\u001b[39m\u001b[38;5;130;01m\\n\u001b[39;00m\u001b[33m\"\u001b[39m\n\u001b[32m    255\u001b[39m         \u001b[33m'\u001b[39m\u001b[33mSee the `model_validator` docs (https://docs.pydantic.dev/latest/concepts/validators/#model-validators) for more details.\u001b[39m\u001b[33m'\u001b[39m,\n\u001b[32m    256\u001b[39m         stacklevel=\u001b[32m2\u001b[39m,\n\u001b[32m    257\u001b[39m     )\n",
      "\u001b[31mValidationError\u001b[39m: 1 validation error for Person\nname\n  Value error, Name must start with a capital letter [type=value_error, input_value='solomon', input_type=str]\n    For further information visit https://errors.pydantic.dev/2.12/v/value_error"
     ]
    }
   ],
   "source": [
    "Person(name = \"solomon\", age=20)"
   ]
  },
  {
   "cell_type": "code",
   "execution_count": 32,
   "id": "39ca6933",
   "metadata": {},
   "outputs": [
    {
     "data": {
      "text/plain": [
       "Person(name='Solomon', age=20)"
      ]
     },
     "execution_count": 32,
     "metadata": {},
     "output_type": "execute_result"
    }
   ],
   "source": [
    "Person(name=\"Solomon\", age=20)"
   ]
  },
  {
   "cell_type": "markdown",
   "id": "03522865",
   "metadata": {},
   "source": [
    "These types handle both validation and conversion -- if the input is compatible, Pydantic converts it automatically"
   ]
  },
  {
   "cell_type": "markdown",
   "id": "cbc060d1",
   "metadata": {},
   "source": [
    "| Type                         | Description                               | Example                   |\n",
    "| ---------------------------- | ----------------------------------------- | ------------------------- |\n",
    "| `EmailStr`                   | Validates email address                   | `email: EmailStr`         |\n",
    "| `AnyUrl`, `HttpUrl`          | Validates URLs                            | `website: HttpUrl`        |\n",
    "| `IPv4Address`, `IPv6Address` | Validates IP addresses                    | `ip: IPv4Address`         |\n",
    "| `PaymentCardNumber`          | Validates credit card numbers             | `card: PaymentCardNumber` |\n",
    "| `UUID`                       | Validates UUIDs                           | `id: UUID`                |\n",
    "| `Decimal`                    | For exact decimal values (money, scores)  | `price: Decimal`          |\n",
    "| `FilePath`, `DirectoryPath`  | Validates existing file or directory path | `file_path: FilePath`     |"
   ]
  },
  {
   "cell_type": "markdown",
   "id": "4bfbfd62",
   "metadata": {},
   "source": [
    "`Field()` alllows you to apply numeric or string constraits to your fields."
   ]
  },
  {
   "cell_type": "markdown",
   "id": "ce9e65fa",
   "metadata": {},
   "source": [
    "| Constraint    | Meaning                  | Example                                        |\n",
    "| ------------- | ------------------------ | ---------------------------------------------- |\n",
    "| `gt`          | greater than             | `age: int = Field(..., gt=0)`                  |\n",
    "| `ge`          | greater than or equal to | `score: int = Field(..., ge=0)`                |\n",
    "| `lt`          | less than                | `age: int = Field(..., lt=120)`                |\n",
    "| `le`          | less than or equal to    | `height: float = Field(..., le=2.5)`           |\n",
    "| `multiple_of` | must be a multiple of    | `even_number: int = Field(..., multiple_of=2)` |\n"
   ]
  },
  {
   "cell_type": "markdown",
   "id": "e8c7ab5a",
   "metadata": {},
   "source": [
    "...these are string contraints...they also work with `Fields`"
   ]
  },
  {
   "cell_type": "markdown",
   "id": "0f74da8a",
   "metadata": {},
   "source": [
    "| Constraint   | Meaning            | Example                                      |\n",
    "| ------------ | ------------------ | -------------------------------------------- |\n",
    "| `min_length` | minimum characters | `name: str = Field(..., min_length=2)`       |\n",
    "| `max_length` | maximum characters | `password: str = Field(..., max_length=20)`  |\n",
    "| `regex`      | must match pattern | `phone: str = Field(..., pattern=r'^\\d{11}$')` |\n"
   ]
  },
  {
   "cell_type": "markdown",
   "id": "a7b1d018",
   "metadata": {},
   "source": [
    "more constraints"
   ]
  },
  {
   "cell_type": "markdown",
   "id": "7d941376",
   "metadata": {},
   "source": [
    "| Type / Field                    | Description                                | Example                                                                               |\n",
    "| ------------------------------- | ------------------------------------------ | ------------------------------------------------------------------------------------- |\n",
    "| `int` + `Field()`               | Constrained integer (e.g. positive, range) | `age: int = Field(..., gt=0, lt=120)`                                                 |\n",
    "| `str` + `Field()`               | Constrained string (length, regex, etc.)   | `username: str = Field(..., min_length=3, max_length=12, pattern=r\"^[A-Za-z0-9_]+$\")` |\n",
    "| `list` + `Field()`              | Constrained list (size limits)             | `scores: list[int] = Field(..., min_length=3, max_length=5)`                          |\n",
    "| `Decimal` + `Field()`           | Constrained decimal (precision, limits)    | `price: Decimal = Field(..., gt=0, max_digits=6, decimal_places=2)`                   |\n",
    "| `float` + `Field()`             | Constrained float (min, max, multiple)     | `rating: float = Field(..., ge=0, le=5, multiple_of=0.5)`                             |\n",
    "| `bool` + `Field()`              | Boolean with default or description        | `is_active: bool = Field(default=True, description=\"User is active\")`                 |\n",
    "| `date` / `datetime` + `Field()` | Date/time validation                       | `created_at: datetime = Field(default_factory=datetime.now)`       "
   ]
  },
  {
   "cell_type": "code",
   "execution_count": 33,
   "id": "db0645a5",
   "metadata": {},
   "outputs": [],
   "source": [
    "from datetime import datetime\n",
    "from decimal import Decimal\n",
    "from pydantic import BaseModel, Field, ValidationError\n",
    "from typing import List\n",
    "\n",
    "# Lets create the model here\n",
    "\n",
    "class ProductReview(BaseModel):\n",
    "    review_id: int = Field(..., gt=0, lt=10000)\n",
    "    username: str = Field(..., min_length=3, max_length=12, pattern=r\"^[A-Za-z0-9_@]+$\")\n",
    "    scores: List[int] = Field(..., min_length=3, max_length=5)\n",
    "    price: Decimal = Field(..., gt=0, max_digits=6, decimal_places=2)\n",
    "    rating: float = Field(..., ge=0, le=5, multiple_of=0.5)\n",
    "    is_active: bool = Field(default=True)\n",
    "    created_at: datetime = Field(default_factory=datetime.now)"
   ]
  },
  {
   "cell_type": "code",
   "execution_count": 37,
   "id": "0e43f319",
   "metadata": {},
   "outputs": [],
   "source": [
    "# lets demo for each\n",
    "\n",
    "def demo_int_field():\n",
    "    print(\"Integer Field Validation\")\n",
    "    try:\n",
    "        ProductReview(review_id= 2, username=\"@shabi\", scores=[4, 5, 4], price=Decimal(\"10.00\"), rating=4.5)\n",
    "    except ValidationError as e:\n",
    "        print(e)"
   ]
  },
  {
   "cell_type": "code",
   "execution_count": 38,
   "id": "4060ec9f",
   "metadata": {},
   "outputs": [
    {
     "name": "stdout",
     "output_type": "stream",
     "text": [
      "Integer Field Validation\n"
     ]
    }
   ],
   "source": [
    "demo_int_field()"
   ]
  },
  {
   "cell_type": "code",
   "execution_count": 41,
   "id": "662d3387",
   "metadata": {},
   "outputs": [],
   "source": [
    "def demo_str_field():\n",
    "    print(\"String Field Validation\")\n",
    "    try:\n",
    "        ProductReview(review_id=1, username=\"Ass\", scores=[4, 5, 5], price=Decimal(\"20.00\"), rating=4.0)\n",
    "    except ValidationError as e:\n",
    "        print(e)"
   ]
  },
  {
   "cell_type": "code",
   "execution_count": 42,
   "id": "7c950602",
   "metadata": {},
   "outputs": [
    {
     "name": "stdout",
     "output_type": "stream",
     "text": [
      "String Field Validation\n"
     ]
    }
   ],
   "source": [
    "demo_str_field()"
   ]
  },
  {
   "cell_type": "code",
   "execution_count": 45,
   "id": "c983d040",
   "metadata": {},
   "outputs": [],
   "source": [
    "def demo_list_field():\n",
    "    print(\"\\n List Field Validation\")\n",
    "    try:\n",
    "        ProductReview(review_id=2, username=\"ChrisDev\", scores=[5,5,4], price=Decimal(\"30.00\"), rating=3.5)\n",
    "    except ValidationError as e:\n",
    "        print(e)"
   ]
  },
  {
   "cell_type": "code",
   "execution_count": 46,
   "id": "92cbf182",
   "metadata": {},
   "outputs": [
    {
     "name": "stdout",
     "output_type": "stream",
     "text": [
      "\n",
      " List Field Validation\n"
     ]
    }
   ],
   "source": [
    "demo_list_field()"
   ]
  },
  {
   "cell_type": "code",
   "execution_count": 51,
   "id": "2f7f4242",
   "metadata": {},
   "outputs": [],
   "source": [
    "def demo_decimal_field():\n",
    "    print(\"\\n Decimal field Validation\")\n",
    "    try:\n",
    "        ProductReview(review_id=3, username=\"Tester\", scores=[4, 4, 5], price=Decimal(\"10.00\"), rating=4.5)\n",
    "    except ValidationError as e:\n",
    "        print(e)"
   ]
  },
  {
   "cell_type": "code",
   "execution_count": 52,
   "id": "178e6bf0",
   "metadata": {},
   "outputs": [
    {
     "name": "stdout",
     "output_type": "stream",
     "text": [
      "\n",
      " Decimal field Validation\n"
     ]
    }
   ],
   "source": [
    "demo_decimal_field()"
   ]
  },
  {
   "cell_type": "code",
   "execution_count": 55,
   "id": "086a9604",
   "metadata": {},
   "outputs": [],
   "source": [
    "def demo_float_field():\n",
    "    print(\"\\n Float Field Validation\")\n",
    "    try:\n",
    "        ProductReview(review_id = 4, username=\"SmartDev\", scores=[5, 4, 4], price=Decimal(\"99.99\"), rating=4.0)\n",
    "    except ValidationError as e:\n",
    "        print(e)"
   ]
  },
  {
   "cell_type": "code",
   "execution_count": 56,
   "id": "6592bbf1",
   "metadata": {},
   "outputs": [
    {
     "name": "stdout",
     "output_type": "stream",
     "text": [
      "\n",
      " Float Field Validation\n"
     ]
    }
   ],
   "source": [
    "demo_float_field()"
   ]
  },
  {
   "cell_type": "code",
   "execution_count": 57,
   "id": "e50c56ee",
   "metadata": {},
   "outputs": [],
   "source": [
    "def demo_bool_field():\n",
    "    print(\"\\n Boolean Field Default\")\n",
    "    product = ProductReview(\n",
    "        review_id=5,\n",
    "        username=\"JaneDoe\",\n",
    "        scores=[5, 4, 5],\n",
    "        price=Decimal(\"59.99\"),\n",
    "        rating=5.0\n",
    "    )\n",
    "    print(\"is_active=\", product.is_active)"
   ]
  },
  {
   "cell_type": "code",
   "execution_count": 58,
   "id": "10159ce5",
   "metadata": {},
   "outputs": [
    {
     "name": "stdout",
     "output_type": "stream",
     "text": [
      "\n",
      " Boolean Field Default\n",
      "is_active= True\n"
     ]
    }
   ],
   "source": [
    "demo_bool_field()"
   ]
  },
  {
   "cell_type": "code",
   "execution_count": 61,
   "id": "c0d95f9d",
   "metadata": {},
   "outputs": [],
   "source": [
    "def demo_datetime_field():\n",
    "    print(\"\\n Datetime Default Factory\")\n",
    "    product = ProductReview(\n",
    "        review_id=6,\n",
    "        username=\"TimeUser\",\n",
    "        scores=[3, 4, 5],\n",
    "        price=(\"25.00\"),\n",
    "        rating=4.5\n",
    "    )\n",
    "    print(\"created_at =\", product.created_at)"
   ]
  },
  {
   "cell_type": "code",
   "execution_count": 62,
   "id": "db25d0f4",
   "metadata": {},
   "outputs": [
    {
     "name": "stdout",
     "output_type": "stream",
     "text": [
      "\n",
      " Datetime Default Factory\n",
      "created_at = 2025-10-18 16:08:57.046183\n"
     ]
    }
   ],
   "source": [
    "demo_datetime_field()"
   ]
  },
  {
   "cell_type": "markdown",
   "id": "51fcd51a",
   "metadata": {},
   "source": [
    "**Enum and Literals**"
   ]
  },
  {
   "cell_type": "markdown",
   "id": "d118b0fc",
   "metadata": {},
   "source": [
    "These restrict values to fixed options.\n",
    "\n",
    "- `Enum`: Use Enum when your allowed values are still fixed, but you might want more control\n",
    "\n",
    "- `Literal`: Literal is used when you want a small, fixed set of allowed string (or number) value -- but you don't need any extra logic or behavior"
   ]
  },
  {
   "cell_type": "code",
   "execution_count": 63,
   "id": "11ad9774",
   "metadata": {},
   "outputs": [
    {
     "name": "stdout",
     "output_type": "stream",
     "text": [
      "Gender.male\n"
     ]
    }
   ],
   "source": [
    "from typing import Literal\n",
    "from enum import Enum\n",
    "\n",
    "class Gender(str, Enum):\n",
    "    male = \"male\"\n",
    "    female = \"female\"\n",
    "\n",
    "gender = Gender\n",
    "print(gender.male)"
   ]
  },
  {
   "cell_type": "code",
   "execution_count": 67,
   "id": "a854eff3",
   "metadata": {},
   "outputs": [
    {
     "name": "stdout",
     "output_type": "stream",
     "text": [
      "Gender.female\n"
     ]
    }
   ],
   "source": [
    "class Person(BaseModel):\n",
    "    gender: Literal[\"male\", \"female\"]\n",
    "\n",
    "print(gender.female)"
   ]
  },
  {
   "cell_type": "markdown",
   "id": "220e088b",
   "metadata": {},
   "source": [
    "`field_validator`"
   ]
  },
  {
   "cell_type": "markdown",
   "id": "d926bdf5",
   "metadata": {},
   "source": [
    "With this we can create our own logic"
   ]
  },
  {
   "cell_type": "code",
   "execution_count": null,
   "id": "ed3da30c",
   "metadata": {},
   "outputs": [],
   "source": [
    "from pydantic import BaseModel, field_validator, Field\n",
    "\n",
    "class Product(BaseModel):\n",
    "    name: str\n",
    "    price: float\n",
    "\n",
    "    @field_validator(\"price\")\n",
    "    def check_price(cls, v):\n",
    "        if v <= 0:\n",
    "            raise ValueError(\"Price must be positive\")\n",
    "        return v"
   ]
  },
  {
   "cell_type": "markdown",
   "id": "21196315",
   "metadata": {},
   "source": [
    "Where You See `cls` -class and `v` - value\n",
    "\n",
    "You will see them inside validators --- special methods in a pydantic model that let you customize or extend validation logic.\n",
    "\n",
    "`cls` is automatically passed when you define a class method. It refers to the model class itself, not an instance.\n",
    "\n",
    "In the example above cls refers to the `Product` class.\n",
    "\n",
    "You could use cls if you needed to access class-level attributes or methods. You will often see it there even if it's not used --- just because the validator must accept it.\n",
    "\n",
    "`v` is the value of the field being validated. Pydantic passes it automatically when calling the validator. You can inspect or modify it before it's stored. `v` will be whatever the user provided for the field price."
   ]
  },
  {
   "cell_type": "code",
   "execution_count": 1,
   "id": "91cd8f52",
   "metadata": {},
   "outputs": [],
   "source": [
    "from pydantic import BaseModel, Field\n",
    "\n",
    "class Numbers (BaseModel):\n",
    "    values: list[int] = Field(..., min_length=3, max_length=5)"
   ]
  },
  {
   "cell_type": "markdown",
   "id": "3379ef29",
   "metadata": {},
   "source": [
    "`values: list[int]` says this must be a ;ist of integer\n",
    "\n",
    "`Field(..., min_length=3, max_length=5)` - sets constraints on list length\n",
    "\n",
    "`...` means the field is required\n",
    "\n",
    "`min_length=3` - at least 3 numbers\n",
    "\n",
    "`min_length=5` - at most 5 numbers"
   ]
  },
  {
   "cell_type": "code",
   "execution_count": 2,
   "id": "d86fd4af",
   "metadata": {},
   "outputs": [
    {
     "name": "stdout",
     "output_type": "stream",
     "text": [
      "values=[1, 2, 3]\n"
     ]
    },
    {
     "ename": "ValidationError",
     "evalue": "1 validation error for Numbers\nvalues\n  List should have at least 3 items after validation, not 2 [type=too_short, input_value=[1, 2], input_type=list]\n    For further information visit https://errors.pydantic.dev/2.12/v/too_short",
     "output_type": "error",
     "traceback": [
      "\u001b[31m---------------------------------------------------------------------------\u001b[39m",
      "\u001b[31mValidationError\u001b[39m                           Traceback (most recent call last)",
      "\u001b[36mCell\u001b[39m\u001b[36m \u001b[39m\u001b[32mIn[2]\u001b[39m\u001b[32m, line 2\u001b[39m\n\u001b[32m      1\u001b[39m \u001b[38;5;28mprint\u001b[39m(Numbers(values=[\u001b[32m1\u001b[39m, \u001b[32m2\u001b[39m, \u001b[32m3\u001b[39m]))          \u001b[38;5;66;03m# valid\u001b[39;00m\n\u001b[32m----> \u001b[39m\u001b[32m2\u001b[39m \u001b[38;5;28mprint\u001b[39m(\u001b[43mNumbers\u001b[49m\u001b[43m(\u001b[49m\u001b[43mvalues\u001b[49m\u001b[43m=\u001b[49m\u001b[43m[\u001b[49m\u001b[32;43m1\u001b[39;49m\u001b[43m,\u001b[49m\u001b[32;43m2\u001b[39;49m\u001b[43m]\u001b[49m\u001b[43m)\u001b[49m)              \u001b[38;5;66;03m# ValueError: List should have at leaste 3 items\u001b[39;00m\n\u001b[32m      3\u001b[39m \u001b[38;5;28mprint\u001b[39m(Numbers(values=[\u001b[32m1\u001b[39m,\u001b[32m2\u001b[39m, \u001b[32m3\u001b[39m, \u001b[32m4\u001b[39m, \u001b[32m5\u001b[39m, \u001b[32m6\u001b[39m]))  \u001b[38;5;66;03m# ValueError: List should have at mosts 5 items\u001b[39;00m\n",
      "\u001b[36mFile \u001b[39m\u001b[32mc:\\Users\\personal\\Desktop\\abeokuta\\_data_evn\\Lib\\site-packages\\pydantic\\main.py:250\u001b[39m, in \u001b[36mBaseModel.__init__\u001b[39m\u001b[34m(self, **data)\u001b[39m\n\u001b[32m    248\u001b[39m \u001b[38;5;66;03m# `__tracebackhide__` tells pytest and some other tools to omit this function from tracebacks\u001b[39;00m\n\u001b[32m    249\u001b[39m __tracebackhide__ = \u001b[38;5;28;01mTrue\u001b[39;00m\n\u001b[32m--> \u001b[39m\u001b[32m250\u001b[39m validated_self = \u001b[38;5;28;43mself\u001b[39;49m\u001b[43m.\u001b[49m\u001b[43m__pydantic_validator__\u001b[49m\u001b[43m.\u001b[49m\u001b[43mvalidate_python\u001b[49m\u001b[43m(\u001b[49m\u001b[43mdata\u001b[49m\u001b[43m,\u001b[49m\u001b[43m \u001b[49m\u001b[43mself_instance\u001b[49m\u001b[43m=\u001b[49m\u001b[38;5;28;43mself\u001b[39;49m\u001b[43m)\u001b[49m\n\u001b[32m    251\u001b[39m \u001b[38;5;28;01mif\u001b[39;00m \u001b[38;5;28mself\u001b[39m \u001b[38;5;129;01mis\u001b[39;00m \u001b[38;5;129;01mnot\u001b[39;00m validated_self:\n\u001b[32m    252\u001b[39m     warnings.warn(\n\u001b[32m    253\u001b[39m         \u001b[33m'\u001b[39m\u001b[33mA custom validator is returning a value other than `self`.\u001b[39m\u001b[38;5;130;01m\\n\u001b[39;00m\u001b[33m'\u001b[39m\n\u001b[32m    254\u001b[39m         \u001b[33m\"\u001b[39m\u001b[33mReturning anything other than `self` from a top level model validator isn\u001b[39m\u001b[33m'\u001b[39m\u001b[33mt supported when validating via `__init__`.\u001b[39m\u001b[38;5;130;01m\\n\u001b[39;00m\u001b[33m\"\u001b[39m\n\u001b[32m    255\u001b[39m         \u001b[33m'\u001b[39m\u001b[33mSee the `model_validator` docs (https://docs.pydantic.dev/latest/concepts/validators/#model-validators) for more details.\u001b[39m\u001b[33m'\u001b[39m,\n\u001b[32m    256\u001b[39m         stacklevel=\u001b[32m2\u001b[39m,\n\u001b[32m    257\u001b[39m     )\n",
      "\u001b[31mValidationError\u001b[39m: 1 validation error for Numbers\nvalues\n  List should have at least 3 items after validation, not 2 [type=too_short, input_value=[1, 2], input_type=list]\n    For further information visit https://errors.pydantic.dev/2.12/v/too_short"
     ]
    }
   ],
   "source": [
    "print(Numbers(values=[1, 2, 3]))          # valid\n",
    "print(Numbers(values=[1,2]))              # ValueError: List should have at leaste 3 items\n",
    "print(Numbers(values=[1,2, 3, 4, 5, 6]))  # ValueError: List should have at mosts 5 items"
   ]
  },
  {
   "cell_type": "markdown",
   "id": "7553591e",
   "metadata": {},
   "source": [
    "...Read the error message"
   ]
  },
  {
   "cell_type": "markdown",
   "id": "818b5ae7",
   "metadata": {},
   "source": [
    "more explain..."
   ]
  },
  {
   "cell_type": "code",
   "execution_count": 3,
   "id": "f5a637cf",
   "metadata": {},
   "outputs": [],
   "source": [
    "from decimal import Decimal\n",
    "from pydantic import BaseModel, Field\n",
    "\n",
    "class Product(BaseModel):\n",
    "    name: str = Field(..., min_length=3, max_length=20)\n",
    "    quantity: int = Field(..., gt=0, lt=100)    # greater than 0, less than 100\n",
    "    prices: list[float] = Field(..., min_length=2, max_length=5)\n",
    "    cost: Decimal = Field(..., gt=0, max_digits=6, decimal_places=2)"
   ]
  },
  {
   "cell_type": "code",
   "execution_count": 5,
   "id": "24a863d1",
   "metadata": {},
   "outputs": [
    {
     "data": {
      "text/plain": [
       "Product(name='Laptop', quantity=10, prices=[1200.5, 1300.75], cost=Decimal('1500.00'))"
      ]
     },
     "execution_count": 5,
     "metadata": {},
     "output_type": "execute_result"
    }
   ],
   "source": [
    "Product(\n",
    "    name=\"Laptop\",\n",
    "    quantity=10,\n",
    "    prices=[1200.5, 1300.75],\n",
    "    cost=Decimal(\"1500.00\")\n",
    ")"
   ]
  },
  {
   "cell_type": "code",
   "execution_count": null,
   "id": "41ae4c0f",
   "metadata": {},
   "outputs": [
    {
     "ename": "ValidationError",
     "evalue": "1 validation error for Product\ncost\n  Decimal input should have no more than 4 digits before the decimal point [type=decimal_whole_digits, input_value=Decimal('15000.00'), input_type=Decimal]\n    For further information visit https://errors.pydantic.dev/2.12/v/decimal_whole_digits",
     "output_type": "error",
     "traceback": [
      "\u001b[31m---------------------------------------------------------------------------\u001b[39m",
      "\u001b[31mValidationError\u001b[39m                           Traceback (most recent call last)",
      "\u001b[36mCell\u001b[39m\u001b[36m \u001b[39m\u001b[32mIn[6]\u001b[39m\u001b[32m, line 1\u001b[39m\n\u001b[32m----> \u001b[39m\u001b[32m1\u001b[39m \u001b[43mProduct\u001b[49m\u001b[43m(\u001b[49m\n\u001b[32m      2\u001b[39m \u001b[43m    \u001b[49m\u001b[43mname\u001b[49m\u001b[43m=\u001b[49m\u001b[33;43m\"\u001b[39;49m\u001b[33;43mLaptop\u001b[39;49m\u001b[33;43m\"\u001b[39;49m\u001b[43m,\u001b[49m\n\u001b[32m      3\u001b[39m \u001b[43m    \u001b[49m\u001b[43mquantity\u001b[49m\u001b[43m=\u001b[49m\u001b[32;43m10\u001b[39;49m\u001b[43m,\u001b[49m\n\u001b[32m      4\u001b[39m \u001b[43m    \u001b[49m\u001b[43mprices\u001b[49m\u001b[43m=\u001b[49m\u001b[43m[\u001b[49m\u001b[32;43m1200.5\u001b[39;49m\u001b[43m,\u001b[49m\u001b[43m \u001b[49m\u001b[32;43m1300.75\u001b[39;49m\u001b[43m]\u001b[49m\u001b[43m,\u001b[49m\n\u001b[32m      5\u001b[39m \u001b[43m    \u001b[49m\u001b[43mcost\u001b[49m\u001b[43m=\u001b[49m\u001b[43mDecimal\u001b[49m\u001b[43m(\u001b[49m\u001b[33;43m\"\u001b[39;49m\u001b[33;43m15000.00\u001b[39;49m\u001b[33;43m\"\u001b[39;49m\u001b[43m)\u001b[49m\n\u001b[32m      6\u001b[39m \u001b[43m)\u001b[49m\n",
      "\u001b[36mFile \u001b[39m\u001b[32mc:\\Users\\personal\\Desktop\\abeokuta\\_data_evn\\Lib\\site-packages\\pydantic\\main.py:250\u001b[39m, in \u001b[36mBaseModel.__init__\u001b[39m\u001b[34m(self, **data)\u001b[39m\n\u001b[32m    248\u001b[39m \u001b[38;5;66;03m# `__tracebackhide__` tells pytest and some other tools to omit this function from tracebacks\u001b[39;00m\n\u001b[32m    249\u001b[39m __tracebackhide__ = \u001b[38;5;28;01mTrue\u001b[39;00m\n\u001b[32m--> \u001b[39m\u001b[32m250\u001b[39m validated_self = \u001b[38;5;28;43mself\u001b[39;49m\u001b[43m.\u001b[49m\u001b[43m__pydantic_validator__\u001b[49m\u001b[43m.\u001b[49m\u001b[43mvalidate_python\u001b[49m\u001b[43m(\u001b[49m\u001b[43mdata\u001b[49m\u001b[43m,\u001b[49m\u001b[43m \u001b[49m\u001b[43mself_instance\u001b[49m\u001b[43m=\u001b[49m\u001b[38;5;28;43mself\u001b[39;49m\u001b[43m)\u001b[49m\n\u001b[32m    251\u001b[39m \u001b[38;5;28;01mif\u001b[39;00m \u001b[38;5;28mself\u001b[39m \u001b[38;5;129;01mis\u001b[39;00m \u001b[38;5;129;01mnot\u001b[39;00m validated_self:\n\u001b[32m    252\u001b[39m     warnings.warn(\n\u001b[32m    253\u001b[39m         \u001b[33m'\u001b[39m\u001b[33mA custom validator is returning a value other than `self`.\u001b[39m\u001b[38;5;130;01m\\n\u001b[39;00m\u001b[33m'\u001b[39m\n\u001b[32m    254\u001b[39m         \u001b[33m\"\u001b[39m\u001b[33mReturning anything other than `self` from a top level model validator isn\u001b[39m\u001b[33m'\u001b[39m\u001b[33mt supported when validating via `__init__`.\u001b[39m\u001b[38;5;130;01m\\n\u001b[39;00m\u001b[33m\"\u001b[39m\n\u001b[32m    255\u001b[39m         \u001b[33m'\u001b[39m\u001b[33mSee the `model_validator` docs (https://docs.pydantic.dev/latest/concepts/validators/#model-validators) for more details.\u001b[39m\u001b[33m'\u001b[39m,\n\u001b[32m    256\u001b[39m         stacklevel=\u001b[32m2\u001b[39m,\n\u001b[32m    257\u001b[39m     )\n",
      "\u001b[31mValidationError\u001b[39m: 1 validation error for Product\ncost\n  Decimal input should have no more than 4 digits before the decimal point [type=decimal_whole_digits, input_value=Decimal('15000.00'), input_type=Decimal]\n    For further information visit https://errors.pydantic.dev/2.12/v/decimal_whole_digits"
     ]
    }
   ],
   "source": [
    "Product(\n",
    "    name=\"Laptop\",\n",
    "    quantity=10,\n",
    "    prices=[1200.5, 1300.75],\n",
    "    cost=Decimal(\"15000.00\")\n",
    ")"
   ]
  },
  {
   "cell_type": "code",
   "execution_count": null,
   "id": "3a5940d2",
   "metadata": {},
   "outputs": [],
   "source": [
    "from typing import Optional, List\n",
    "from pydantic import BaseModel, EmailStr, Field\n",
    "from enum import Enum\n",
    "\n",
    "class Gender(str, Enum):\n",
    "    male = \"male\",comm\n",
    "    female = \"female\"\n",
    "\n",
    "class User(BaseModel):\n",
    "    id: int = Field(..., gt=0)\n",
    "    name: str = Field(..., min_length=2, max_length=50)\n",
    "    age: int = Field(..., ge = 0, le=120)\n",
    "    email: EmailStr\n",
    "    gender: Gender\n",
    "    skills: List[str] = Field(default_factory=list)\n",
    "    phone: Optional[str] = Field(None, pattern=r'^\\d{11}$')"
   ]
  },
  {
   "cell_type": "code",
   "execution_count": 15,
   "id": "12d16930",
   "metadata": {},
   "outputs": [
    {
     "name": "stdout",
     "output_type": "stream",
     "text": [
      "id=1 name='kudoro Esther' age=16 email='esther@aiengineering.ncc.ng' gender=<Gender.female: 'female'> skills=['Python', 'Matchine Learning'] phone='08123456789'\n"
     ]
    }
   ],
   "source": [
    "user_data = {\n",
    "    \"id\": 1,\n",
    "    \"name\": \"kudoro Esther\",\n",
    "    \"age\": 16,\n",
    "    \"email\": \"esther@aiengineering.ncc.ng\",\n",
    "    \"gender\": \"female\",\n",
    "    \"skills\": [\"Python\", \"Matchine Learning\"],\n",
    "    \"phone\": \"08123456789\"\n",
    "}\n",
    "\n",
    "user = User(**user_data)\n",
    "print(user)"
   ]
  },
  {
   "cell_type": "markdown",
   "id": "4f11a86f",
   "metadata": {},
   "source": [
    "Try varyfing your data to what was not defined in the constraint and rerun the code"
   ]
  },
  {
   "cell_type": "code",
   "execution_count": 16,
   "id": "47c139ea",
   "metadata": {},
   "outputs": [
    {
     "name": "stdout",
     "output_type": "stream",
     "text": [
      "{\"id\":1,\"name\":\"kudoro Esther\",\"age\":16,\"email\":\"esther@aiengineering.ncc.ng\",\"gender\":\"female\",\"skills\":[\"Python\",\"Matchine Learning\"],\"phone\":\"08123456789\"}\n",
      "{'id': 1, 'name': 'kudoro Esther', 'age': 16, 'email': 'esther@aiengineering.ncc.ng', 'gender': <Gender.female: 'female'>, 'skills': ['Python', 'Matchine Learning'], 'phone': '08123456789'}\n"
     ]
    }
   ],
   "source": [
    "# Lets serialize\n",
    "\n",
    "print(user.model_dump_json())\n",
    "\n",
    "print(user.model_dump())"
   ]
  }
 ],
 "metadata": {
  "kernelspec": {
   "display_name": "_data_evn",
   "language": "python",
   "name": "python3"
  },
  "language_info": {
   "codemirror_mode": {
    "name": "ipython",
    "version": 3
   },
   "file_extension": ".py",
   "mimetype": "text/x-python",
   "name": "python",
   "nbconvert_exporter": "python",
   "pygments_lexer": "ipython3",
   "version": "3.13.5"
  }
 },
 "nbformat": 4,
 "nbformat_minor": 5
}
