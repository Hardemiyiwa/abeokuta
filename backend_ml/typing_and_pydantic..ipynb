{
 "cells": [
  {
   "cell_type": "code",
   "execution_count": 1,
   "id": "2970b18a",
   "metadata": {},
   "outputs": [],
   "source": [
    "def get_average(name: str, scores: list[float]) -> float:\n",
    "    average_score = sum(scores)/len(scores)\n",
    "    print(f\"{name}'s average score is {average_score}\")\n",
    "    return average_score"
   ]
  },
  {
   "cell_type": "code",
   "execution_count": null,
   "id": "83216456",
   "metadata": {},
   "outputs": [],
   "source": [
    "from typing import Dict, List, Tuple, Optional, Union\n",
    "\n",
    "fellow: Tuple[str, int, str] = (\"Perpetual\",88,\"AI Engineering\")"
   ]
  },
  {
   "cell_type": "code",
   "execution_count": 3,
   "id": "bbbe3c8a",
   "metadata": {},
   "outputs": [],
   "source": [
    "# importing pdantic\n",
    "from pydantic import BaseModel"
   ]
  },
  {
   "cell_type": "code",
   "execution_count": 9,
   "id": "1a3eeee9",
   "metadata": {},
   "outputs": [],
   "source": [
    "#  Lets create a pydantic data model\n",
    "class Fellow(BaseModel):\n",
    "    name: str\n",
    "    score: int\n",
    "    track: str"
   ]
  },
  {
   "cell_type": "code",
   "execution_count": 5,
   "id": "d4212f1c",
   "metadata": {},
   "outputs": [
    {
     "data": {
      "text/plain": [
       "Fellow(name='Perpetual', score=88, track='AI Engineering')"
      ]
     },
     "execution_count": 5,
     "metadata": {},
     "output_type": "execute_result"
    }
   ],
   "source": [
    "# 1. Validation - It automatically validate data passed to it\n",
    "\n",
    "Fellow(name=\"Perpetual\", score=88, track=\"AI Engineering\")  # This will work fine"
   ]
  },
  {
   "cell_type": "code",
   "execution_count": 6,
   "id": "baa1ce23",
   "metadata": {},
   "outputs": [
    {
     "ename": "ValidationError",
     "evalue": "1 validation error for Fellow\nscore\n  Input should be a valid integer, unable to parse string as an integer [type=int_parsing, input_value='eighty-seven', input_type=str]\n    For further information visit https://errors.pydantic.dev/2.12/v/int_parsing",
     "output_type": "error",
     "traceback": [
      "\u001b[31m---------------------------------------------------------------------------\u001b[39m",
      "\u001b[31mValidationError\u001b[39m                           Traceback (most recent call last)",
      "\u001b[36mCell\u001b[39m\u001b[36m \u001b[39m\u001b[32mIn[6]\u001b[39m\u001b[32m, line 1\u001b[39m\n\u001b[32m----> \u001b[39m\u001b[32m1\u001b[39m \u001b[43mFellow\u001b[49m\u001b[43m(\u001b[49m\u001b[43mname\u001b[49m\u001b[43m=\u001b[49m\u001b[33;43m\"\u001b[39;49m\u001b[33;43mPerpetual\u001b[39;49m\u001b[33;43m\"\u001b[39;49m\u001b[43m,\u001b[49m\u001b[43m \u001b[49m\u001b[43mscore\u001b[49m\u001b[43m=\u001b[49m\u001b[33;43m\"\u001b[39;49m\u001b[33;43meighty-seven\u001b[39;49m\u001b[33;43m\"\u001b[39;49m\u001b[43m,\u001b[49m\u001b[43m \u001b[49m\u001b[43mtrack\u001b[49m\u001b[43m=\u001b[49m\u001b[33;43m\"\u001b[39;49m\u001b[33;43mAI Engineering\u001b[39;49m\u001b[33;43m\"\u001b[39;49m\u001b[43m)\u001b[49m \u001b[38;5;66;03m# This will raise an error\u001b[39;00m\n",
      "\u001b[36mFile \u001b[39m\u001b[32mc:\\Users\\user234\\Desktop\\abeokuta\\_data_env\\Lib\\site-packages\\pydantic\\main.py:250\u001b[39m, in \u001b[36mBaseModel.__init__\u001b[39m\u001b[34m(self, **data)\u001b[39m\n\u001b[32m    248\u001b[39m \u001b[38;5;66;03m# `__tracebackhide__` tells pytest and some other tools to omit this function from tracebacks\u001b[39;00m\n\u001b[32m    249\u001b[39m __tracebackhide__ = \u001b[38;5;28;01mTrue\u001b[39;00m\n\u001b[32m--> \u001b[39m\u001b[32m250\u001b[39m validated_self = \u001b[38;5;28;43mself\u001b[39;49m\u001b[43m.\u001b[49m\u001b[43m__pydantic_validator__\u001b[49m\u001b[43m.\u001b[49m\u001b[43mvalidate_python\u001b[49m\u001b[43m(\u001b[49m\u001b[43mdata\u001b[49m\u001b[43m,\u001b[49m\u001b[43m \u001b[49m\u001b[43mself_instance\u001b[49m\u001b[43m=\u001b[49m\u001b[38;5;28;43mself\u001b[39;49m\u001b[43m)\u001b[49m\n\u001b[32m    251\u001b[39m \u001b[38;5;28;01mif\u001b[39;00m \u001b[38;5;28mself\u001b[39m \u001b[38;5;129;01mis\u001b[39;00m \u001b[38;5;129;01mnot\u001b[39;00m validated_self:\n\u001b[32m    252\u001b[39m     warnings.warn(\n\u001b[32m    253\u001b[39m         \u001b[33m'\u001b[39m\u001b[33mA custom validator is returning a value other than `self`.\u001b[39m\u001b[38;5;130;01m\\n\u001b[39;00m\u001b[33m'\u001b[39m\n\u001b[32m    254\u001b[39m         \u001b[33m\"\u001b[39m\u001b[33mReturning anything other than `self` from a top level model validator isn\u001b[39m\u001b[33m'\u001b[39m\u001b[33mt supported when validating via `__init__`.\u001b[39m\u001b[38;5;130;01m\\n\u001b[39;00m\u001b[33m\"\u001b[39m\n\u001b[32m    255\u001b[39m         \u001b[33m'\u001b[39m\u001b[33mSee the `model_validator` docs (https://docs.pydantic.dev/latest/concepts/validators/#model-validators) for more details.\u001b[39m\u001b[33m'\u001b[39m,\n\u001b[32m    256\u001b[39m         stacklevel=\u001b[32m2\u001b[39m,\n\u001b[32m    257\u001b[39m     )\n",
      "\u001b[31mValidationError\u001b[39m: 1 validation error for Fellow\nscore\n  Input should be a valid integer, unable to parse string as an integer [type=int_parsing, input_value='eighty-seven', input_type=str]\n    For further information visit https://errors.pydantic.dev/2.12/v/int_parsing"
     ]
    }
   ],
   "source": [
    "Fellow(name=\"Perpetual\", score=\"eighty-seven\", track=\"AI Engineering\") # This will raise an error"
   ]
  },
  {
   "cell_type": "code",
   "execution_count": 7,
   "id": "3f27c26b",
   "metadata": {},
   "outputs": [
    {
     "name": "stdout",
     "output_type": "stream",
     "text": [
      "<class 'int'>\n"
     ]
    }
   ],
   "source": [
    "# 2. parsing and type conversion - It automatically converts comvertible types\n",
    "# It reads and interprete data\n",
    "\n",
    "p = Fellow(name=\"Perpetual\", score=\"88\", track=\"AI Engineering\")\n",
    "print(type(p.score))"
   ]
  },
  {
   "cell_type": "code",
   "execution_count": 11,
   "id": "b67a5fb5",
   "metadata": {},
   "outputs": [
    {
     "name": "stdout",
     "output_type": "stream",
     "text": [
      "name='blessing' score=100 track='AI Engineering'\n",
      "<class 'int'>\n"
     ]
    }
   ],
   "source": [
    "# an incomming data\n",
    "data = {\"name\":\"blessing\", \"score\":\"100\", \"track\": \"AI Engineering\"}\n",
    "\n",
    "# pydantic will parse it like this\n",
    "fellow = Fellow(**data)\n",
    "print(fellow)\n",
    "print(type(fellow.score))"
   ]
  },
  {
   "cell_type": "code",
   "execution_count": 12,
   "id": "33ea3a9a",
   "metadata": {},
   "outputs": [
    {
     "name": "stdout",
     "output_type": "stream",
     "text": [
      "{\"name\":\"Perpetual\",\"score\":88,\"track\":\"AI Engineering\"}\n"
     ]
    },
    {
     "name": "stderr",
     "output_type": "stream",
     "text": [
      "C:\\Users\\user234\\AppData\\Local\\Temp\\ipykernel_11232\\3166598483.py:3: PydanticDeprecatedSince20: The `json` method is deprecated; use `model_dump_json` instead. Deprecated in Pydantic V2.0 to be removed in V3.0. See Pydantic V2 Migration Guide at https://errors.pydantic.dev/2.12/migration/\n",
      "  print(p.json())\n"
     ]
    }
   ],
   "source": [
    "# 3. Serialization - It automatically converts data to Json or dictionary(converts to a format that can be stored or sent)\n",
    "# Itss more like packaging a data for output\n",
    "print(p.json())"
   ]
  },
  {
   "cell_type": "code",
   "execution_count": 13,
   "id": "b8ad50c5",
   "metadata": {},
   "outputs": [
    {
     "name": "stdout",
     "output_type": "stream",
     "text": [
      "{'name': 'Perpetual', 'score': 88, 'track': 'AI Engineering'}\n"
     ]
    },
    {
     "name": "stderr",
     "output_type": "stream",
     "text": [
      "C:\\Users\\user234\\AppData\\Local\\Temp\\ipykernel_11232\\2898676942.py:1: PydanticDeprecatedSince20: The `dict` method is deprecated; use `model_dump` instead. Deprecated in Pydantic V2.0 to be removed in V3.0. See Pydantic V2 Migration Guide at https://errors.pydantic.dev/2.12/migration/\n",
      "  print(p.dict())\n"
     ]
    }
   ],
   "source": [
    "print(p.dict())"
   ]
  },
  {
   "cell_type": "code",
   "execution_count": 14,
   "id": "7699cb6b",
   "metadata": {},
   "outputs": [],
   "source": [
    "# 4. Nesting  - Medels can be nested to create complex data structures\n",
    "\n",
    "class Address(BaseModel):\n",
    "    street: str\n",
    "    city: str\n",
    "    state: str\n",
    "    country: str\n",
    "\n",
    "class Fellow(BaseModel):\n",
    "    name: str\n",
    "    score: int\n",
    "    track: str\n",
    "    address: Address\n",
    "\n",
    "# Pydantic will validate this automatically"
   ]
  },
  {
   "cell_type": "code",
   "execution_count": 15,
   "id": "5c82072e",
   "metadata": {},
   "outputs": [
    {
     "name": "stdout",
     "output_type": "stream",
     "text": [
      "name='Perpetual' score=88 track='AI Engineering' address=Address(street='Ajelogo Street', city='ketu', state='Lagos', country='Nigeria')\n"
     ]
    }
   ],
   "source": [
    "# lets pass this data\n",
    "data = {\n",
    "    \"name\": \"Perpetual\",\n",
    "    \"score\": 88,\n",
    "    \"track\": \"AI Engineering\",\n",
    "\n",
    "    \"address\": {\n",
    "        \"street\" : \"Ajelogo Street\",\n",
    "        \"city\": \"ketu\",\n",
    "        \"state\": \"Lagos\",\n",
    "        \"country\": \"Nigeria\"\n",
    "    }\n",
    "}\n",
    "\n",
    "# pydantic will parse it like this\n",
    "fellow = Fellow(**data)\n",
    "\n",
    "print(fellow)"
   ]
  },
  {
   "cell_type": "code",
   "execution_count": 16,
   "id": "af429f71",
   "metadata": {},
   "outputs": [
    {
     "name": "stdout",
     "output_type": "stream",
     "text": [
      "Ajelogo Street\n"
     ]
    }
   ],
   "source": [
    "# you can easily access inner fields if you need to\n",
    "print(fellow.address.street)"
   ]
  },
  {
   "cell_type": "code",
   "execution_count": 17,
   "id": "b56370c1",
   "metadata": {},
   "outputs": [
    {
     "name": "stdout",
     "output_type": "stream",
     "text": [
      "{'name': 'Perpetual', 'score': 88, 'track': 'AI Engineering', 'address': {'street': 'Ajelogo Street', 'city': 'ketu', 'state': 'Lagos', 'country': 'Nigeria'}}\n"
     ]
    },
    {
     "name": "stderr",
     "output_type": "stream",
     "text": [
      "C:\\Users\\user234\\AppData\\Local\\Temp\\ipykernel_11232\\956739212.py:1: PydanticDeprecatedSince20: The `dict` method is deprecated; use `model_dump` instead. Deprecated in Pydantic V2.0 to be removed in V3.0. See Pydantic V2 Migration Guide at https://errors.pydantic.dev/2.12/migration/\n",
      "  print(fellow.dict())\n"
     ]
    }
   ],
   "source": [
    "print(fellow.dict())"
   ]
  },
  {
   "cell_type": "code",
   "execution_count": 18,
   "id": "06747d5e",
   "metadata": {},
   "outputs": [
    {
     "name": "stdout",
     "output_type": "stream",
     "text": [
      "{'name': 'Perpetual', 'score': 88, 'track': 'AI Engineering', 'address': {'street': 'Ajelogo Street', 'city': 'ketu', 'state': 'Lagos', 'country': 'Nigeria'}}\n"
     ]
    },
    {
     "name": "stderr",
     "output_type": "stream",
     "text": [
      "C:\\Users\\user234\\AppData\\Local\\Temp\\ipykernel_11232\\956739212.py:1: PydanticDeprecatedSince20: The `dict` method is deprecated; use `model_dump` instead. Deprecated in Pydantic V2.0 to be removed in V3.0. See Pydantic V2 Migration Guide at https://errors.pydantic.dev/2.12/migration/\n",
      "  print(fellow.dict())\n"
     ]
    }
   ],
   "source": [
    "print(fellow.dict())"
   ]
  },
  {
   "cell_type": "markdown",
   "id": "f40d385c",
   "metadata": {},
   "source": [
    "**A list Nested Models**"
   ]
  },
  {
   "cell_type": "markdown",
   "id": "985ac4f2",
   "metadata": {},
   "source": [
    "This makes sense, lets say you are using two addresses, yea?"
   ]
  },
  {
   "cell_type": "code",
   "execution_count": 37,
   "id": "253c3f8c",
   "metadata": {},
   "outputs": [],
   "source": [
    "# So we can have something like this.... for a list of address\n",
    "# from typing import List\n",
    "from pydantic import BaseModel\n",
    "\n",
    "class Fellow(BaseModel):\n",
    "    name: str\n",
    "    score: int\n",
    "    track: str\n",
    "    addresses: List[Address]"
   ]
  },
  {
   "cell_type": "code",
   "execution_count": 38,
   "id": "a68e0d8d",
   "metadata": {},
   "outputs": [
    {
     "name": "stdout",
     "output_type": "stream",
     "text": [
      "name='Perpetual' score=88 track='AI Engineering' addresses=[Address(street='Idoroko Road', city='Sango', state='Lagos', country='Nigeria'), Address(street='Kobape', city='Abeokuta', state='Ogun', country='Nigeria')]\n"
     ]
    }
   ],
   "source": [
    "data = {\n",
    "    \"name\": \"Perpetual\",\n",
    "    \"score\": 88,\n",
    "    \"track\": \"AI Engineering\",\n",
    "    \"addresses\": [\n",
    "        {\"street\": \"Idoroko Road\", \"city\": \"Sango\", \"state\": \"Lagos\",\n",
    "        \"country\": \"Nigeria\"},\n",
    "        {\"street\": \"Kobape\", \"city\": \"Abeokuta\", \"state\": \"Ogun\",\n",
    "        \"country\": \"Nigeria\"}\n",
    "    ]\n",
    "}\n",
    "\n",
    "fellow = Fellow(**data)\n",
    "print(fellow)"
   ]
  },
  {
   "cell_type": "code",
   "execution_count": 39,
   "id": "9cf0a446",
   "metadata": {},
   "outputs": [
    {
     "name": "stdout",
     "output_type": "stream",
     "text": [
      "Sango\n",
      "Abeokuta\n"
     ]
    }
   ],
   "source": [
    "# Accessing the nested Items\n",
    "\n",
    "print(fellow.addresses[0].city)\n",
    "print(fellow.addresses[1].city)"
   ]
  },
  {
   "cell_type": "code",
   "execution_count": 40,
   "id": "a9d87d90",
   "metadata": {},
   "outputs": [
    {
     "name": "stdout",
     "output_type": "stream",
     "text": [
      "{\"name\":\"Perpetual\",\"score\":88,\"track\":\"AI Engineering\",\"addresses\":[{\"street\":\"Idoroko Road\",\"city\":\"Sango\",\"state\":\"Lagos\",\"country\":\"Nigeria\"},{\"street\":\"Kobape\",\"city\":\"Abeokuta\",\"state\":\"Ogun\",\"country\":\"Nigeria\"}]}\n",
      "\n",
      "\n",
      "{'name': 'Perpetual', 'score': 88, 'track': 'AI Engineering', 'addresses': [{'street': 'Idoroko Road', 'city': 'Sango', 'state': 'Lagos', 'country': 'Nigeria'}, {'street': 'Kobape', 'city': 'Abeokuta', 'state': 'Ogun', 'country': 'Nigeria'}]}\n"
     ]
    }
   ],
   "source": [
    "# we can serialize if we want to\n",
    "\n",
    "# print(fellow.json())\n",
    "print(fellow.model_dump_json()) # use this instead\n",
    "print(\"\\n\")\n",
    "# print(fellow.dict())\n",
    "print(fellow.model_dump()) # use this instead"
   ]
  },
  {
   "cell_type": "markdown",
   "id": "10accdf7",
   "metadata": {},
   "source": [
    "**Understanding Validation**"
   ]
  },
  {
   "cell_type": "code",
   "execution_count": 49,
   "id": "6be2fe9d",
   "metadata": {},
   "outputs": [
    {
     "name": "stdout",
     "output_type": "stream",
     "text": [
      "name='Micheal' score=-79 addresses=[Address(street='123 Marose St', city='Ikorodu'), Address(street='4 Babatude Ave', city='Abiola way')]\n"
     ]
    }
   ],
   "source": [
    "from typing import List\n",
    "from pydantic import BaseModel\n",
    "\n",
    "class Address(BaseModel):\n",
    "    street: str\n",
    "    city: str\n",
    "\n",
    "class Fellow(BaseModel):\n",
    "    name: str\n",
    "    score: int\n",
    "    addresses: List[Address]\n",
    "\n",
    "data = {\n",
    "    \"name\": \"Micheal\",\n",
    "    \"score\": -79,\n",
    "    \"addresses\": [\n",
    "        {\"street\": \"123 Marose St\", \"city\": \"Ikorodu\"},\n",
    "        {\"street\": \"4 Babatude Ave\", \"city\": \"Abiola way\"}\n",
    "    ]\n",
    "}\n",
    "\n",
    "fellow = Fellow(**data)\n",
    "print(fellow)"
   ]
  },
  {
   "cell_type": "code",
   "execution_count": 50,
   "id": "aea8eb47",
   "metadata": {},
   "outputs": [],
   "source": [
    "from pydantic import BaseModel, Field\n",
    "from typing import List\n",
    "\n",
    "class Address(BaseModel):\n",
    "    street: str\n",
    "    city: str\n",
    "\n",
    "class Fellow(BaseModel):\n",
    "    name: str\n",
    "    score: int = Field(..., ge=0, le=100) # using the field\n",
    "    addresses: List[Address]"
   ]
  },
  {
   "cell_type": "markdown",
   "id": "a91e209b",
   "metadata": {},
   "source": [
    "Here's what that means:\n",
    "`ge=0` -greater than or equal to 0\n",
    "\n",
    "`le=120` - less than or equal to 100\n",
    "\n",
    "The `...` means this field is required (it can't be missing)"
   ]
  },
  {
   "cell_type": "code",
   "execution_count": 51,
   "id": "59ba41d5",
   "metadata": {},
   "outputs": [
    {
     "ename": "ValidationError",
     "evalue": "1 validation error for Fellow\nscore\n  Input should be greater than or equal to 0 [type=greater_than_equal, input_value=-40, input_type=int]\n    For further information visit https://errors.pydantic.dev/2.12/v/greater_than_equal",
     "output_type": "error",
     "traceback": [
      "\u001b[31m---------------------------------------------------------------------------\u001b[39m",
      "\u001b[31mValidationError\u001b[39m                           Traceback (most recent call last)",
      "\u001b[36mCell\u001b[39m\u001b[36m \u001b[39m\u001b[32mIn[51]\u001b[39m\u001b[32m, line 1\u001b[39m\n\u001b[32m----> \u001b[39m\u001b[32m1\u001b[39m \u001b[43mFellow\u001b[49m\u001b[43m(\u001b[49m\u001b[43mname\u001b[49m\u001b[43m=\u001b[49m\u001b[33;43m\"\u001b[39;49m\u001b[33;43mHassan\u001b[39;49m\u001b[33;43m\"\u001b[39;49m\u001b[43m,\u001b[49m\u001b[43m \u001b[49m\u001b[43mscore\u001b[49m\u001b[43m=\u001b[49m\u001b[43m-\u001b[49m\u001b[32;43m40\u001b[39;49m\u001b[43m,\u001b[49m\u001b[43m \u001b[49m\u001b[43maddresses\u001b[49m\u001b[43m=\u001b[49m\u001b[43m[\u001b[49m\u001b[43m]\u001b[49m\u001b[43m)\u001b[49m\n",
      "\u001b[36mFile \u001b[39m\u001b[32mc:\\Users\\user234\\Desktop\\abeokuta\\_data_env\\Lib\\site-packages\\pydantic\\main.py:250\u001b[39m, in \u001b[36mBaseModel.__init__\u001b[39m\u001b[34m(self, **data)\u001b[39m\n\u001b[32m    248\u001b[39m \u001b[38;5;66;03m# `__tracebackhide__` tells pytest and some other tools to omit this function from tracebacks\u001b[39;00m\n\u001b[32m    249\u001b[39m __tracebackhide__ = \u001b[38;5;28;01mTrue\u001b[39;00m\n\u001b[32m--> \u001b[39m\u001b[32m250\u001b[39m validated_self = \u001b[38;5;28;43mself\u001b[39;49m\u001b[43m.\u001b[49m\u001b[43m__pydantic_validator__\u001b[49m\u001b[43m.\u001b[49m\u001b[43mvalidate_python\u001b[49m\u001b[43m(\u001b[49m\u001b[43mdata\u001b[49m\u001b[43m,\u001b[49m\u001b[43m \u001b[49m\u001b[43mself_instance\u001b[49m\u001b[43m=\u001b[49m\u001b[38;5;28;43mself\u001b[39;49m\u001b[43m)\u001b[49m\n\u001b[32m    251\u001b[39m \u001b[38;5;28;01mif\u001b[39;00m \u001b[38;5;28mself\u001b[39m \u001b[38;5;129;01mis\u001b[39;00m \u001b[38;5;129;01mnot\u001b[39;00m validated_self:\n\u001b[32m    252\u001b[39m     warnings.warn(\n\u001b[32m    253\u001b[39m         \u001b[33m'\u001b[39m\u001b[33mA custom validator is returning a value other than `self`.\u001b[39m\u001b[38;5;130;01m\\n\u001b[39;00m\u001b[33m'\u001b[39m\n\u001b[32m    254\u001b[39m         \u001b[33m\"\u001b[39m\u001b[33mReturning anything other than `self` from a top level model validator isn\u001b[39m\u001b[33m'\u001b[39m\u001b[33mt supported when validating via `__init__`.\u001b[39m\u001b[38;5;130;01m\\n\u001b[39;00m\u001b[33m\"\u001b[39m\n\u001b[32m    255\u001b[39m         \u001b[33m'\u001b[39m\u001b[33mSee the `model_validator` docs (https://docs.pydantic.dev/latest/concepts/validators/#model-validators) for more details.\u001b[39m\u001b[33m'\u001b[39m,\n\u001b[32m    256\u001b[39m         stacklevel=\u001b[32m2\u001b[39m,\n\u001b[32m    257\u001b[39m     )\n",
      "\u001b[31mValidationError\u001b[39m: 1 validation error for Fellow\nscore\n  Input should be greater than or equal to 0 [type=greater_than_equal, input_value=-40, input_type=int]\n    For further information visit https://errors.pydantic.dev/2.12/v/greater_than_equal"
     ]
    }
   ],
   "source": [
    "Fellow(name=\"Hassan\", score=-40, addresses=[])"
   ]
  },
  {
   "cell_type": "code",
   "execution_count": 52,
   "id": "dbc0e887",
   "metadata": {},
   "outputs": [
    {
     "data": {
      "text/plain": [
       "Fellow(name='Hassan', score=80, addresses=[])"
      ]
     },
     "execution_count": 52,
     "metadata": {},
     "output_type": "execute_result"
    }
   ],
   "source": [
    "Fellow(name=\"Hassan\", score=80, addresses=[])"
   ]
  },
  {
   "cell_type": "markdown",
   "id": "3764dbb0",
   "metadata": {},
   "source": [
    "**Custom Validaton**"
   ]
  },
  {
   "cell_type": "code",
   "execution_count": null,
   "id": "5f522187",
   "metadata": {},
   "outputs": [],
   "source": [
    "from pydantic import Basemodel"
   ]
  }
 ],
 "metadata": {
  "kernelspec": {
   "display_name": "_data_env",
   "language": "python",
   "name": "python3"
  },
  "language_info": {
   "codemirror_mode": {
    "name": "ipython",
    "version": 3
   },
   "file_extension": ".py",
   "mimetype": "text/x-python",
   "name": "python",
   "nbconvert_exporter": "python",
   "pygments_lexer": "ipython3",
   "version": "3.13.7"
  }
 },
 "nbformat": 4,
 "nbformat_minor": 5
}
