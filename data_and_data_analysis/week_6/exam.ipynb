{
 "cells": [
  {
   "cell_type": "markdown",
   "id": "4a3b562e",
   "metadata": {},
   "source": [
    "Perform dda"
   ]
  },
  {
   "cell_type": "markdown",
   "id": "844a91d6",
   "metadata": {},
   "source": [
    "for loc and iloc, argument 1 is for rows while argument 2 is for columns\n",
    "\n",
    "the main purpose of the loc and iloc is for indexing\n",
    "\n",
    "Using loc\n",
    "\n",
    "[0,2,4,6]"
   ]
  },
  {
   "cell_type": "markdown",
   "id": "0b572e83",
   "metadata": {},
   "source": [
    "Using iloc"
   ]
  },
  {
   "cell_type": "markdown",
   "id": "4b2d389d",
   "metadata": {},
   "source": [
    "Indexing columns... this one is having first arguement for the row and second arguement for the column using column names 0r strings\n"
   ]
  },
  {
   "cell_type": "markdown",
   "id": "45e7284a",
   "metadata": {},
   "source": [
    "Indexing columns... this one is having first arguement for the row and the second arguement  for row but takinng the idex number"
   ]
  },
  {
   "cell_type": "markdown",
   "id": "34f2ffda",
   "metadata": {},
   "source": [
    "Slicing using iloc and loc"
   ]
  },
  {
   "cell_type": "markdown",
   "id": "0a53022f",
   "metadata": {},
   "source": [
    "Using loc..."
   ]
  },
  {
   "cell_type": "code",
   "execution_count": 1,
   "id": "9241a516",
   "metadata": {},
   "outputs": [],
   "source": [
    "# Lets use loc and iloc to slice columns...\n",
    "# Pick from row 0 to 4, and column 1 to 3..\n"
   ]
  },
  {
   "cell_type": "code",
   "execution_count": 2,
   "id": "363a78b0",
   "metadata": {},
   "outputs": [],
   "source": [
    "# Using iloc for integer or index numbers"
   ]
  },
  {
   "cell_type": "code",
   "execution_count": null,
   "id": "50dbe57a",
   "metadata": {},
   "outputs": [],
   "source": [
    "# sales.iloc[0:-1,1:4]"
   ]
  },
  {
   "cell_type": "code",
   "execution_count": 3,
   "id": "9f8885e4",
   "metadata": {},
   "outputs": [],
   "source": [
    "# lets work with index...using loc and iloc..."
   ]
  },
  {
   "cell_type": "code",
   "execution_count": 4,
   "id": "c70c50d2",
   "metadata": {},
   "outputs": [],
   "source": [
    "# list af all the locations or countries where all the customers purchase from..."
   ]
  },
  {
   "cell_type": "code",
   "execution_count": 5,
   "id": "e5483542",
   "metadata": {},
   "outputs": [],
   "source": [
    "# top 10 countries or locations where most patronage are recieved..."
   ]
  },
  {
   "cell_type": "code",
   "execution_count": 6,
   "id": "9ba8b2c0",
   "metadata": {},
   "outputs": [],
   "source": [
    "# print out the number of unique country"
   ]
  },
  {
   "cell_type": "code",
   "execution_count": 7,
   "id": "0a030ee3",
   "metadata": {},
   "outputs": [],
   "source": [
    "# print out the column"
   ]
  },
  {
   "cell_type": "code",
   "execution_count": null,
   "id": "8422d002",
   "metadata": {},
   "outputs": [],
   "source": [
    "# select a country using loc"
   ]
  },
  {
   "cell_type": "code",
   "execution_count": 9,
   "id": "59089fe0",
   "metadata": {},
   "outputs": [],
   "source": [
    "# using iloc, select section (head(3))"
   ]
  },
  {
   "cell_type": "code",
   "execution_count": 10,
   "id": "934983ee",
   "metadata": {},
   "outputs": [],
   "source": [
    "# Filtering/ Masking...\n",
    "# Using Booleans \"AND\" & \"OR\"\n",
    "# AND in pandas is written as \"&\"\n",
    "# OR in pandas is written as \"|\"\n",
    "#-------------------------------------------------#\n"
   ]
  },
  {
   "cell_type": "code",
   "execution_count": 11,
   "id": "429873d1",
   "metadata": {},
   "outputs": [],
   "source": [
    "# filter with customer id"
   ]
  },
  {
   "cell_type": "code",
   "execution_count": 12,
   "id": "9271e5ef",
   "metadata": {},
   "outputs": [],
   "source": [
    "# Total number of customers"
   ]
  },
  {
   "cell_type": "code",
   "execution_count": 13,
   "id": "860fa79e",
   "metadata": {},
   "outputs": [],
   "source": [
    "# Top 20 custommers with the highest purchases...."
   ]
  },
  {
   "cell_type": "code",
   "execution_count": 14,
   "id": "e628b882",
   "metadata": {},
   "outputs": [],
   "source": [
    "# lets pick one of these customers and see their behaviour"
   ]
  },
  {
   "cell_type": "code",
   "execution_count": 15,
   "id": "6460fec9",
   "metadata": {},
   "outputs": [],
   "source": [
    "# give me mask , but from colunm customer_id to currency"
   ]
  },
  {
   "cell_type": "code",
   "execution_count": 16,
   "id": "27fe694c",
   "metadata": {},
   "outputs": [],
   "source": [
    "# print the unique currency"
   ]
  },
  {
   "cell_type": "code",
   "execution_count": 17,
   "id": "df723419",
   "metadata": {},
   "outputs": [],
   "source": [
    "# print currency and number of time used"
   ]
  },
  {
   "cell_type": "code",
   "execution_count": 18,
   "id": "e818b061",
   "metadata": {},
   "outputs": [],
   "source": [
    "## Applying multiple filters....\n",
    "# here we would be using the \"&\" and \"|\" operators...\n",
    "# We have picked out the this particular customer... and the successful  transaction"
   ]
  },
  {
   "cell_type": "code",
   "execution_count": 19,
   "id": "7fac016b",
   "metadata": {},
   "outputs": [],
   "source": [
    "# loc the customer above"
   ]
  },
  {
   "cell_type": "code",
   "execution_count": 20,
   "id": "356ce9ab",
   "metadata": {},
   "outputs": [],
   "source": [
    "# lets see the numbers of sucessful transaction carried out by this customer"
   ]
  },
  {
   "cell_type": "code",
   "execution_count": 21,
   "id": "9775bbc3",
   "metadata": {},
   "outputs": [],
   "source": [
    "# lets filter out the transaction... (where it faild)"
   ]
  },
  {
   "cell_type": "code",
   "execution_count": 22,
   "id": "d74ba087",
   "metadata": {},
   "outputs": [],
   "source": [
    "# LEts find out the numbers of failed transaction as compared to others..."
   ]
  },
  {
   "cell_type": "code",
   "execution_count": null,
   "id": "aecb954f",
   "metadata": {},
   "outputs": [],
   "source": [
    "# Does the currency have effect on the status of currency...? hint (groupby)"
   ]
  },
  {
   "cell_type": "code",
   "execution_count": 24,
   "id": "768ac9fa",
   "metadata": {},
   "outputs": [],
   "source": [
    "# sales.loc[index=='Korea']\n",
    "# Since sales is index, the above code will not work for subsetting Korea"
   ]
  },
  {
   "cell_type": "code",
   "execution_count": 25,
   "id": "b97e12e4",
   "metadata": {},
   "outputs": [],
   "source": [
    "# dda one the above korean data frame"
   ]
  },
  {
   "cell_type": "code",
   "execution_count": 26,
   "id": "30aed5f3",
   "metadata": {},
   "outputs": [],
   "source": [
    "# Lets find out the status of transaction in Korea"
   ]
  },
  {
   "cell_type": "code",
   "execution_count": 27,
   "id": "30dbcde1",
   "metadata": {},
   "outputs": [],
   "source": [
    "# lets check the total numbers of failed transactions"
   ]
  },
  {
   "cell_type": "code",
   "execution_count": 28,
   "id": "e6276046",
   "metadata": {},
   "outputs": [],
   "source": [
    "# out of this 1,982 customers that experiences failed transaction lets see the numbers of unique customers that there..."
   ]
  },
  {
   "cell_type": "code",
   "execution_count": 29,
   "id": "7ddd61f2",
   "metadata": {},
   "outputs": [],
   "source": [
    "# we have 11 customers who have experienced failed transactions of 1,982\n",
    "# LEts see who this customers are..."
   ]
  },
  {
   "cell_type": "code",
   "execution_count": 30,
   "id": "4e621191",
   "metadata": {},
   "outputs": [],
   "source": [
    "# I would pick each of the customers and check if I can find what really happened..."
   ]
  },
  {
   "cell_type": "code",
   "execution_count": 31,
   "id": "8d44f402",
   "metadata": {},
   "outputs": [],
   "source": [
    "# Here we are looking at an individual customer..."
   ]
  },
  {
   "cell_type": "code",
   "execution_count": 32,
   "id": "48b9365b",
   "metadata": {},
   "outputs": [],
   "source": [
    "# How many transactions did this customer made that ended up failing"
   ]
  },
  {
   "cell_type": "code",
   "execution_count": 33,
   "id": "23aef5c7",
   "metadata": {},
   "outputs": [],
   "source": [
    "# This particular customer attempted 198 transactions that failed\n",
    "# What currency was he using to carry out his transactions?"
   ]
  },
  {
   "cell_type": "code",
   "execution_count": null,
   "id": "0abd642d",
   "metadata": {},
   "outputs": [],
   "source": [
    "# This customer uses US Dollars($) for transactions...could payment method have associated to the challenge?\n",
    "# I might still come back to this, to comparw if this customer has any successful transaction..."
   ]
  },
  {
   "cell_type": "code",
   "execution_count": 34,
   "id": "7b802ff5",
   "metadata": {},
   "outputs": [],
   "source": [
    "# Unfortunately, this customer never had any \"Successful\" transation..>\n",
    "# LEts dig further and check the event time stamp and see if we can discover anything there.."
   ]
  },
  {
   "cell_type": "code",
   "execution_count": null,
   "id": "6c5e82a0",
   "metadata": {},
   "outputs": [],
   "source": []
  }
 ],
 "metadata": {
  "kernelspec": {
   "display_name": "_data_evn",
   "language": "python",
   "name": "python3"
  },
  "language_info": {
   "codemirror_mode": {
    "name": "ipython",
    "version": 3
   },
   "file_extension": ".py",
   "mimetype": "text/x-python",
   "name": "python",
   "nbconvert_exporter": "python",
   "pygments_lexer": "ipython3",
   "version": "3.13.5"
  }
 },
 "nbformat": 4,
 "nbformat_minor": 5
}
