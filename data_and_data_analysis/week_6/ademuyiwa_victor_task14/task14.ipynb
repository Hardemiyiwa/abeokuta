{
 "cells": [
  {
   "cell_type": "code",
   "execution_count": 1,
   "id": "cdc1bf50",
   "metadata": {},
   "outputs": [],
   "source": [
    "import pandas as pd\n",
    "import numpy as np\n",
    "import matplotlib.pyplot as plt\n",
    "import seaborn as sns\n",
    "\n",
    "import warnings\n",
    "warnings.filterwarnings('ignore')\n",
    "\n",
    "pd.set_option('display.max_columns', None)\n",
    "pd.set_option('display.width', 10000)"
   ]
  },
  {
   "cell_type": "code",
   "execution_count": 2,
   "id": "967aa69d",
   "metadata": {},
   "outputs": [
    {
     "data": {
      "text/html": [
       "<div>\n",
       "<style scoped>\n",
       "    .dataframe tbody tr th:only-of-type {\n",
       "        vertical-align: middle;\n",
       "    }\n",
       "\n",
       "    .dataframe tbody tr th {\n",
       "        vertical-align: top;\n",
       "    }\n",
       "\n",
       "    .dataframe thead th {\n",
       "        text-align: right;\n",
       "    }\n",
       "</style>\n",
       "<table border=\"1\" class=\"dataframe\">\n",
       "  <thead>\n",
       "    <tr style=\"text-align: right;\">\n",
       "      <th></th>\n",
       "      <th>Date</th>\n",
       "      <th>Branch</th>\n",
       "      <th>Sales Agent</th>\n",
       "      <th>Products</th>\n",
       "      <th>Units</th>\n",
       "      <th>Price</th>\n",
       "    </tr>\n",
       "  </thead>\n",
       "  <tbody>\n",
       "    <tr>\n",
       "      <th>0</th>\n",
       "      <td>2014-09-01</td>\n",
       "      <td>Woji</td>\n",
       "      <td>Chinedu</td>\n",
       "      <td>Apple</td>\n",
       "      <td>2</td>\n",
       "      <td>125.00</td>\n",
       "    </tr>\n",
       "    <tr>\n",
       "      <th>1</th>\n",
       "      <td>2015-06-17</td>\n",
       "      <td>Woji</td>\n",
       "      <td>Emeka</td>\n",
       "      <td>Apple</td>\n",
       "      <td>5</td>\n",
       "      <td>125.00</td>\n",
       "    </tr>\n",
       "    <tr>\n",
       "      <th>2</th>\n",
       "      <td>2015-09-10</td>\n",
       "      <td>Woji</td>\n",
       "      <td>Ibrahim</td>\n",
       "      <td>Lenovo</td>\n",
       "      <td>7</td>\n",
       "      <td>1.29</td>\n",
       "    </tr>\n",
       "    <tr>\n",
       "      <th>3</th>\n",
       "      <td>2015-11-17</td>\n",
       "      <td>Woji</td>\n",
       "      <td>Tolu</td>\n",
       "      <td>HP</td>\n",
       "      <td>11</td>\n",
       "      <td>4.99</td>\n",
       "    </tr>\n",
       "    <tr>\n",
       "      <th>4</th>\n",
       "      <td>2015-10-31</td>\n",
       "      <td>Woji</td>\n",
       "      <td>Tonye</td>\n",
       "      <td>Lenovo</td>\n",
       "      <td>14</td>\n",
       "      <td>1.29</td>\n",
       "    </tr>\n",
       "  </tbody>\n",
       "</table>\n",
       "</div>"
      ],
      "text/plain": [
       "        Date Branch Sales Agent Products  Units   Price\n",
       "0 2014-09-01   Woji     Chinedu    Apple      2  125.00\n",
       "1 2015-06-17   Woji       Emeka    Apple      5  125.00\n",
       "2 2015-09-10   Woji     Ibrahim   Lenovo      7    1.29\n",
       "3 2015-11-17   Woji        Tolu       HP     11    4.99\n",
       "4 2015-10-31   Woji       Tonye   Lenovo     14    1.29"
      ]
     },
     "execution_count": 2,
     "metadata": {},
     "output_type": "execute_result"
    }
   ],
   "source": [
    "# Load in the dataset\n",
    "df = pd.read_excel(\"eletronic_sales.xlsx\")\n",
    "df.head()"
   ]
  },
  {
   "cell_type": "code",
   "execution_count": 32,
   "id": "0f05a130",
   "metadata": {},
   "outputs": [],
   "source": [
    "## What makes a dirty data?\n",
    "# Missing values\n",
    "\n",
    "# Duplicates\n",
    "# inconsistent data columns\n",
    "# wrong datatype ....>to change datatypes we use \".astype()\" ----> to check datatypes we use \"dtypes\"\n",
    "# incomplete data\n",
    "\n",
    "## Why do we need to clean data? We clean data to ensure\n",
    "# --->Data integrity, accuracy and consistency---->\n",
    "\n",
    "\n",
    "## Data anaysis pipeline\n",
    "#1. ETL (Extract, Transform and Load)\n",
    "#2. creating data model for visualization\n",
    "#3. building dashboard\n",
    "#4. Reporting and presentation\n",
    "\n",
    "## Data Science pipeline\n",
    "#1. Preliminary analysis\n",
    "#2. EDA Exploratory data analysis\n",
    "#3. Data cleaning\n",
    "#4. Analysis(Data Wrangling)\n",
    "#5. Data preprocessing and data mining\n",
    "#6. Building your model(prediction, forcasting, classification, clustering)\n",
    "#7. Reporting and visualization\n",
    "#8. Deployment\n",
    "#9. Maintenance and monitoring\n",
    "#10.Support and troubleshooting\n",
    "#----> Please note that from step2 to step5 is an iterative process that is dependent on step 6. Step 6 itself could also be iterative"
   ]
  },
  {
   "cell_type": "code",
   "execution_count": 3,
   "id": "077fa91f",
   "metadata": {},
   "outputs": [
    {
     "data": {
      "text/html": [
       "<div>\n",
       "<style scoped>\n",
       "    .dataframe tbody tr th:only-of-type {\n",
       "        vertical-align: middle;\n",
       "    }\n",
       "\n",
       "    .dataframe tbody tr th {\n",
       "        vertical-align: top;\n",
       "    }\n",
       "\n",
       "    .dataframe thead th {\n",
       "        text-align: right;\n",
       "    }\n",
       "</style>\n",
       "<table border=\"1\" class=\"dataframe\">\n",
       "  <thead>\n",
       "    <tr style=\"text-align: right;\">\n",
       "      <th></th>\n",
       "      <th>Date</th>\n",
       "      <th>Branch</th>\n",
       "      <th>Sales Agent</th>\n",
       "      <th>Products</th>\n",
       "      <th>Units</th>\n",
       "      <th>Price</th>\n",
       "    </tr>\n",
       "  </thead>\n",
       "  <tbody>\n",
       "    <tr>\n",
       "      <th>0</th>\n",
       "      <td>2014-09-01</td>\n",
       "      <td>Woji</td>\n",
       "      <td>Chinedu</td>\n",
       "      <td>Apple</td>\n",
       "      <td>2</td>\n",
       "      <td>125.00</td>\n",
       "    </tr>\n",
       "    <tr>\n",
       "      <th>1</th>\n",
       "      <td>2015-06-17</td>\n",
       "      <td>Woji</td>\n",
       "      <td>Emeka</td>\n",
       "      <td>Apple</td>\n",
       "      <td>5</td>\n",
       "      <td>125.00</td>\n",
       "    </tr>\n",
       "    <tr>\n",
       "      <th>2</th>\n",
       "      <td>2015-09-10</td>\n",
       "      <td>Woji</td>\n",
       "      <td>Ibrahim</td>\n",
       "      <td>Lenovo</td>\n",
       "      <td>7</td>\n",
       "      <td>1.29</td>\n",
       "    </tr>\n",
       "    <tr>\n",
       "      <th>3</th>\n",
       "      <td>2015-11-17</td>\n",
       "      <td>Woji</td>\n",
       "      <td>Tolu</td>\n",
       "      <td>HP</td>\n",
       "      <td>11</td>\n",
       "      <td>4.99</td>\n",
       "    </tr>\n",
       "    <tr>\n",
       "      <th>4</th>\n",
       "      <td>2015-10-31</td>\n",
       "      <td>Woji</td>\n",
       "      <td>Tonye</td>\n",
       "      <td>Lenovo</td>\n",
       "      <td>14</td>\n",
       "      <td>1.29</td>\n",
       "    </tr>\n",
       "  </tbody>\n",
       "</table>\n",
       "</div>"
      ],
      "text/plain": [
       "        Date Branch Sales Agent Products  Units   Price\n",
       "0 2014-09-01   Woji     Chinedu    Apple      2  125.00\n",
       "1 2015-06-17   Woji       Emeka    Apple      5  125.00\n",
       "2 2015-09-10   Woji     Ibrahim   Lenovo      7    1.29\n",
       "3 2015-11-17   Woji        Tolu       HP     11    4.99\n",
       "4 2015-10-31   Woji       Tonye   Lenovo     14    1.29"
      ]
     },
     "execution_count": 3,
     "metadata": {},
     "output_type": "execute_result"
    }
   ],
   "source": [
    "# View a snapshot of your dataset\n",
    "df.head()"
   ]
  },
  {
   "cell_type": "code",
   "execution_count": 4,
   "id": "f05e76d2",
   "metadata": {},
   "outputs": [],
   "source": [
    "# Do a little bit of feature engineering\n",
    "\n",
    "# add revenue column\n",
    "# To create a new column, you start with creating the new columns as a variable name\n",
    "\n",
    "# units X price = Revenue\n",
    "# units * price = Revenue\n",
    "\n",
    "df[\"Revenue\"] = df[\"Units\"] * df[\"Price\"]\n",
    "\n",
    "#  Round(parameter,2)\n",
    "df[\"Revenue(N)\"] = round(df[\"Units\"] * df[\"Price\"] * 1000,2)"
   ]
  },
  {
   "cell_type": "markdown",
   "id": "18461d64",
   "metadata": {},
   "source": [
    "**Feature Engineering**\n",
    "* Explanation:\n",
    "\n",
    "Feature Engineering- This means 3 things, one is useful here and the other two for machine learning. Feature engineering in this context, has to do with creating a new feature or column by combining, extracting or simply doing calculation on an existing column or feature."
   ]
  },
  {
   "cell_type": "code",
   "execution_count": 5,
   "id": "8a279964",
   "metadata": {},
   "outputs": [
    {
     "data": {
      "text/html": [
       "<div>\n",
       "<style scoped>\n",
       "    .dataframe tbody tr th:only-of-type {\n",
       "        vertical-align: middle;\n",
       "    }\n",
       "\n",
       "    .dataframe tbody tr th {\n",
       "        vertical-align: top;\n",
       "    }\n",
       "\n",
       "    .dataframe thead th {\n",
       "        text-align: right;\n",
       "    }\n",
       "</style>\n",
       "<table border=\"1\" class=\"dataframe\">\n",
       "  <thead>\n",
       "    <tr style=\"text-align: right;\">\n",
       "      <th></th>\n",
       "      <th>Date</th>\n",
       "      <th>Branch</th>\n",
       "      <th>Sales Agent</th>\n",
       "      <th>Products</th>\n",
       "      <th>Units</th>\n",
       "      <th>Price</th>\n",
       "      <th>Revenue</th>\n",
       "      <th>Revenue(N)</th>\n",
       "    </tr>\n",
       "  </thead>\n",
       "  <tbody>\n",
       "    <tr>\n",
       "      <th>0</th>\n",
       "      <td>2014-09-01</td>\n",
       "      <td>Woji</td>\n",
       "      <td>Chinedu</td>\n",
       "      <td>Apple</td>\n",
       "      <td>2</td>\n",
       "      <td>125.00</td>\n",
       "      <td>250.00</td>\n",
       "      <td>250000.0</td>\n",
       "    </tr>\n",
       "    <tr>\n",
       "      <th>1</th>\n",
       "      <td>2015-06-17</td>\n",
       "      <td>Woji</td>\n",
       "      <td>Emeka</td>\n",
       "      <td>Apple</td>\n",
       "      <td>5</td>\n",
       "      <td>125.00</td>\n",
       "      <td>625.00</td>\n",
       "      <td>625000.0</td>\n",
       "    </tr>\n",
       "    <tr>\n",
       "      <th>2</th>\n",
       "      <td>2015-09-10</td>\n",
       "      <td>Woji</td>\n",
       "      <td>Ibrahim</td>\n",
       "      <td>Lenovo</td>\n",
       "      <td>7</td>\n",
       "      <td>1.29</td>\n",
       "      <td>9.03</td>\n",
       "      <td>9030.0</td>\n",
       "    </tr>\n",
       "    <tr>\n",
       "      <th>3</th>\n",
       "      <td>2015-11-17</td>\n",
       "      <td>Woji</td>\n",
       "      <td>Tolu</td>\n",
       "      <td>HP</td>\n",
       "      <td>11</td>\n",
       "      <td>4.99</td>\n",
       "      <td>54.89</td>\n",
       "      <td>54890.0</td>\n",
       "    </tr>\n",
       "    <tr>\n",
       "      <th>4</th>\n",
       "      <td>2015-10-31</td>\n",
       "      <td>Woji</td>\n",
       "      <td>Tonye</td>\n",
       "      <td>Lenovo</td>\n",
       "      <td>14</td>\n",
       "      <td>1.29</td>\n",
       "      <td>18.06</td>\n",
       "      <td>18060.0</td>\n",
       "    </tr>\n",
       "  </tbody>\n",
       "</table>\n",
       "</div>"
      ],
      "text/plain": [
       "        Date Branch Sales Agent Products  Units   Price  Revenue  Revenue(N)\n",
       "0 2014-09-01   Woji     Chinedu    Apple      2  125.00   250.00    250000.0\n",
       "1 2015-06-17   Woji       Emeka    Apple      5  125.00   625.00    625000.0\n",
       "2 2015-09-10   Woji     Ibrahim   Lenovo      7    1.29     9.03      9030.0\n",
       "3 2015-11-17   Woji        Tolu       HP     11    4.99    54.89     54890.0\n",
       "4 2015-10-31   Woji       Tonye   Lenovo     14    1.29    18.06     18060.0"
      ]
     },
     "execution_count": 5,
     "metadata": {},
     "output_type": "execute_result"
    }
   ],
   "source": [
    "# view to see if the changes has been effected\n",
    "df.head()"
   ]
  },
  {
   "cell_type": "code",
   "execution_count": 7,
   "id": "e40c480f",
   "metadata": {},
   "outputs": [
    {
     "data": {
      "text/plain": [
       "Date           datetime64[ns]\n",
       "Branch                 object\n",
       "Sales Agent            object\n",
       "Products               object\n",
       "Units                   int64\n",
       "Price                 float64\n",
       "Revenue               float64\n",
       "Revenue(N)            float64\n",
       "dtype: object"
      ]
     },
     "execution_count": 7,
     "metadata": {},
     "output_type": "execute_result"
    }
   ],
   "source": [
    "# let check data types\n",
    "df.dtypes"
   ]
  },
  {
   "cell_type": "code",
   "execution_count": 8,
   "id": "5eee6b63",
   "metadata": {},
   "outputs": [],
   "source": [
    "# lets convert the date column to datatime\n",
    "# Using \"pd.to_datetime()\"function\n",
    "\n",
    "# to_datatime()\n",
    "\n",
    "# datetime()\n",
    "df[\"Date\"] = pd.to_datetime(df[\"Date\"])"
   ]
  },
  {
   "cell_type": "code",
   "execution_count": 9,
   "id": "973103da",
   "metadata": {},
   "outputs": [
    {
     "data": {
      "text/plain": [
       "Date           datetime64[ns]\n",
       "Branch                 object\n",
       "Sales Agent            object\n",
       "Products               object\n",
       "Units                   int64\n",
       "Price                 float64\n",
       "Revenue               float64\n",
       "Revenue(N)            float64\n",
       "dtype: object"
      ]
     },
     "execution_count": 9,
     "metadata": {},
     "output_type": "execute_result"
    }
   ],
   "source": [
    "# lets check our data types\n",
    "df.dtypes"
   ]
  },
  {
   "cell_type": "code",
   "execution_count": 39,
   "id": "a17f1e4d",
   "metadata": {},
   "outputs": [
    {
     "data": {
      "text/plain": [
       "<Axes: xlabel='Data Types', ylabel='Count'>"
      ]
     },
     "execution_count": 39,
     "metadata": {},
     "output_type": "execute_result"
    },
    {
     "data": {
      "image/png": "[encoded data removed]",
      "text/plain": [
       "<Figure size 640x480 with 1 Axes>"
      ]
     },
     "metadata": {},
     "output_type": "display_data"
    }
   ],
   "source": [
    "# lets just plot this, its not important though.\n",
    "df.dtypes.value_counts().plot(kind=\"bar\", xlabel= \"Data Types\", ylabel= \"Count\")"
   ]
  },
  {
   "cell_type": "code",
   "execution_count": 10,
   "id": "db23fc70",
   "metadata": {},
   "outputs": [],
   "source": [
    "# Lets do more feature engineering\n",
    "\n",
    "# lets work on our datetime to extract the month, year and week name\n",
    "# Using \".dt.year\",\".dt.month_name()\",\".day_name()\"\n",
    "\n",
    "df[\"Year\"] = df[\"Date\"].dt.year\n",
    "df[\"Month\"] = df[\"Date\"].dt.month_name()\n",
    "df[\"Day\"] = df['Date'].dt.day_name()"
   ]
  },
  {
   "cell_type": "code",
   "execution_count": 11,
   "id": "264f91d9",
   "metadata": {},
   "outputs": [
    {
     "data": {
      "text/html": [
       "<div>\n",
       "<style scoped>\n",
       "    .dataframe tbody tr th:only-of-type {\n",
       "        vertical-align: middle;\n",
       "    }\n",
       "\n",
       "    .dataframe tbody tr th {\n",
       "        vertical-align: top;\n",
       "    }\n",
       "\n",
       "    .dataframe thead th {\n",
       "        text-align: right;\n",
       "    }\n",
       "</style>\n",
       "<table border=\"1\" class=\"dataframe\">\n",
       "  <thead>\n",
       "    <tr style=\"text-align: right;\">\n",
       "      <th></th>\n",
       "      <th>Date</th>\n",
       "      <th>Branch</th>\n",
       "      <th>Sales Agent</th>\n",
       "      <th>Products</th>\n",
       "      <th>Units</th>\n",
       "      <th>Price</th>\n",
       "      <th>Revenue</th>\n",
       "      <th>Revenue(N)</th>\n",
       "      <th>Year</th>\n",
       "      <th>Month</th>\n",
       "      <th>Day</th>\n",
       "    </tr>\n",
       "  </thead>\n",
       "  <tbody>\n",
       "    <tr>\n",
       "      <th>0</th>\n",
       "      <td>2014-09-01</td>\n",
       "      <td>Woji</td>\n",
       "      <td>Chinedu</td>\n",
       "      <td>Apple</td>\n",
       "      <td>2</td>\n",
       "      <td>125.00</td>\n",
       "      <td>250.00</td>\n",
       "      <td>250000.0</td>\n",
       "      <td>2014</td>\n",
       "      <td>September</td>\n",
       "      <td>Monday</td>\n",
       "    </tr>\n",
       "    <tr>\n",
       "      <th>1</th>\n",
       "      <td>2015-06-17</td>\n",
       "      <td>Woji</td>\n",
       "      <td>Emeka</td>\n",
       "      <td>Apple</td>\n",
       "      <td>5</td>\n",
       "      <td>125.00</td>\n",
       "      <td>625.00</td>\n",
       "      <td>625000.0</td>\n",
       "      <td>2015</td>\n",
       "      <td>June</td>\n",
       "      <td>Wednesday</td>\n",
       "    </tr>\n",
       "    <tr>\n",
       "      <th>2</th>\n",
       "      <td>2015-09-10</td>\n",
       "      <td>Woji</td>\n",
       "      <td>Ibrahim</td>\n",
       "      <td>Lenovo</td>\n",
       "      <td>7</td>\n",
       "      <td>1.29</td>\n",
       "      <td>9.03</td>\n",
       "      <td>9030.0</td>\n",
       "      <td>2015</td>\n",
       "      <td>September</td>\n",
       "      <td>Thursday</td>\n",
       "    </tr>\n",
       "    <tr>\n",
       "      <th>3</th>\n",
       "      <td>2015-11-17</td>\n",
       "      <td>Woji</td>\n",
       "      <td>Tolu</td>\n",
       "      <td>HP</td>\n",
       "      <td>11</td>\n",
       "      <td>4.99</td>\n",
       "      <td>54.89</td>\n",
       "      <td>54890.0</td>\n",
       "      <td>2015</td>\n",
       "      <td>November</td>\n",
       "      <td>Tuesday</td>\n",
       "    </tr>\n",
       "    <tr>\n",
       "      <th>4</th>\n",
       "      <td>2015-10-31</td>\n",
       "      <td>Woji</td>\n",
       "      <td>Tonye</td>\n",
       "      <td>Lenovo</td>\n",
       "      <td>14</td>\n",
       "      <td>1.29</td>\n",
       "      <td>18.06</td>\n",
       "      <td>18060.0</td>\n",
       "      <td>2015</td>\n",
       "      <td>October</td>\n",
       "      <td>Saturday</td>\n",
       "    </tr>\n",
       "  </tbody>\n",
       "</table>\n",
       "</div>"
      ],
      "text/plain": [
       "        Date Branch Sales Agent Products  Units   Price  Revenue  Revenue(N)  Year      Month        Day\n",
       "0 2014-09-01   Woji     Chinedu    Apple      2  125.00   250.00    250000.0  2014  September     Monday\n",
       "1 2015-06-17   Woji       Emeka    Apple      5  125.00   625.00    625000.0  2015       June  Wednesday\n",
       "2 2015-09-10   Woji     Ibrahim   Lenovo      7    1.29     9.03      9030.0  2015  September   Thursday\n",
       "3 2015-11-17   Woji        Tolu       HP     11    4.99    54.89     54890.0  2015   November    Tuesday\n",
       "4 2015-10-31   Woji       Tonye   Lenovo     14    1.29    18.06     18060.0  2015    October   Saturday"
      ]
     },
     "execution_count": 11,
     "metadata": {},
     "output_type": "execute_result"
    }
   ],
   "source": [
    "# df.drop('week', axis=11, inplace=True)\n",
    "df.head()"
   ]
  },
  {
   "cell_type": "markdown",
   "id": "440fb1cc",
   "metadata": {},
   "source": [
    "#2.0 Steps to Analysis\n",
    "**Note:** This is after you have followed the ETL(Extract Transform Load) frame work, this is you importing your dataset, cleaning and preparing it for analysis\n",
    "\n",
    "### A. Work on the KPI's (Key performance index of this data)\n",
    "1. Total units sold\n",
    "2. Total Revenue\n",
    "3. Average Revenue per unit\n",
    "4. Numbers of products\n",
    "5. Numbers of Sales Agents\n",
    "\n",
    "### B. Work on the insights by creating models(Note that creating models in data analysis is different from building models in machine learning)\n",
    "1. Total monthly revenue by Year\n",
    "2. Total revenue by branch\n",
    "3. Total revenue by products\n",
    "4. Total revenue by sales agent\n",
    "5. Total revenue by week\n",
    "6. Total revenue by month\n",
    "7. Trends of sales\n",
    "\n",
    "### C. Build your dash board\n",
    "1. Add the title of your analysis.\n",
    "2. Add the business/company\n",
    "3. Add your KPI's\n",
    "4. Add Charts with appropriate labelling\n",
    "5. Add your slicer if you are working with streamlit or excel or PowerBi or Tableau to make your dashboard interactive(if not, exclude it)\n",
    "\n",
    "### C. Report your insights\n",
    "1. Start with the an executive summary briefly explaining what you and briefly introducing the KPI's.\n",
    "2. Explain your insights in a narative and relatable way using your visuals.\n",
    "\n",
    "### D. Make recommendation\n",
    "1. What should the business owner to increase monthly sales\n",
    "2. Which of the brannches should be given more attention\n",
    "3. Which products should be removed from the stock, which products should be purchased more\n",
    "4. Which of the sales agents should be given more incentives/promoted to sales managers position"
   ]
  },
  {
   "cell_type": "markdown",
   "id": "6d0948e4",
   "metadata": {},
   "source": [
    "##A. Work on the KPI's (Key performance index of this data)"
   ]
  },
  {
   "cell_type": "code",
   "execution_count": 12,
   "id": "0560cf25",
   "metadata": {},
   "outputs": [
    {
     "name": "stdout",
     "output_type": "stream",
     "text": [
      "Total goods sold: 2121\n"
     ]
    }
   ],
   "source": [
    "# 1. Total units sold\n",
    "Total_goods_sold = df[\"Units\"].sum()\n",
    "print(f\"Total goods sold: {Total_goods_sold}\")"
   ]
  },
  {
   "cell_type": "code",
   "execution_count": 13,
   "id": "d6d40b4e",
   "metadata": {},
   "outputs": [
    {
     "name": "stdout",
     "output_type": "stream",
     "text": [
      "Total revenue: N19627880.0\n"
     ]
    }
   ],
   "source": [
    "# 2. Total revenue\n",
    "Total_revenue = df[\"Revenue(N)\"].sum()\n",
    "print(f\"Total revenue: N{Total_revenue}\")"
   ]
  },
  {
   "cell_type": "code",
   "execution_count": 14,
   "id": "42d629c7",
   "metadata": {},
   "outputs": [
    {
     "name": "stdout",
     "output_type": "stream",
     "text": [
      "Average Revenue per unit: N9254.07\n"
     ]
    }
   ],
   "source": [
    "# 3. Average Revenue per unit\n",
    "# using \"round()function to approximate to 2 decimal place2\n",
    "Average_revenue_per_unit = round(Total_revenue / Total_goods_sold, 2)\n",
    "print(f\"Average Revenue per unit: N{Average_revenue_per_unit}\")"
   ]
  },
  {
   "cell_type": "code",
   "execution_count": 15,
   "id": "520ea3ee",
   "metadata": {},
   "outputs": [
    {
     "name": "stdout",
     "output_type": "stream",
     "text": [
      "Numbers of product: 5\n"
     ]
    }
   ],
   "source": [
    "# 4. Numbers of products\n",
    "# using the .nunique() shows the numbers of unique values\n",
    "Numbers_of_products = df[\"Products\"].nunique()\n",
    "print(f\"Numbers of product: {Numbers_of_products}\")"
   ]
  },
  {
   "cell_type": "code",
   "execution_count": 16,
   "id": "59905486",
   "metadata": {},
   "outputs": [
    {
     "name": "stdout",
     "output_type": "stream",
     "text": [
      "Numbers of Sales Agents: 11\n"
     ]
    }
   ],
   "source": [
    "# 5. Numbers of Sales agents\n",
    "numbers_of_sales_agents = df[\"Sales Agent\"].nunique()\n",
    "print(f\"Numbers of Sales Agents: {numbers_of_sales_agents}\")"
   ]
  },
  {
   "cell_type": "markdown",
   "id": "c6187fb4",
   "metadata": {},
   "source": [
    "##B. work on the insights by creating models and plotting their charts."
   ]
  },
  {
   "cell_type": "code",
   "execution_count": 17,
   "id": "c9871cca",
   "metadata": {},
   "outputs": [
    {
     "data": {
      "text/html": [
       "<div>\n",
       "<style scoped>\n",
       "    .dataframe tbody tr th:only-of-type {\n",
       "        vertical-align: middle;\n",
       "    }\n",
       "\n",
       "    .dataframe tbody tr th {\n",
       "        vertical-align: top;\n",
       "    }\n",
       "\n",
       "    .dataframe thead th {\n",
       "        text-align: right;\n",
       "    }\n",
       "</style>\n",
       "<table border=\"1\" class=\"dataframe\">\n",
       "  <thead>\n",
       "    <tr style=\"text-align: right;\">\n",
       "      <th></th>\n",
       "      <th>Branch</th>\n",
       "      <th>Sales Agent</th>\n",
       "      <th>Products</th>\n",
       "      <th>Units</th>\n",
       "      <th>Price</th>\n",
       "      <th>Revenue</th>\n",
       "      <th>Revenue(N)</th>\n",
       "      <th>Year</th>\n",
       "      <th>Month</th>\n",
       "      <th>Day</th>\n",
       "    </tr>\n",
       "    <tr>\n",
       "      <th>Date</th>\n",
       "      <th></th>\n",
       "      <th></th>\n",
       "      <th></th>\n",
       "      <th></th>\n",
       "      <th></th>\n",
       "      <th></th>\n",
       "      <th></th>\n",
       "      <th></th>\n",
       "      <th></th>\n",
       "      <th></th>\n",
       "    </tr>\n",
       "  </thead>\n",
       "  <tbody>\n",
       "    <tr>\n",
       "      <th>2014-09-01</th>\n",
       "      <td>Woji</td>\n",
       "      <td>Chinedu</td>\n",
       "      <td>Apple</td>\n",
       "      <td>2</td>\n",
       "      <td>125.00</td>\n",
       "      <td>250.00</td>\n",
       "      <td>250000.0</td>\n",
       "      <td>2014</td>\n",
       "      <td>September</td>\n",
       "      <td>Monday</td>\n",
       "    </tr>\n",
       "    <tr>\n",
       "      <th>2015-06-17</th>\n",
       "      <td>Woji</td>\n",
       "      <td>Emeka</td>\n",
       "      <td>Apple</td>\n",
       "      <td>5</td>\n",
       "      <td>125.00</td>\n",
       "      <td>625.00</td>\n",
       "      <td>625000.0</td>\n",
       "      <td>2015</td>\n",
       "      <td>June</td>\n",
       "      <td>Wednesday</td>\n",
       "    </tr>\n",
       "    <tr>\n",
       "      <th>2015-09-10</th>\n",
       "      <td>Woji</td>\n",
       "      <td>Ibrahim</td>\n",
       "      <td>Lenovo</td>\n",
       "      <td>7</td>\n",
       "      <td>1.29</td>\n",
       "      <td>9.03</td>\n",
       "      <td>9030.0</td>\n",
       "      <td>2015</td>\n",
       "      <td>September</td>\n",
       "      <td>Thursday</td>\n",
       "    </tr>\n",
       "    <tr>\n",
       "      <th>2015-11-17</th>\n",
       "      <td>Woji</td>\n",
       "      <td>Tolu</td>\n",
       "      <td>HP</td>\n",
       "      <td>11</td>\n",
       "      <td>4.99</td>\n",
       "      <td>54.89</td>\n",
       "      <td>54890.0</td>\n",
       "      <td>2015</td>\n",
       "      <td>November</td>\n",
       "      <td>Tuesday</td>\n",
       "    </tr>\n",
       "    <tr>\n",
       "      <th>2015-10-31</th>\n",
       "      <td>Woji</td>\n",
       "      <td>Tonye</td>\n",
       "      <td>Lenovo</td>\n",
       "      <td>14</td>\n",
       "      <td>1.29</td>\n",
       "      <td>18.06</td>\n",
       "      <td>18060.0</td>\n",
       "      <td>2015</td>\n",
       "      <td>October</td>\n",
       "      <td>Saturday</td>\n",
       "    </tr>\n",
       "  </tbody>\n",
       "</table>\n",
       "</div>"
      ],
      "text/plain": [
       "           Branch Sales Agent Products  Units   Price  Revenue  Revenue(N)  Year      Month        Day\n",
       "Date                                                                                                  \n",
       "2014-09-01   Woji     Chinedu    Apple      2  125.00   250.00    250000.0  2014  September     Monday\n",
       "2015-06-17   Woji       Emeka    Apple      5  125.00   625.00    625000.0  2015       June  Wednesday\n",
       "2015-09-10   Woji     Ibrahim   Lenovo      7    1.29     9.03      9030.0  2015  September   Thursday\n",
       "2015-11-17   Woji        Tolu       HP     11    4.99    54.89     54890.0  2015   November    Tuesday\n",
       "2015-10-31   Woji       Tonye   Lenovo     14    1.29    18.06     18060.0  2015    October   Saturday"
      ]
     },
     "execution_count": 17,
     "metadata": {},
     "output_type": "execute_result"
    }
   ],
   "source": [
    "# Set index using the data column\n",
    "df.set_index(\"Date\", inplace=True)\n",
    "df.head()"
   ]
  },
  {
   "cell_type": "markdown",
   "id": "b797d671",
   "metadata": {},
   "source": [
    "Class Task1: Calculate the Total Monthly revenue for year 2015 and plot the chart using 3 visualization packages in python"
   ]
  },
  {
   "cell_type": "code",
   "execution_count": 18,
   "id": "dd23be26",
   "metadata": {},
   "outputs": [
    {
     "data": {
      "text/plain": [
       "array([2014, 2015], dtype=int32)"
      ]
     },
     "execution_count": 18,
     "metadata": {},
     "output_type": "execute_result"
    }
   ],
   "source": [
    "df.Year.unique()"
   ]
  },
  {
   "cell_type": "code",
   "execution_count": 20,
   "id": "c5507bb0",
   "metadata": {},
   "outputs": [],
   "source": [
    "sales_2015 = df[df[\"Year\"] == 2015]"
   ]
  },
  {
   "cell_type": "code",
   "execution_count": 21,
   "id": "1df778ae",
   "metadata": {},
   "outputs": [
    {
     "data": {
      "text/html": [
       "<div>\n",
       "<style scoped>\n",
       "    .dataframe tbody tr th:only-of-type {\n",
       "        vertical-align: middle;\n",
       "    }\n",
       "\n",
       "    .dataframe tbody tr th {\n",
       "        vertical-align: top;\n",
       "    }\n",
       "\n",
       "    .dataframe thead th {\n",
       "        text-align: right;\n",
       "    }\n",
       "</style>\n",
       "<table border=\"1\" class=\"dataframe\">\n",
       "  <thead>\n",
       "    <tr style=\"text-align: right;\">\n",
       "      <th></th>\n",
       "      <th>Branch</th>\n",
       "      <th>Sales Agent</th>\n",
       "      <th>Products</th>\n",
       "      <th>Units</th>\n",
       "      <th>Price</th>\n",
       "      <th>Revenue</th>\n",
       "      <th>Revenue(N)</th>\n",
       "      <th>Year</th>\n",
       "      <th>Month</th>\n",
       "      <th>Day</th>\n",
       "    </tr>\n",
       "    <tr>\n",
       "      <th>Date</th>\n",
       "      <th></th>\n",
       "      <th></th>\n",
       "      <th></th>\n",
       "      <th></th>\n",
       "      <th></th>\n",
       "      <th></th>\n",
       "      <th></th>\n",
       "      <th></th>\n",
       "      <th></th>\n",
       "      <th></th>\n",
       "    </tr>\n",
       "  </thead>\n",
       "  <tbody>\n",
       "    <tr>\n",
       "      <th>2015-06-17</th>\n",
       "      <td>Woji</td>\n",
       "      <td>Emeka</td>\n",
       "      <td>Apple</td>\n",
       "      <td>5</td>\n",
       "      <td>125.00</td>\n",
       "      <td>625.00</td>\n",
       "      <td>625000.0</td>\n",
       "      <td>2015</td>\n",
       "      <td>June</td>\n",
       "      <td>Wednesday</td>\n",
       "    </tr>\n",
       "    <tr>\n",
       "      <th>2015-09-10</th>\n",
       "      <td>Woji</td>\n",
       "      <td>Ibrahim</td>\n",
       "      <td>Lenovo</td>\n",
       "      <td>7</td>\n",
       "      <td>1.29</td>\n",
       "      <td>9.03</td>\n",
       "      <td>9030.0</td>\n",
       "      <td>2015</td>\n",
       "      <td>September</td>\n",
       "      <td>Thursday</td>\n",
       "    </tr>\n",
       "    <tr>\n",
       "      <th>2015-11-17</th>\n",
       "      <td>Woji</td>\n",
       "      <td>Tolu</td>\n",
       "      <td>HP</td>\n",
       "      <td>11</td>\n",
       "      <td>4.99</td>\n",
       "      <td>54.89</td>\n",
       "      <td>54890.0</td>\n",
       "      <td>2015</td>\n",
       "      <td>November</td>\n",
       "      <td>Tuesday</td>\n",
       "    </tr>\n",
       "    <tr>\n",
       "      <th>2015-10-31</th>\n",
       "      <td>Woji</td>\n",
       "      <td>Tonye</td>\n",
       "      <td>Lenovo</td>\n",
       "      <td>14</td>\n",
       "      <td>1.29</td>\n",
       "      <td>18.06</td>\n",
       "      <td>18060.0</td>\n",
       "      <td>2015</td>\n",
       "      <td>October</td>\n",
       "      <td>Saturday</td>\n",
       "    </tr>\n",
       "    <tr>\n",
       "      <th>2015-12-21</th>\n",
       "      <td>Woji</td>\n",
       "      <td>Tonye</td>\n",
       "      <td>HP</td>\n",
       "      <td>28</td>\n",
       "      <td>4.99</td>\n",
       "      <td>139.72</td>\n",
       "      <td>139720.0</td>\n",
       "      <td>2015</td>\n",
       "      <td>December</td>\n",
       "      <td>Monday</td>\n",
       "    </tr>\n",
       "  </tbody>\n",
       "</table>\n",
       "</div>"
      ],
      "text/plain": [
       "           Branch Sales Agent Products  Units   Price  Revenue  Revenue(N)  Year      Month        Day\n",
       "Date                                                                                                  \n",
       "2015-06-17   Woji       Emeka    Apple      5  125.00   625.00    625000.0  2015       June  Wednesday\n",
       "2015-09-10   Woji     Ibrahim   Lenovo      7    1.29     9.03      9030.0  2015  September   Thursday\n",
       "2015-11-17   Woji        Tolu       HP     11    4.99    54.89     54890.0  2015   November    Tuesday\n",
       "2015-10-31   Woji       Tonye   Lenovo     14    1.29    18.06     18060.0  2015    October   Saturday\n",
       "2015-12-21   Woji       Tonye       HP     28    4.99   139.72    139720.0  2015   December     Monday"
      ]
     },
     "execution_count": 21,
     "metadata": {},
     "output_type": "execute_result"
    }
   ],
   "source": [
    "# 1.  Filtering\n",
    "# 2. Grouping\n",
    "# 3. Visuals\n",
    "\n",
    "# lets start analysing this dataset for insights\n",
    "\n",
    "# 1. Monthly revenue in 2015\n",
    "\n",
    "# step1: Filter for 2015\n",
    "\n",
    "sales_2015 = df[df['Year'] == 2015]\n",
    "sales_2015.head()"
   ]
  },
  {
   "cell_type": "code",
   "execution_count": null,
   "id": "9a221c62",
   "metadata": {},
   "outputs": [],
   "source": [
    "# Step2:\n",
    "# I am using the .sort_index() to arra"
   ]
  }
 ],
 "metadata": {
  "kernelspec": {
   "display_name": "_data_env",
   "language": "python",
   "name": "python3"
  },
  "language_info": {
   "codemirror_mode": {
    "name": "ipython",
    "version": 3
   },
   "file_extension": ".py",
   "mimetype": "text/x-python",
   "name": "python",
   "nbconvert_exporter": "python",
   "pygments_lexer": "ipython3",
   "version": "3.13.7"
  }
 },
 "nbformat": 4,
 "nbformat_minor": 5
}
