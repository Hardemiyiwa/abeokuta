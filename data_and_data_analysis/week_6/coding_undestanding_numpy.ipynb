{
 "cells": [
  {
   "cell_type": "code",
   "execution_count": 1,
   "id": "895b3ace",
   "metadata": {},
   "outputs": [
    {
     "name": "stdout",
     "output_type": "stream",
     "text": [
      "NumPy version: 2.3.2\n"
     ]
    }
   ],
   "source": [
    "# import all neccesary libraries\n",
    "import numpy as np\n",
    "import matplotlib.pyplot as plt\n",
    "import time\n",
    "\n",
    "# Check NumPy version\n",
    "print(f\"NumPy version: {np.__version__}\")\n",
    "\n",
    "# Display settings for cleaner output\n",
    "np.set_printoptions(precision=3, suppress=True)"
   ]
  },
  {
   "cell_type": "markdown",
   "id": "86cc5adb",
   "metadata": {},
   "source": [
    "We import Numpy with the standard alias np. The print options make arrays display more readably by limiting decimal places and avoiding Scientific for numbers like 0.001"
   ]
  },
  {
   "cell_type": "markdown",
   "id": "052212aa",
   "metadata": {},
   "source": [
    "##### Numpy Data Structure\n",
    "\n",
    "- Numpy arrays are fundamentally different from Python lists:\n",
    "\n",
    " - Homogeneous: All elements must be the same data type\n",
    " - Fixed size: Size is determined at creation (though you can create new arrays)\n",
    " - Memory efficient: Elements stored in contiguous memory blocks\n",
    " - Vectorized operations: Mathematical operations work on entire arrays"
   ]
  },
  {
   "cell_type": "markdown",
   "id": "ab8e7a7b",
   "metadata": {},
   "source": [
    "#### Creating Numpy Arrays"
   ]
  },
  {
   "cell_type": "code",
   "execution_count": 2,
   "id": "1ec97fe4",
   "metadata": {},
   "outputs": [
    {
     "name": "stdout",
     "output_type": "stream",
     "text": [
      "1D array: [1 2 3 4 5]\n",
      "2D array:\n",
      " [[1 2 3]\n",
      " [4 5 6]]\n",
      "3D array:\n",
      " [[[1 2]\n",
      "  [3 4]]\n",
      "\n",
      " [[5 6]\n",
      "  [7 8]]]\n"
     ]
    }
   ],
   "source": [
    "# Creating arrays from Python lists\n",
    "# 1D array: A simple sequence of numbers\n",
    "arr1d = np.array([1, 2, 3, 4, 5])\n",
    "\n",
    "# 2d array: Think of this as a matrix or table with rows and colums\n",
    "arr2d = np.array([[1, 2, 3],\n",
    "                  [4, 5, 6]])\n",
    "\n",
    "# 3D array: Like a stack of 2D arrays - useful for images, time series, etc.\n",
    "arr3d = np.array([[[1, 2], [3, 4]],\n",
    "                  [[5, 6], [7, 8]]])\n",
    "\n",
    "print(\"1D array:\", arr1d)\n",
    "print(\"2D array:\\n\", arr2d)\n",
    "print(\"3D array:\\n\", arr3d)"
   ]
  },
  {
   "cell_type": "markdown",
   "id": "f2d73ecd",
   "metadata": {},
   "source": [
    "When you pass a nested list to `np.array()`, NumPy automatically determines the dimensions. The 1D array is like a single row, 2D is like a spreadsheet, and 3D is like multiple spreadsheets stacked together"
   ]
  },
  {
   "cell_type": "markdown",
   "id": "f809e14b",
   "metadata": {},
   "source": [
    "#### Creating Special Arrays in Numpy"
   ]
  },
  {
   "cell_type": "code",
   "execution_count": 3,
   "id": "6c244b61",
   "metadata": {},
   "outputs": [
    {
     "name": "stdout",
     "output_type": "stream",
     "text": [
      "Zeros array (3x4):\n",
      " [[0. 0. 0. 0.]\n",
      " [0. 0. 0. 0.]\n",
      " [0. 0. 0. 0.]]\n",
      "Ones array shape: [[[1. 1. 1. 1.]\n",
      "  [1. 1. 1. 1.]\n",
      "  [1. 1. 1. 1.]]\n",
      "\n",
      " [[1. 1. 1. 1.]\n",
      "  [1. 1. 1. 1.]\n",
      "  [1. 1. 1. 1.]]]\n",
      "Empty array (contains random values):\n",
      " [[0. 0.]\n",
      " [0. 0.]]\n"
     ]
    }
   ],
   "source": [
    "# Creating arrays filled with zerros - useful for initializing arrays\n",
    "# Shape (3, 4) means 3 rows and 4 columns\n",
    "zeros = np.zeros((3, 4))\n",
    "\n",
    "# Creating arrays filled with ones - offen used as starting points\n",
    "ones = np.ones((2, 3, 4))       # 3D array: 2 layers, 3 rows, 4 columns\n",
    "\n",
    "# Empty array - faster than zeros/ones but contains random values\n",
    "# Use when you'll immediately fill the array with real data\n",
    "empty = np.empty((2, 2))\n",
    "\n",
    "print(\"Zeros array (3x4):\\n\", zeros)\n",
    "print(\"Ones array shape:\", ones)\n",
    "print(\"Empty array (contains random values):\\n\", empty)\n"
   ]
  },
  {
   "cell_type": "code",
   "execution_count": 4,
   "id": "357cae49",
   "metadata": {},
   "outputs": [
    {
     "name": "stdout",
     "output_type": "stream",
     "text": [
      "Range array: [0 2 4 6 8]\n",
      "Linespace array: [0.   0.25 0.5  0.75 1.  ]\n",
      "Logspace array: [  1.      3.162  10.     31.623 100.   ]\n"
     ]
    }
   ],
   "source": [
    "# Range arrays - like Python's range() but more powerful\n",
    "range_arr = np.arange(0, 10, 2)    # Start, stop [0, 2, 4, 6, 8]\n",
    "print(\"Range array:\", range_arr)\n",
    "\n",
    "# Linearly spaced arrays - divide a range into equal parts\n",
    "# From 0 to 1 with exactly 5 points (including endpoit)\n",
    "linspace_arr = np.linspace(0, 1, 5)\n",
    "print(\"Linespace array:\", linspace_arr)\n",
    "\n",
    "# Logarithmically spaced arrays - useful for scientific data\n",
    "# From 10^0 to 10^2 (1 to 100) with 5 points\n",
    "logspace_arr = np.logspace(0, 2, 5)\n",
    "print(\"Logspace array:\", logspace_arr)"
   ]
  },
  {
   "cell_type": "code",
   "execution_count": 12,
   "id": "3e02c9e8",
   "metadata": {},
   "outputs": [
    {
     "name": "stdout",
     "output_type": "stream",
     "text": [
      "Identity matrix:\n",
      " [[1. 0. 0. 0.]\n",
      " [0. 1. 0. 0.]\n",
      " [0. 0. 1. 0.]\n",
      " [0. 0. 0. 1.]]\n",
      "Diagonal matrix:\n",
      " [[1 0 0 0]\n",
      " [0 2 0 0]\n",
      " [0 0 3 0]\n",
      " [0 0 0 4]]\n",
      "Full array (filled with 7):\n",
      " [[7 7 7]\n",
      " [7 7 7]\n",
      " [7 7 7]]\n"
     ]
    }
   ],
   "source": [
    "# Identify matrix - diagonal of onces, zeros elsewhere\n",
    "# Essential for linear algebra operations\n",
    "identity = np.eye(4)        # 4x4 identity matrix\n",
    "\n",
    "# Diagonal matrix - put values on the diagonal\n",
    "diagonal = np.diag([1, 2, 3, 4])\n",
    "\n",
    "# Array filled with a specific value\n",
    "full_arr = np.full((3, 3), 7)       # 3x3 array filled with 7\n",
    "\n",
    "print(\"Identity matrix:\\n\", identity)\n",
    "print(\"Diagonal matrix:\\n\", diagonal)\n",
    "print(\"Full array (filled with 7):\\n\", full_arr)"
   ]
  },
  {
   "cell_type": "markdown",
   "id": "6701c30b",
   "metadata": {},
   "source": [
    "#### Numpy Data Types (dtypes)\n",
    "- Understanding data types is crucial for memory efficiency and numerical precision."
   ]
  },
  {
   "cell_type": "code",
   "execution_count": 13,
   "id": "053151ce",
   "metadata": {},
   "outputs": [
    {
     "name": "stdout",
     "output_type": "stream",
     "text": [
      "Integer array dtype: int32\n",
      "Float array dtype: float64\n",
      "Boolean array dtype: bool\n",
      "Converted array dtype: float32\n",
      "int32 uses 4 bytes per element\n",
      "float64 uses 8 bytes per element\n"
     ]
    }
   ],
   "source": [
    "# Explicit data types - control memory useage and precision\n",
    "int_arr = np.array([1, 2, 3], dtype=np.int32)       # 32-bit integers\n",
    "float_arr = np.array([1, 2, 3], dtype=np.float64)   # 64-bit floats (double precision)\n",
    "bool_arr = np.array([True, False, True], dtype=np.bool_)    # Boolean values\n",
    "\n",
    "# Type conversion - change dtype of existing array\n",
    "converted = int_arr.astype(np.float32)  # Convert to 32-bit float\n",
    "\n",
    "print(\"Integer array dtype:\", int_arr.dtype)\n",
    "print(\"Float array dtype:\", float_arr.dtype)\n",
    "print(\"Boolean array dtype:\", bool_arr.dtype)\n",
    "print(\"Converted array dtype:\", converted.dtype)\n",
    "\n",
    "# Memory usage comparison\n",
    "print(f\"int32 uses {int_arr.itemsize} bytes per element\")\n",
    "print(f\"float64 uses {float_arr.itemsize} bytes per element\")"
   ]
  },
  {
   "cell_type": "markdown",
   "id": "64543fa7",
   "metadata": {},
   "source": [
    "#### Array Properties & attributes\n",
    "- Understanding array properties helps you work effectively with your data and debug issue"
   ]
  },
  {
   "cell_type": "code",
   "execution_count": 5,
   "id": "ce9f981c",
   "metadata": {},
   "outputs": [
    {
     "name": "stdout",
     "output_type": "stream",
     "text": [
      "shape: (3, 4, 5)\n",
      "Size: 60\n",
      "Ndim: 3\n",
      "Dtype: float64\n",
      "Itemsize: 8\n",
      "Memory usage: 480 bytes\n",
      "Memory usuage: 0.46875 KB\n"
     ]
    }
   ],
   "source": [
    "# Create a sample 3D array for demonstration\n",
    "# Think of this as 3 layers, each with 4 rows and 5 columns\n",
    "arr = np.random.randn(3, 4, 5)\n",
    "\n",
    "# Shape: The dimensions of the array (layers, rows, columns)\n",
    "print(\"shape:\", arr.shape)                  # Output: (3, 4, 5)\n",
    "\n",
    "# Size: Total number of elements (3 x 4 x 5 = 60)\n",
    "print(\"Size:\", arr.size)\n",
    "\n",
    "# Ndim: Number of dimensions (3D in this case)\n",
    "print(\"Ndim:\", arr.ndim)\n",
    "\n",
    "# Dtype: Data type of elements\n",
    "print(\"Dtype:\", arr.dtype)          # Usually float64 for random numbers\n",
    "\n",
    "# Itemsize: Memory size of each element in bytes\n",
    "print(\"Itemsize:\", arr.itemsize)    # 8 bytes for float64\n",
    "\n",
    "# Total memory usage in bytes\n",
    "\n",
    "# Total memory usage in bytes\n",
    "print(\"Memory usage:\", arr.nbytes, \"bytes\") # size x itemsize\n",
    "print(\"Memory usuage:\", arr.nbytes / 1024, \"KB\")    # Convart to KB\n",
    "\n",
    "\n"
   ]
  },
  {
   "cell_type": "markdown",
   "id": "9cdff10a",
   "metadata": {},
   "source": [
    "#### Array Indexing & Slicing"
   ]
  },
  {
   "cell_type": "code",
   "execution_count": 15,
   "id": "3e1784cb",
   "metadata": {},
   "outputs": [
    {
     "name": "stdout",
     "output_type": "stream",
     "text": [
      "First element: 10\n",
      "Last element: 50\n",
      "Slice [1:4]: [20 30 40]\n",
      "Every 2nd element: [10 30 50]\n"
     ]
    }
   ],
   "source": [
    "# 1D array indexing - similar to python lists\n",
    "arr1d = np.array([10, 20, 30, 40, 50])\n",
    "\n",
    "print(\"First element:\", arr1d[0])        # Index 0: 10\n",
    "print(\"Last element:\", arr1d[-1])        # Negative indexing: 50\n",
    "print(\"Slice [1:4]:\", arr1d[1:4])        # Element 1, 2, 3: [20, 30, 40]\n",
    "print(\"Every 2nd element:\", arr1d[::2])  # Step of 2: [10, 30, 50]"
   ]
  },
  {
   "cell_type": "code",
   "execution_count": 8,
   "id": "22fbc10b",
   "metadata": {},
   "outputs": [
    {
     "name": "stdout",
     "output_type": "stream",
     "text": [
      "Element at row 1, column 2: 7\n",
      "First row: [1 2 3 4]\n",
      "Second column: [ 2  6 10]\n",
      "Subarray (row 1-2, cols 1-2)\n",
      " [[ 6  7]\n",
      " [10 11]]\n"
     ]
    }
   ],
   "source": [
    "# 2D array indexing - row and column access\n",
    "arr2d = np.array([[1, 2, 3, 4],\n",
    "                  [5, 6, 7, 8],\n",
    "                  [9, 10, 11, 12]])\n",
    "\n",
    "# Access specific element: [row, column]\n",
    "print(\"Element at row 1, column 2:\", arr2d[1, 2])       # 7\n",
    "\n",
    "# Access entire rows or columns\n",
    "print(\"First row:\", arr2d[0, :])            # All columns of row 0\n",
    "print(\"Second column:\", arr2d[:, 1])        # All rows of column 1\n",
    "\n",
    "# Subarray slicing: [row_start:row_end, col_start:col_end]\n",
    "print(\"Subarray (row 1-2, cols 1-2)\\n\", arr2d[1:3, 1:3])"
   ]
  },
  {
   "cell_type": "markdown",
   "id": "78aac877",
   "metadata": {},
   "source": [
    "**Advance Indexing - Powerful Selection Method**"
   ]
  },
  {
   "cell_type": "code",
   "execution_count": 6,
   "id": "bb087f4e",
   "metadata": {},
   "outputs": [
    {
     "name": "stdout",
     "output_type": "stream",
     "text": [
      "Fancy indexing: [10 30 50]\n",
      "Random order: [50 20 40 20]\n"
     ]
    }
   ],
   "source": [
    "# Fancy indexing - use arrays of indices to select elements\n",
    "arr = np.array([10, 20, 30, 40, 50])\n",
    "indices = np.array([0, 2, 4])   # Select element at position 0, 2, 4\n",
    "print(\"Fancy indexing:\", arr[indices])\n",
    "\n",
    "# This is much more flexible than simple slicing\n",
    "random_indices = np.array([4, 1, 3, 1]) # can repeat and reorder\n",
    "print(\"Random order:\", arr[random_indices]) # [50, 20, 40, 20]"
   ]
  },
  {
   "cell_type": "markdown",
   "id": "3c64439e",
   "metadata": {},
   "source": [
    "**Array Reshaping & Manipulation**\n",
    "- Reshaping changes how the same data is organized in memory without changing the actual value "
   ]
  },
  {
   "cell_type": "code",
   "execution_count": 14,
   "id": "6be0e0dc",
   "metadata": {},
   "outputs": [
    {
     "name": "stdout",
     "output_type": "stream",
     "text": [
      "Original 1D array: [ 0  1  2  3  4  5  6  7  8  9 10 11]\n",
      "Reshaped to 3x4:\n",
      " [[ 0  1  2  3]\n",
      " [ 4  5  6  7]\n",
      " [ 8  9 10 11]]\n",
      "Reshaped to 2x2x3:\n",
      " [[[ 0  1  2]\n",
      "  [ 3  4  5]]\n",
      "\n",
      " [[ 6  7  8]\n",
      "  [ 9 10 11]]]\n",
      "Auto-reshaped to 4x?:\n",
      " [[ 0  1  2]\n",
      " [ 3  4  5]\n",
      " [ 6  7  8]\n",
      " [ 9 10 11]]\n"
     ]
    }
   ],
   "source": [
    "# Start with a 1D array\n",
    "arr = np.arange(12) # [0, 1, 2, 3, 4, 5, 6, 7, 8, 9, 10, 11]\n",
    "print(\"Original 1D array:\", arr) \n",
    "\n",
    "# Reshape to 2D: 3 rows x 4 columns\n",
    "reshaped_2d = arr.reshape(3, 4)\n",
    "print(\"Reshaped to 3x4:\\n\", reshaped_2d)\n",
    "\n",
    "# Reshape to 3D: 2 layers x 2 rows x 3 columns\n",
    "reshaped_3d = arr.reshape(2, 2, 3)\n",
    "print(\"Reshaped to 2x2x3:\\n\", reshaped_3d)\n",
    "\n",
    "# Using -1 to let Numpy calculate one dimention automatically\n",
    "auto_reshape = arr.reshape(4, -1)   # 4 rows, Numpy calculates columns\n",
    "print(\"Auto-reshaped to 4x?:\\n\", auto_reshape)"
   ]
  },
  {
   "cell_type": "code",
   "execution_count": 10,
   "id": "becad098",
   "metadata": {},
   "outputs": [
    {
     "name": "stdout",
     "output_type": "stream",
     "text": [
      "Flattened (copy): [1 2 3 4 5 6]\n",
      "Ravel (view if possible): [1 2 3 4 5 6]\n",
      "After modifying original:\n",
      "Flattened (unchanged): [1 2 3 4 5 6]\n",
      "Ravel (changed): [999   2   3   4   5   6]\n"
     ]
    }
   ],
   "source": [
    "# Flattening - convert multi-dimensional array to 1D\n",
    "arr2d = np.array([[1, 2, 3], [4, 5, 6]])\n",
    "\n",
    "# flatten() always returns a copy\n",
    "flattened = arr2d.flatten()\n",
    "print(\"Flattened (copy):\", flattened)\n",
    "\n",
    "# ravel() returns a view if possible (faster, memory efficient)\n",
    "ravel = arr2d.ravel()\n",
    "print(\"Ravel (view if possible):\", ravel)\n",
    "\n",
    "# Demostrate the difference\n",
    "arr2d[0, 0] = 999\n",
    "print(\"After modifying original:\")\n",
    "print(\"Flattened (unchanged):\", flattened)      # copy is in dependent\n",
    "print(\"Ravel (changed):\", ravel)                # View reflects changes"
   ]
  },
  {
   "cell_type": "markdown",
   "id": "35c4c73c",
   "metadata": {},
   "source": [
    "Use ravel() when you don't need to modify the flattened array independently. Use flatten() when you need a seperate copy that won;t be affected by changes to the original. "
   ]
  },
  {
   "cell_type": "markdown",
   "id": "b7fed8b5",
   "metadata": {},
   "source": [
    "**Transpposing and Swapping Axes**\n",
    "\n",
    "- Transposing is essential matrix operations and changing data orientation"
   ]
  },
  {
   "cell_type": "code",
   "execution_count": 9,
   "id": "a0352da2",
   "metadata": {},
   "outputs": [
    {
     "name": "stdout",
     "output_type": "stream",
     "text": [
      "Original shape: (2, 3)\n",
      "Original:\n",
      " [[1 2 3]\n",
      " [4 5 6]]\n",
      "Transposed shape: (3, 2)\n",
      "Transpose method:\n",
      " [[1 4]\n",
      " [2 5]\n",
      " [3 6]]\n",
      "Transpose method:\n",
      " [[1 4]\n",
      " [2 5]\n",
      " [3 6]]\n"
     ]
    }
   ],
   "source": [
    "# 2D transposition - flip rows and columns\n",
    "arr2d = np.array([[1, 2, 3],\n",
    "[4, 5, 6]])\n",
    "print(\"Original shape:\", arr2d.shape)           # (2, 3)\n",
    "print(\"Original:\\n\", arr2d)\n",
    "\n",
    "print(\"Transposed shape:\", arr2d.T.shape)       # (3, 2)\n",
    "print(\"Transpose method:\\n\", arr2d.T)\n",
    "\n",
    "# Alternative transpose methods\n",
    "print(\"Transpose method:\\n\", arr2d.transpose())"
   ]
  },
  {
   "cell_type": "markdown",
   "id": "f27b9884",
   "metadata": {},
   "source": [
    "Transposing swaps rows and columns. This is crucial for matrix multiplications and when you need to change data orientation(e.g from samplesxfeatures to festuresxsamples)"
   ]
  },
  {
   "cell_type": "code",
   "execution_count": 15,
   "id": "e3ab19cc",
   "metadata": {},
   "outputs": [
    {
     "name": "stdout",
     "output_type": "stream",
     "text": [
      "Original 3D shape: (2, 3, 4)\n",
      "[[[ 0  1  2  3]\n",
      "  [ 4  5  6  7]\n",
      "  [ 8  9 10 11]]\n",
      "\n",
      " [[12 13 14 15]\n",
      "  [16 17 18 19]\n",
      "  [20 21 22 23]]]\n",
      "Transposed 3D shape: (4, 2, 3)\n",
      "\n",
      " [[[ 0  4  8]\n",
      "  [12 16 20]]\n",
      "\n",
      " [[ 1  5  9]\n",
      "  [13 17 21]]\n",
      "\n",
      " [[ 2  6 10]\n",
      "  [14 18 22]]\n",
      "\n",
      " [[ 3  7 11]\n",
      "  [15 19 23]]]\n",
      "Moveaxis result shhape: (3, 4, 2)\n",
      "[[[ 0 12]\n",
      "  [ 1 13]\n",
      "  [ 2 14]\n",
      "  [ 3 15]]\n",
      "\n",
      " [[ 4 16]\n",
      "  [ 5 17]\n",
      "  [ 6 18]\n",
      "  [ 7 19]]\n",
      "\n",
      " [[ 8 20]\n",
      "  [ 9 21]\n",
      "  [10 22]\n",
      "  [11 23]]]\n"
     ]
    }
   ],
   "source": [
    "# Higher-dimentional transposition\n",
    "arr3d = np.arange(24).reshape(2, 3, 4) # 2 layers, 3 rows, 4 columns\n",
    "print(\"Original 3D shape:\", arr3d.shape)\n",
    "print(arr3d)\n",
    "\n",
    "# Specify new axis order: (axis0, axis1, axis2) -> (axis2, axis0, axis1)\n",
    "transposed_3d = arr3d.transpose(2, 0, 1)\n",
    "print(\"Transposed 3D shape:\", transposed_3d.shape)  # (4, 2, 3)\n",
    "print(\"\\n\", transposed_3d)\n",
    "\n",
    "# moveaxis is another way to rearrange axes\n",
    "moved = np.moveaxis(arr3d, 0, -1)   # Move first axis to last position\n",
    "print(\"Moveaxis result shhape:\", moved.shape)\n",
    "print(moved)"
   ]
  },
  {
   "cell_type": "markdown",
   "id": "53069039",
   "metadata": {},
   "source": [
    "For 3D+ arrays, you specify the new order of axes. This is useful for reshaping data for diiferent algorithms or visualization requirement"
   ]
  },
  {
   "cell_type": "markdown",
   "id": "9a452541",
   "metadata": {},
   "source": [
    "**Concatenating and Splitting Arrays**\n",
    "- Combining and dividing arrays is fundamental for data manipultion"
   ]
  },
  {
   "cell_type": "code",
   "execution_count": 16,
   "id": "8a89d89e",
   "metadata": {},
   "outputs": [
    {
     "name": "stdout",
     "output_type": "stream",
     "text": [
      "Original arrays:\n",
      "Array 1:\n",
      " [[1 2]\n",
      " [3 4]]\n",
      "Array 2:\n",
      " [[5 6]\n",
      " [7 8]]\n",
      "Concatenated vertically (axis=0):\n",
      " [[1 2]\n",
      " [3 4]\n",
      " [5 6]\n",
      " [7 8]]\n",
      "Concatenated horizontally (axis=1):\n",
      " [[1 2 5 6]\n",
      " [3 4 7 8]]\n"
     ]
    }
   ],
   "source": [
    "# Concatenation - joining arrays along existing axes\n",
    "arr1 = np.array([[1, 2], [3, 4]])\n",
    "arr2 = np.array([[5, 6], [7, 8]])\n",
    "\n",
    "# Concatenate along different axes\n",
    "concat_rows = np.concatenate([arr1, arr2], axis=0)  # Stack vertically (add rows)\n",
    "concat_cols = np.concatenate([arr1, arr2], axis=1)  # stack horizontally (add colums)\n",
    "\n",
    "print(\"Original arrays:\")\n",
    "print(\"Array 1:\\n\", arr1)\n",
    "print(\"Array 2:\\n\", arr2)\n",
    "print(\"Concatenated vertically (axis=0):\\n\", concat_rows)\n",
    "print(\"Concatenated horizontally (axis=1):\\n\", concat_cols)"
   ]
  },
  {
   "cell_type": "markdown",
   "id": "0ca2528b",
   "metadata": {},
   "source": [
    "`axis=0` means along rows (vertical stacking), `axis=1` means along columns (horizontal stacking). Arrays must have compatible shape along the non-concatenated dimensions."
   ]
  },
  {
   "cell_type": "code",
   "execution_count": 24,
   "id": "0d81914d",
   "metadata": {},
   "outputs": [
    {
     "name": "stdout",
     "output_type": "stream",
     "text": [
      "vstack (vertical):\n",
      " [[1 2]\n",
      " [3 4]\n",
      " [5 6]\n",
      " [7 8]]\n",
      "hstack (horizontal):\n",
      " [[1 2 5 6]\n",
      " [3 4 7 8]]\n",
      "dstack shape:\n",
      " [[[1 5]\n",
      "  [2 6]]\n",
      "\n",
      " [[3 7]\n",
      "  [4 8]]]\n",
      "dstack shape: (2, 2, 2)\n",
      "Original array for splitting:\n",
      " [[ 0  1  2  3]\n",
      " [ 4  5  6  7]\n",
      " [ 8  9 10 11]]\n",
      "Split into 3 parts along rows:\n",
      "Part 0:\n",
      " [[0 1 2 3]]\n",
      "Part 1:\n",
      " [[4 5 6 7]]\n",
      "Part 2:\n",
      " [[ 8  9 10 11]]\n"
     ]
    }
   ],
   "source": [
    "# Convenient stacking functions\n",
    "vstack_result = np.vstack([arr1, arr2])     # Same as concatenate with axis=0\n",
    "hstack_result = np.hstack([arr1, arr2])     # Same as concatenate with axis=1\n",
    "dstack_result = np.dstack([arr1, arr2])     # Stack along depth (3rd dimension)\n",
    "\n",
    "print(\"vstack (vertical):\\n\", vstack_result)\n",
    "print(\"hstack (horizontal):\\n\", hstack_result)\n",
    "print(\"dstack shape:\\n\", dstack_result)\n",
    "print(\"dstack shape:\", dstack_result.shape)     # Creates 3D array\n",
    "\n",
    "# Splitting arrays - opposite of concatenation\n",
    "arr = np.arange(12).reshape(3, 4)\n",
    "split_arrays = np.split(arr, 3, axis=0)     # Split into 3 part along the rows\n",
    "print(\"Original array for splitting:\\n\", arr)\n",
    "print(\"Split into 3 parts along rows:\")\n",
    "for i, split_part in enumerate(split_arrays):\n",
    "    print(f\"Part {i}:\\n\", split_part)"
   ]
  },
  {
   "cell_type": "markdown",
   "id": "f99a1361",
   "metadata": {},
   "source": [
    "Stacking functions are shortcuts for concatenation. Splitting divides an array into equal parts - useful for creating training/validation sets or processing data in chunks"
   ]
  },
  {
   "cell_type": "markdown",
   "id": "1644e64a",
   "metadata": {},
   "source": [
    "**Mathematical Operations**"
   ]
  },
  {
   "cell_type": "markdown",
   "id": "62e693d3",
   "metadata": {},
   "source": [
    "**Element-wise Operations - The Power of Vectorization**\n",
    "- NumPy's biggest advantage is performing operations on entire arrays without writing too"
   ]
  },
  {
   "cell_type": "code",
   "execution_count": 25,
   "id": "754c76f1",
   "metadata": {},
   "outputs": [
    {
     "name": "stdout",
     "output_type": "stream",
     "text": [
      "Array 1: [1 2 3 4]\n",
      "Array 2: [10 20 30 40]\n",
      "Addition: [11 22 33 44]\n",
      "Subtraction: [ 9 18 27 36]\n",
      "Multiplication: [ 10  40  90 160]\n",
      "Division: [10. 10. 10. 10.]\n",
      "Power: [ 1  4  9 16]\n",
      "Modulo: [1 2 0 1]\n"
     ]
    }
   ],
   "source": [
    "# Basic arithmetic operations work element-by-element\n",
    "arr1 = np.array([1, 2, 3, 4])\n",
    "arr2 = np.array([10, 20, 30, 40])\n",
    "\n",
    "print(\"Array 1:\", arr1)\n",
    "print(\"Array 2:\", arr2)\n",
    "\n",
    "# All operations happen element-wise automatically\n",
    "print(\"Addition:\", arr1 + arr2)                 # [11, 22, 33, 44]\n",
    "print(\"Subtraction:\", arr2 - arr1)              # [9, 18, 27, 36]\n",
    "print(\"Multiplication:\", arr1 * arr2)           # [10, 40, 90, 160]\n",
    "print(\"Division:\", arr2 / arr1)                 # [10, 10, 10, 10]\n",
    "print(\"Power:\", arr1 ** 2)                      # [1, 4, 9, 16]\n",
    "print(\"Modulo:\", arr2 % 3)                      # [1, 2, 0, 1]"
   ]
  },
  {
   "cell_type": "markdown",
   "id": "c92d312c",
   "metadata": {},
   "source": [
    "This vectorization is much faster than Python loops because the operations are implemented in optimized C code. Each operation applies to corresponding elements."
   ]
  },
  {
   "cell_type": "code",
   "execution_count": 26,
   "id": "736fb4c2",
   "metadata": {},
   "outputs": [
    {
     "name": "stdout",
     "output_type": "stream",
     "text": [
      "Scalar operations:\n",
      "Add 10 to all elements: [11 12 13 14]\n",
      "Multiply all by 3: [ 3  6  9 12]\n",
      "Divide all by 2: [0.5 1.  1.5 2. ]\n",
      "Compound operation (arr1 + 5) * 2 - 1: [11 13 15 17]\n"
     ]
    }
   ],
   "source": [
    "# Operations with scalars - broadcasting in action\n",
    "print(\"Scalar operations:\")\n",
    "print(\"Add 10 to all elements:\", arr1 + 10)       # [11, 12, 13, 14]\n",
    "print(\"Multiply all by 3:\", arr1 * 3)             # [3, 6, 9 ,12]\n",
    "print(\"Divide all by 2:\", arr1 / 2)               # [0.5, 1, 1.5, 2]\n",
    "\n",
    "# Compound operation\n",
    "result = (arr1 + 5) * 2 - 1                       # ((arr1 + 5) * 2) - 1\n",
    "print(\"Compound operation (arr1 + 5) * 2 - 1:\", result)"
   ]
  },
  {
   "cell_type": "markdown",
   "id": "bc3e6aaa",
   "metadata": {},
   "source": [
    "When you operate on arrays with scalars, the scalar is automatically \"broadcast\" to match the array shape. This is much more raadable and efficient than manual loops"
   ]
  },
  {
   "cell_type": "markdown",
   "id": "4fc3e006",
   "metadata": {},
   "source": [
    "**Mathematical Functions - Beyound Basic Arithmetic**\n",
    "- Numpy provides vectorized versions of most mathematical function"
   ]
  },
  {
   "cell_type": "code",
   "execution_count": 27,
   "id": "9ec37ecc",
   "metadata": {},
   "outputs": [
    {
     "name": "stdout",
     "output_type": "stream",
     "text": [
      "Original array: [ 1  4  9 16 25]\n",
      "Square root: [1. 2. 3. 4. 5.]\n",
      "Square: [  1  16  81 256 625]\n",
      "Cube root: [1.    1.587 2.08  2.52  2.924]\n",
      "Exponential: [ 2.718  7.389 20.086]\n",
      "Natural log: [0.    1.386 2.197 2.773 3.219]\n",
      "Log base 10: [0.    0.602 0.954 1.204 1.398]\n",
      "Log base 2: [0.    2.    3.17  4.    4.644]\n"
     ]
    }
   ],
   "source": [
    "# Common mathematical functions\n",
    "arr = np.array([1, 4, 9, 16, 25])\n",
    "print(\"Original array:\", arr)\n",
    "\n",
    "# Square roots and powers\n",
    "print(\"Square root:\", np.sqrt(arr))         # [1, 2, 3, 4, 5]\n",
    "print(\"Square:\", np.square(arr))            # [1, 16, 81, 256, 625]\n",
    "print(\"Cube root:\", np.cbrt(arr))\n",
    "\n",
    "# Exponential and logarithmic functions\n",
    "small_arr = np.array([1, 2, 3])\n",
    "print(\"Exponential:\", np.exp(small_arr))    # [e^1, e^2, e^3]\n",
    "print(\"Natural log:\", np.log(arr))          # ln(arr)\n",
    "print(\"Log base 10:\", np.log10(arr))        \n",
    "print(\"Log base 2:\", np.log2(arr))"
   ]
  },
  {
   "cell_type": "markdown",
   "id": "c0372fa0",
   "metadata": {},
   "source": [
    "These functions are much faster than applying Python's math functions in a loop. They also handle edge cases(like log of zero) more gracefully."
   ]
  },
  {
   "cell_type": "code",
   "execution_count": 28,
   "id": "63c466a0",
   "metadata": {},
   "outputs": [
    {
     "name": "stdout",
     "output_type": "stream",
     "text": [
      "Angles (radians): [0.    0.785 1.571 3.142]\n",
      "Sine: [0.    0.707 1.    0.   ]\n",
      "Cosine: [ 1.     0.707  0.    -1.   ]\n",
      "Tangent: [ 0.000e+00  1.000e+00  1.633e+16 -1.225e-16]\n",
      "Degree to radians: [0.    0.785 1.571 3.142]\n"
     ]
    }
   ],
   "source": [
    "# Trigonometric functions - essential for signal processing and geometry\n",
    "angles = np.array([0, np.pi/4, np.pi/2, np.pi])\n",
    "print(\"Angles (radians):\", angles)\n",
    "print(\"Sine:\", np.sin(angles))              # [0, √2/2, 1, 0]\n",
    "print(\"Cosine:\", np.cos(angles))            # [1, √2/2, 0, -1]\n",
    "print(\"Tangent:\", np.tan(angles))           # [0, 1, ∞, 0]\n",
    "\n",
    "# Convert degrees to radians\n",
    "degrees = np.array([0, 45, 90, 180])\n",
    "radians = np.deg2rad(degrees)\n",
    "print(\"Degree to radians:\", radians)"
   ]
  },
  {
   "cell_type": "markdown",
   "id": "623100f5",
   "metadata": {},
   "source": [
    "Trigonometric functions expect angles in radians. Use `deg2rad()` and `rad2deg()` for conversions. These function are essential for signal processing, computer graphics, and physics simulations."
   ]
  },
  {
   "cell_type": "code",
   "execution_count": 32,
   "id": "9e2b6ed3",
   "metadata": {},
   "outputs": [
    {
     "name": "stdout",
     "output_type": "stream",
     "text": [
      "Original decimals: [ 1.234  5.678  9.999 -2.345]\n",
      "Round to 2 places: [ 1.23  5.68 10.   -2.35]\n",
      "Floor (round down): [ 1.  5.  9. -3.]\n",
      "Ceiling (round up): [ 2.  6. 10. -2.]\n",
      "Truncate (toward zero): [ 1.  5.  9. -2.]\n",
      "Absolute values: [1.234 5.678 9.999 2.345]\n",
      "Sign (-1, 0, or 1): [ 1.  1.  1. -1.]\n"
     ]
    }
   ],
   "source": [
    "# Rounding and comparison functions\n",
    "decimals = np.array([1.234, 5.678, 9.999, -2.345])\n",
    "print(\"Original decimals:\", decimals)\n",
    "\n",
    "print(\"Round to 2 places:\", np.round(decimals, 2))\n",
    "print(\"Floor (round down):\", np.floor(decimals))        # [1, 5, 9, -3]\n",
    "print(\"Ceiling (round up):\", np.ceil(decimals))         # [2, 6, 10, -2]\n",
    "print(\"Truncate (toward zero):\", np.trunc(decimals))    # [1, 5, 9, -2]\n",
    "\n",
    "# Absolute values and sign\n",
    "print(\"Absolute values:\", np.abs(decimals))\n",
    "print(\"Sign (-1, 0, or 1):\", np.sign(decimals))\n"
   ]
  },
  {
   "cell_type": "markdown",
   "id": "d7ed706b",
   "metadata": {},
   "source": [
    "Different rounding functions serve different purposes. `floor()` alwayys rounds down,`ceil()` always rounds up, `trunc()` removes the decimal part, and `round()` rounds to nearest value."
   ]
  },
  {
   "cell_type": "markdown",
   "id": "ddccf1f9",
   "metadata": {},
   "source": [
    "**Aggregate Functions - Summarizing Your Data**\n",
    "- `Aggregate functions reduce arrays too summary statistics`"
   ]
  },
  {
   "cell_type": "code",
   "execution_count": 33,
   "id": "2c69817a",
   "metadata": {},
   "outputs": [
    {
     "name": "stdout",
     "output_type": "stream",
     "text": [
      "Sample array:\n",
      " [[1 2 3]\n",
      " [4 5 6]\n",
      " [7 8 9]]\n",
      "Sum of all element: 45\n",
      "Mean of all elements: 5.0\n",
      "Standard deviation: 2.581988897471611\n",
      "Minimum value: 1\n",
      "Maximum value: 9\n"
     ]
    }
   ],
   "source": [
    "# Create a 2D array for demonstration\n",
    "arr = np.array([[1, 2, 3],\n",
    "                [4, 5, 6],\n",
    "                [7, 8, 9]])\n",
    "print(\"Sample array:\\n\", arr)\n",
    "\n",
    "# Aggregation across enntire array\n",
    "print(\"Sum of all element:\", np.sum(arr))       # 45\n",
    "print(\"Mean of all elements:\", np.mean(arr))    # 5.0\n",
    "print(\"Standard deviation:\", np.std(arr))       # 2.58\n",
    "print(\"Minimum value:\", np.min(arr))            # 1\n",
    "print(\"Maximum value:\", np.max(arr))            # 9"
   ]
  },
  {
   "cell_type": "markdown",
   "id": "2beacc7d",
   "metadata": {},
   "source": [
    "When you don't specify an axis, these functions operate on the flattened array, giving you a single summary value for the entire dataset."
   ]
  },
  {
   "cell_type": "code",
   "execution_count": 35,
   "id": "1d846140",
   "metadata": {},
   "outputs": [
    {
     "name": "stdout",
     "output_type": "stream",
     "text": [
      "Sum along axis 0 (columns): [12 15 18]\n",
      "Sum along axis 1 (rows): [ 6 15 24]\n",
      "Mean along axis 0: [4. 5. 6.]\n",
      "Mean along axis 1: [2. 5. 8.]\n",
      "Postion of max (flattened): 8\n",
      "Position of max along axis 0: [2 2 2]\n",
      "Position of max along axis 1: [2 2 2]\n"
     ]
    }
   ],
   "source": [
    "# Axis-specific aggregation - this is where NumPy shines!\n",
    "print(\"Sum along axis 0 (columns):\", np.sum(arr, axis=0))   # [12, 15, 18]\n",
    "print(\"Sum along axis 1 (rows):\", np.sum(arr, axis=1))      # [6, 15, 24]\n",
    "\n",
    "print(\"Mean along axis 0:\", np.mean(arr, axis=0))           # [4, 5, 6]\n",
    "print(\"Mean along axis 1:\", np.mean(arr, axis=1))           # [2, 5, 8]\n",
    "\n",
    "# Finding positions of extreme values\n",
    "print(\"Postion of max (flattened):\", np.argmax(arr))        # 8 (element 9 at position 8)\n",
    "print(\"Position of max along axis 0:\", np.argmax(arr, axis=0))  # [2, 2, 2]\n",
    "print(\"Position of max along axis 1:\", np.argmax(arr, axis=1))  # [2, 2, 2]"
   ]
  },
  {
   "cell_type": "markdown",
   "id": "8d59af28",
   "metadata": {},
   "source": [
    "- `axis=0` Operations go \"down\" the rows (result has same number of columns)\n",
    "- `axis=1`: Operations go \"across\" the columns (result has same number of rows)\n",
    "- `argmax/argmin` return indices, not values"
   ]
  },
  {
   "cell_type": "markdown",
   "id": "46995044",
   "metadata": {},
   "source": [
    "**Broadcasting**\n",
    "- Broadcasting is NumPy's way of performing operations on arrays with different shapes without explicitly reshaping them. This is one of NumPy's most powerful features"
   ]
  },
  {
   "cell_type": "code",
   "execution_count": 36,
   "id": "f9e354c6",
   "metadata": {},
   "outputs": [
    {
     "name": "stdout",
     "output_type": "stream",
     "text": [
      "Scalar: 5\n",
      "1D array: [1 2 3 4]\n",
      "2D array (column vector):\n",
      " [[10]\n",
      " [20]\n",
      " [30]]\n",
      "Scalar + 1D array: [6 7 8 9]\n",
      "2D + 1D broadcasting:\n",
      " [[11 12 13 14]\n",
      " [21 22 23 24]\n",
      " [31 32 33 34]]\n"
     ]
    }
   ],
   "source": [
    "# Broadcasting examples - arrays don't need the same shape!\n",
    "scalar = 5\n",
    "arr1d = np.array([1, 2, 3, 4])\n",
    "arr2d = np.array([[10], [20], [30]])    # Column vector\n",
    "\n",
    "print(\"Scalar:\", scalar)\n",
    "print(\"1D array:\", arr1d)\n",
    "print(\"2D array (column vector):\\n\", arr2d)\n",
    "\n",
    "# Scalar broadcasts to any shape\n",
    "result1 = scalar + arr1d\n",
    "print(\"Scalar + 1D array:\", result1)        # [6, 7, 8, 9]\n",
    "\n",
    "# 2D + 1D broadcasting\n",
    "result2 = arr2d + arr1d\n",
    "print(\"2D + 1D broadcasting:\\n\", result2)"
   ]
  },
  {
   "cell_type": "markdown",
   "id": "6505413d",
   "metadata": {},
   "source": [
    "- Broadcasting follows these rules:\n",
    "    - Start from the trailing (rightmost) dimensions\n",
    "    - Dimensions are compatible if they're equal or one is 1\n",
    "    - Missing dimensions are assumed to be 1"
   ]
  },
  {
   "cell_type": "code",
   "execution_count": 38,
   "id": "25665c18",
   "metadata": {},
   "outputs": [
    {
     "name": "stdout",
     "output_type": "stream",
     "text": [
      "Array a (4x1):\n",
      " [[0]\n",
      " [1]\n",
      " [2]\n",
      " [3]]\n",
      "Array b (1x5):\n",
      " [[0 1 2 3 4]]\n",
      "Broadcasting result (4x5):\n",
      " [[0 1 2 3 4]\n",
      " [1 2 3 4 5]\n",
      " [2 3 4 5 6]\n",
      " [3 4 5 6 7]]\n",
      "Result shape: (4, 5)\n"
     ]
    }
   ],
   "source": [
    "# Visualizing broadcasting step by step\n",
    "a = np.arange(4).reshape(4, 1)              # Shape: (4, 1)\n",
    "b = np.arange(5).reshape(1, 5)              # Shape: (1, 5)\n",
    "\n",
    "print(\"Array a (4x1):\\n\", a)\n",
    "print(\"Array b (1x5):\\n\", b)\n",
    "\n",
    "# Broadcasting creates a 4x5 result\n",
    "result = a + b                              # Result shape: (4, 5)\n",
    "print(\"Broadcasting result (4x5):\\n\", result)\n",
    "print(\"Result shape:\", result.shape)"
   ]
  },
  {
   "cell_type": "markdown",
   "id": "3d98ca16",
   "metadata": {},
   "source": [
    "Array `a` gets broadcast horizontally, array `b` gets broadcast vertically. This creates all pairwise combinations without storing redundant data"
   ]
  },
  {
   "cell_type": "code",
   "execution_count": 2,
   "id": "2e59caf9",
   "metadata": {},
   "outputs": [
    {
     "name": "stdout",
     "output_type": "stream",
     "text": [
      "Original array shape: (3,)\n",
      "Column vector shape: (3, 1)\n",
      "Column vector:\n",
      " [[1]\n",
      " [2]\n",
      " [3]]\n",
      "Row vector shape: (1, 3)\n",
      "[[1 2 3]]\n"
     ]
    }
   ],
   "source": [
    "# Manual broadcasting with newaxis\n",
    "arr = np.array([1, 2, 3])\n",
    "print(\"Original array shape:\", arr.shape)       # (3,)\n",
    "\n",
    "# Convert to column vector\n",
    "column_vector = arr[:, np.newaxis]                  # Same as arr.reshape(-1, 1)\n",
    "print(\"Column vector shape:\", column_vector.shape)  # (3, 1)\n",
    "print(\"Column vector:\\n\", column_vector)\n",
    "\n",
    "# Convert to row vector (usually not needed - 1D arrays broadcast as rows)\n",
    "row_vector = arr[np.newaxis, :]                     # Same as arr.reshape(1, -1)\n",
    "print(\"Row vector shape:\", row_vector.shape)        # (1, 3)\n",
    "print(row_vector)"
   ]
  },
  {
   "cell_type": "markdown",
   "id": "036f16d7",
   "metadata": {},
   "source": [
    "`np.newaxis` is an alias for None and adds a new axis of lenght 1. This gives you explicit control over broadcasting behavior"
   ]
  },
  {
   "cell_type": "markdown",
   "id": "8ff1db5c",
   "metadata": {},
   "source": [
    "**Common Broadcasting Patterns**"
   ]
  },
  {
   "cell_type": "code",
   "execution_count": 51,
   "id": "dfa87c1f",
   "metadata": {},
   "outputs": [
    {
     "name": "stdout",
     "output_type": "stream",
     "text": [
      "Original data shape: (5, 3)\n",
      "Original data:\n",
      " [[-0.412  0.904  1.498]\n",
      " [-0.212 -0.724 -1.235]\n",
      " [ 0.91  -0.486  1.479]\n",
      " [ 1.381  0.262  0.661]\n",
      " [ 0.254 -0.48  -0.948]]\n",
      "Column means: [ 0.384 -0.105  0.291]\n",
      "Centered data:\n",
      " [[-0.796  1.008  1.207]\n",
      " [-0.596 -0.619 -1.526]\n",
      " [ 0.526 -0.381  1.188]\n",
      " [ 0.996  0.366  0.37 ]\n",
      " [-0.13  -0.375 -1.239]]\n",
      "New column means (should be ~0): [ 0. -0.  0.]\n"
     ]
    }
   ],
   "source": [
    "# Pattern 1: Centering data (subtract mean from each column)\n",
    "data = np.random.randn(5, 3)    # 5 samples, 3 features\n",
    "print(\"Original data shape:\", data.shape)\n",
    "print(\"Original data:\\n\", data)\n",
    "\n",
    "# Calculate mean for each column\n",
    "column_means = np.mean(data, axis=0)            # shape: (3,)\n",
    "print(\"Column means:\", column_means)\n",
    "\n",
    "# Subtract mean from each column (broadcasting!)\n",
    "centered_data = data - column_means             # (5, 3) - (3,) broadcasts\n",
    "print(\"Centered data:\\n\", centered_data)\n",
    "print(\"New column means (should be ~0):\", np.mean(centered_data, axis=0))"
   ]
  },
  {
   "cell_type": "markdown",
   "id": "488a8ccb",
   "metadata": {},
   "source": [
    "This is a common preprocessing step in machine learning. The column means broadcast across all rows automatically."
   ]
  },
  {
   "cell_type": "code",
   "execution_count": 4,
   "id": "9e5ff3a8",
   "metadata": {},
   "outputs": [
    {
     "name": "stdout",
     "output_type": "stream",
     "text": [
      "Random data:\n",
      " [[0.508 0.768 0.065]\n",
      " [0.972 0.649 0.796]\n",
      " [0.906 0.206 0.712]\n",
      " [0.516 0.512 0.56 ]]\n",
      "Row sums shape: (4, 1)\n",
      "Row sums:\n",
      " [[1.341]\n",
      " [2.417]\n",
      " [1.824]\n",
      " [1.588]]\n",
      "Normalized data (rows sum to 1):\n",
      " [[0.379 0.573 0.048]\n",
      " [0.402 0.268 0.329]\n",
      " [0.496 0.113 0.39 ]\n",
      " [0.325 0.323 0.353]]\n",
      "Row sums after normalization: [1. 1. 1. 1.]\n"
     ]
    }
   ],
   "source": [
    "# Pattern 2: Normalizing  by row sums (useful for probabilities)\n",
    "data = np.random.rand(4, 3) # Random datta\n",
    "print(\"Random data:\\n\", data)\n",
    "\n",
    "# Calculate row sums\n",
    "row_sums = np.sum(data, axis=1, keepdims=True)      # Shape: (4, 1)\n",
    "print(\"Row sums shape:\", row_sums.shape)\n",
    "print(\"Row sums:\\n\", row_sums)\n",
    "\n",
    "# Normalize each row to sum to 1\n",
    "normalized = data / row_sums                        # (4, 3) / (4, 1) broadcasts\n",
    "print(\"Normalized data (rows sum to 1):\\n\", normalized)\n",
    "print(\"Row sums after normalization:\", np.sum(normalized, axis=1))"
   ]
  },
  {
   "cell_type": "markdown",
   "id": "9f44433d",
   "metadata": {},
   "source": [
    "`Keepdims = True` preserves the dimension as size 1, making broadcasting explicit and having shape errors"
   ]
  },
  {
   "cell_type": "code",
   "execution_count": 59,
   "id": "cbac497a",
   "metadata": {},
   "outputs": [
    {
     "data": {
      "text/plain": [
       "array([[45, 36, 40, 33, 39,  6],\n",
       "       [31, 10, 41,  6, 46, 48],\n",
       "       [41, 50, 45,  4, 12, 18],\n",
       "       [25, 26, 32, 26, 30, 36],\n",
       "       [ 2, 30,  9, 46, 32, 32],\n",
       "       [48, 28,  5, 21, 23, 37]], dtype=int32)"
      ]
     },
     "execution_count": 59,
     "metadata": {},
     "output_type": "execute_result"
    }
   ],
   "source": [
    "# 1. Creating a 6x6 Numpy arra random integers between 1 and 50. Display the array\n",
    "arr = np.random.randint(1, 51, size=(6, 6))\n",
    "arr"
   ]
  },
  {
   "cell_type": "code",
   "execution_count": 62,
   "id": "24c4a595",
   "metadata": {},
   "outputs": [
    {
     "name": "stdout",
     "output_type": "stream",
     "text": [
      "The first two rows:\n",
      " [[45 36 40 33 39  6]\n",
      " [31 10 41  6 46 48]]\n",
      "The last three column:\n",
      " [[33 39  6]\n",
      " [ 6 46 48]\n",
      " [ 4 12 18]\n",
      " [26 30 36]\n",
      " [46 32 32]\n",
      " [21 23 37]]\n",
      "All even array\n",
      ": [36 40  6 10  6 46 48 50  4 12 18 26 32 26 30 36  2 30 46 32 32 48 28]\n"
     ]
    }
   ],
   "source": [
    "# Extract the following from the array you crated in Question 1: The first two rows. The last three columns All even numbers in the array.\n",
    "\n",
    "# The first two rows\n",
    "first_two_rows = arr[0:2, :]\n",
    "print(\"The first two rows:\\n\", first_two_rows)\n",
    "\n",
    "# The last three columns\n",
    "last_three_columns = arr[:, 3:]\n",
    "print(\"The last three column:\\n\", last_three_columns)\n",
    "\n",
    "# All even number in the array \n",
    "even_arr = arr[arr % 2 == 0]\n",
    "print(\"All even array\\n:\", even_arr)"
   ]
  },
  {
   "cell_type": "code",
   "execution_count": 65,
   "id": "c3d64100",
   "metadata": {},
   "outputs": [
    {
     "name": "stdout",
     "output_type": "stream",
     "text": [
      "3D array:\n",
      " [[[45 36 40 33 39  6]\n",
      "  [31 10 41  6 46 48]]\n",
      "\n",
      " [[41 50 45  4 12 18]\n",
      "  [25 26 32 26 30 36]]\n",
      "\n",
      " [[ 2 30  9 46 32 32]\n",
      "  [48 28  5 21 23 37]]]\n",
      "1D array:\n",
      " [45 36 40 33 39  6 31 10 41  6 46 48 41 50 45  4 12 18 25 26 32 26 30 36\n",
      "  2 30  9 46 32 32 48 28  5 21 23 37]\n"
     ]
    }
   ],
   "source": [
    "# 3. Perform the following array transformations: Reshape the array in a 3D (3, 2, 6) array. Flatten the reshaped array back to 1D\n",
    "\n",
    "arr3D = arr.reshape(3, 2, 6)\n",
    "print(\"3D array:\\n\", arr3D)\n",
    "arr_flatten = arr3D.flatten()\n",
    "print(\"1D array:\\n\", arr_flatten)"
   ]
  },
  {
   "cell_type": "code",
   "execution_count": 72,
   "id": "1c9de54b",
   "metadata": {},
   "outputs": [
    {
     "name": "stdout",
     "output_type": "stream",
     "text": [
      "4x4 identity matrix:\n",
      " [[1. 0. 0. 0.]\n",
      " [0. 1. 0. 0.]\n",
      " [0. 0. 1. 0.]\n",
      " [0. 0. 0. 1.]]\n",
      "replacing the diagonal 10 - 40 with a step 10:\n",
      " [[10.  0.  0.  0.]\n",
      " [ 0. 20.  0.  0.]\n",
      " [ 0.  0. 30.  0.]\n",
      " [ 0.  0.  0. 40.]]\n"
     ]
    }
   ],
   "source": [
    "# Generate a 4x4 identity matrix and replace the diagonal with numbers from 10 to 40, with a step of 10.\n",
    "\n",
    "arr_id = np.eye(4)\n",
    "print(\"4x4 identity matrix:\\n\", arr_id)\n",
    "\n",
    "np.fill_diagonal(arr_id, [10, 20, 30, 40])\n",
    "print(\"replacing the diagonal 10 - 40 with a step 10:\\n\", arr_id)"
   ]
  },
  {
   "cell_type": "code",
   "execution_count": 73,
   "id": "a3cda3b3",
   "metadata": {},
   "outputs": [
    {
     "data": {
      "text/plain": [
       "array([[105, 132, 104],\n",
       "       [ 57, 104,  58],\n",
       "       [ 67,  76,  30]], dtype=int32)"
      ]
     },
     "execution_count": 73,
     "metadata": {},
     "output_type": "execute_result"
    }
   ],
   "source": [
    "# Peform matrix multiplication between: A 3x4 matrix of random integers (1-10) A 4x3 matrix of random integers (1 - 10) \n",
    "a_matrix = np.random.randint(1, 11, size=(3, 4))\n",
    "b_matrix = np.random.randint(1, 11, size=(4, 3))\n",
    "\n",
    "product = a_matrix @ b_matrix\n",
    "product"
   ]
  },
  {
   "cell_type": "code",
   "execution_count": 74,
   "id": "5fdec001",
   "metadata": {},
   "outputs": [
    {
     "name": "stdout",
     "output_type": "stream",
     "text": [
      "Array before operation\n",
      " [[18  9 19  7]\n",
      " [11 17  4 11]\n",
      " [12 11 14  1]]\n",
      "Array before operation\n",
      " [[324  -1  -1  -1]\n",
      " [ -1  -1  16  -1]\n",
      " [144  -1 196  -1]]\n"
     ]
    }
   ],
   "source": [
    "# Create a function that takes a 2D NumPy array as input and returns a new array where: All even numbers are squared. All odd numbers are replaced by -1.\n",
    "def arr_even_sq_odd_minus_1(arr_2d):\n",
    "    return np.where(arr % 2 == 0, arr ** 2, -1)\n",
    "\n",
    "arr = np.random.randint(1, 20, size=(3, 4))\n",
    "arr_operation = arr_even_sq_odd_minus_1(arr)\n",
    "\n",
    "print(\"Array before operation\\n\", arr)\n",
    "print(\"Array before operation\\n\", arr_operation)\n"
   ]
  },
  {
   "cell_type": "code",
   "execution_count": null,
   "id": "ab89b458",
   "metadata": {},
   "outputs": [],
   "source": []
  }
 ],
 "metadata": {
  "kernelspec": {
   "display_name": "_data_evn",
   "language": "python",
   "name": "python3"
  },
  "language_info": {
   "codemirror_mode": {
    "name": "ipython",
    "version": 3
   },
   "file_extension": ".py",
   "mimetype": "text/x-python",
   "name": "python",
   "nbconvert_exporter": "python",
   "pygments_lexer": "ipython3",
   "version": "3.13.5"
  }
 },
 "nbformat": 4,
 "nbformat_minor": 5
}
