{
 "cells": [
  {
   "cell_type": "code",
   "execution_count": 5,
   "id": "895b3ace",
   "metadata": {},
   "outputs": [
    {
     "name": "stdout",
     "output_type": "stream",
     "text": [
      "NumPy version: 2.3.2\n"
     ]
    }
   ],
   "source": [
    "# import all neccesary libraries\n",
    "import numpy as np\n",
    "import matplotlib.pyplot as plt\n",
    "import time\n",
    "\n",
    "# Check NumPy version\n",
    "print(f\"NumPy version: {np.__version__}\")\n",
    "\n",
    "# Display settings for cleaner output\n",
    "np.set_printoptions(precision=3, suppress=True)"
   ]
  },
  {
   "cell_type": "markdown",
   "id": "86cc5adb",
   "metadata": {},
   "source": [
    "We import Numpy with the standard alias np. The print options make arrays display more readably by limiting decimal places and avoiding Scientific for numbers like 0.001"
   ]
  },
  {
   "cell_type": "markdown",
   "id": "052212aa",
   "metadata": {},
   "source": [
    "##### Numpy Data Structure\n",
    "\n",
    "- Numpy arrays are fundamentally different from Python lists:\n",
    "\n",
    " - Homogeneous: All elements must be the same data type\n",
    " - Fixed size: Size is determined at creation (though you can create new arrays)\n",
    " - Memory efficient: Elements stored in contiguous memory blocks\n",
    " - Vectorized operations: Mathematical operations work on entire arrays"
   ]
  },
  {
   "cell_type": "markdown",
   "id": "ab8e7a7b",
   "metadata": {},
   "source": [
    "#### Creating Numpy Arrays"
   ]
  },
  {
   "cell_type": "code",
   "execution_count": 6,
   "id": "1ec97fe4",
   "metadata": {},
   "outputs": [
    {
     "name": "stdout",
     "output_type": "stream",
     "text": [
      "1D array: [1 2 3 4 5]\n",
      "2D array:\n",
      " [[1 2 3]\n",
      " [4 5 6]]\n",
      "3D array:\n",
      " [[[1 2]\n",
      "  [3 4]]\n",
      "\n",
      " [[5 6]\n",
      "  [7 8]]]\n"
     ]
    }
   ],
   "source": [
    "# Creating arrays from Python lists\n",
    "# 1D array: A simple sequence of numbers\n",
    "arr1d = np.array([1, 2, 3, 4, 5])\n",
    "\n",
    "# 2d array: Think of this as a matrix or table with rows and colums\n",
    "arr2d = np.array([[1, 2, 3],\n",
    "                  [4, 5, 6]])\n",
    "\n",
    "# 3D array: Like a stack of 2D arrays - useful for images, time series, etc.\n",
    "arr3d = np.array([[[1, 2], [3, 4]],\n",
    "                  [[5, 6], [7, 8]]])\n",
    "\n",
    "print(\"1D array:\", arr1d)\n",
    "print(\"2D array:\\n\", arr2d)\n",
    "print(\"3D array:\\n\", arr3d)"
   ]
  },
  {
   "cell_type": "markdown",
   "id": "f2d73ecd",
   "metadata": {},
   "source": [
    "When you pass a nested list to `np.array()`, NumPy automatically determines the dimensions. The 1D array is like a single row, 2D is like a spreadsheet, and 3D is like multiple spreadsheets stacked together"
   ]
  },
  {
   "cell_type": "markdown",
   "id": "f809e14b",
   "metadata": {},
   "source": [
    "#### Creating Special Arrays in Numpy"
   ]
  },
  {
   "cell_type": "code",
   "execution_count": null,
   "id": "6c244b61",
   "metadata": {},
   "outputs": [],
   "source": [
    "# Creating arrays filled with zerros - useful for initializing arrays\n",
    "# Shape (3, 4) means 3 rows and 4 columns\n",
    "zeros = np.zeros((3, 4))\n",
    "\n",
    "# Creating arrays filled with ones - offen used as starting points\n",
    "ones = np.ones((2, 3, 4))       # 3D array: 2 layers, 3 rows, 4 columns\n",
    "\n",
    "# Empty array - faster than zeros/ones but contains random values\n",
    "# Use when you'll immediat"
   ]
  },
  {
   "cell_type": "code",
   "execution_count": null,
   "id": "357cae49",
   "metadata": {},
   "outputs": [],
   "source": []
  }
 ],
 "metadata": {
  "kernelspec": {
   "display_name": "_data_env",
   "language": "python",
   "name": "python3"
  },
  "language_info": {
   "codemirror_mode": {
    "name": "ipython",
    "version": 3
   },
   "file_extension": ".py",
   "mimetype": "text/x-python",
   "name": "python",
   "nbconvert_exporter": "python",
   "pygments_lexer": "ipython3",
   "version": "3.13.7"
  }
 },
 "nbformat": 4,
 "nbformat_minor": 5
}
