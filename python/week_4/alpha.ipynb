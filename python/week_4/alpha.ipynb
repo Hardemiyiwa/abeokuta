{
 "cells": [
  {
   "cell_type": "markdown",
   "id": "ba0c690e",
   "metadata": {},
   "source": [
    "## Strictly alpha value out"
   ]
  },
  {
   "cell_type": "code",
   "execution_count": null,
   "id": "3d53557e",
   "metadata": {},
   "outputs": [
    {
     "name": "stdout",
     "output_type": "stream",
     "text": [
      "Enter words\n"
     ]
    }
   ],
   "source": [
    "# collecting user input (name)\n",
    "name = input(\"Enter your name: \")\n",
    "\n",
    "if name.isalpha():\n",
    "    print(name)\n",
    "else:\n",
    "    print(\"Enter words not number\")"
   ]
  },
  {
   "cell_type": "code",
   "execution_count": 3,
   "id": "43d10e14",
   "metadata": {},
   "outputs": [
    {
     "name": "stdout",
     "output_type": "stream",
     "text": [
      "your input should be in words\n",
      "your input should be in words\n",
      "ademuyiwa\n"
     ]
    }
   ],
   "source": [
    "# repetition until the user enter a words\n",
    "while True:\n",
    "    track = input(\"Enter your track: \")\n",
    "\n",
    "    if track.isalpha():\n",
    "        print(track)\n",
    "        break\n",
    "    else:\n",
    "        print(\"your input should be in words\")"
   ]
  },
  {
   "cell_type": "code",
   "execution_count": 10,
   "id": "f6013751",
   "metadata": {},
   "outputs": [
    {
     "name": "stdout",
     "output_type": "stream",
     "text": [
      "Hello hdh, welcome to NCC\n"
     ]
    }
   ],
   "source": [
    "# Using try and except\n",
    "try:\n",
    "    name = input(\"Enter your first name: \")\n",
    "\n",
    "    if not name.isalpha():\n",
    "        raise ValueError(\"Invalid input\\n Input should be in alphabets\")\n",
    "except ValueError as e:\n",
    "    print(\"Error:\", e)\n",
    "else:\n",
    "    print(f\"Hello {name}, welcome to NCC\")"
   ]
  },
  {
   "cell_type": "code",
   "execution_count": 12,
   "id": "3021ad96",
   "metadata": {},
   "outputs": [
    {
     "name": "stdout",
     "output_type": "stream",
     "text": [
      "Hello ade wale, welcome to NCC\n",
      "Program closed\n"
     ]
    }
   ],
   "source": [
    "try:\n",
    "    first_name = input(\"Enter your first name: \")\n",
    "    second_name = input(\"Enter your second name: \")\n",
    "\n",
    "    if first_name.isalpha() and second_name.isalpha():\n",
    "        print(f\"Hello {first_name} {second_name}, welcome to NCC\")\n",
    "    else:\n",
    "        raise ValueError(\"Invalid input\\n Input should be in alphabets\")\n",
    "except ValueError as e:\n",
    "    print(\"Error:\", e)\n",
    "finally:\n",
    "    print(\"Program closed\")"
   ]
  }
 ],
 "metadata": {
  "kernelspec": {
   "display_name": "Python 3",
   "language": "python",
   "name": "python3"
  },
  "language_info": {
   "codemirror_mode": {
    "name": "ipython",
    "version": 3
   },
   "file_extension": ".py",
   "mimetype": "text/x-python",
   "name": "python",
   "nbconvert_exporter": "python",
   "pygments_lexer": "ipython3",
   "version": "3.13.5"
  }
 },
 "nbformat": 4,
 "nbformat_minor": 5
}
