{
 "cells": [
  {
   "cell_type": "code",
   "execution_count": 1,
   "id": "0d3b1c41",
   "metadata": {},
   "outputs": [],
   "source": [
    "import numpy as np"
   ]
  },
  {
   "cell_type": "markdown",
   "id": "6208946c",
   "metadata": {},
   "source": [
    "**Given the following matrices:**\n",
    "\n",
    "```c\n",
    "A = [[2, -1, 3],\n",
    "     [0, 4, 1]]\n",
    "```\n",
    "```c\n",
    "B = [[1, 2],\n",
    "     [-2, 0],\n",
    "     [5, 3]]\n",
    "```\n",
    "\n",
    "**a**. Identify the number of rows and columns in each matrix\n",
    "\n",
    "**b**. Determine whether the matrices can be multiplied. If so, specify whether it's (AB), (BA), both\n",
    "\n",
    "**c**. If multiplication is defined, compute the resulting matrix\n",
    "\n"
   ]
  },
  {
   "cell_type": "markdown",
   "id": "8eabcca5",
   "metadata": {},
   "source": [
    "#### Solutions"
   ]
  },
  {
   "cell_type": "code",
   "execution_count": 5,
   "id": "6e5e184a",
   "metadata": {},
   "outputs": [],
   "source": [
    "# computing both matrices\n",
    "A = np.array([[2, -1, 3],\n",
    "              [0, 4, 1]])\n",
    "B = np.array([[1, 2],\n",
    "              [-2, 0],\n",
    "              [5, 3]])"
   ]
  },
  {
   "cell_type": "markdown",
   "id": "a61272b9",
   "metadata": {},
   "source": [
    "**(a)** answer"
   ]
  },
  {
   "cell_type": "markdown",
   "id": "fb413ec8",
   "metadata": {},
   "source": [
    "**A** has 2 rows and 3 columns, that is **A** is a 2X3 matrice\n",
    "\n",
    "**B** has 3 rows and 2 columns, that is **B** is a 3X2 matrice"
   ]
  },
  {
   "cell_type": "code",
   "execution_count": 7,
   "id": "94f95945",
   "metadata": {},
   "outputs": [
    {
     "name": "stdout",
     "output_type": "stream",
     "text": [
      "The shape of matrice A: (2, 3)\n",
      "The shape of matrice B: (3, 2)\n"
     ]
    }
   ],
   "source": [
    "print(\"The shape of matrice A:\", A.shape)\n",
    "print(\"The shape of matrice B:\", B.shape)"
   ]
  },
  {
   "cell_type": "markdown",
   "id": "727e4b6e",
   "metadata": {},
   "source": [
    "**(b)** answer"
   ]
  },
  {
   "cell_type": "markdown",
   "id": "5f657ad9",
   "metadata": {},
   "source": [
    "**A** X **B** = **AB**  is possible because **A** has 3 columns and **B** has 3 rows\n",
    "\n",
    "**B** X **A** = **BA** is possible because **B** has  2 columns and **A** has 2 rows"
   ]
  },
  {
   "cell_type": "markdown",
   "id": "7f28054c",
   "metadata": {},
   "source": [
    "**(c)** answer"
   ]
  },
  {
   "cell_type": "markdown",
   "id": "dae4a6f6",
   "metadata": {},
   "source": [
    "```c\n",
    "A = [[2, -1, 3],\n",
    "     [0, 4, 1]]\n",
    "B = [[1, 2],\n",
    "     [-2, 0],\n",
    "     [5, 3]]\n",
    "```\n",
    "\n",
    "```c\n",
    "AB = [[(2x1 + (-1x-2) + 3x5), (2x2 + (-1x0) + 3x3)],\n",
    "      [(0x1 + 4x-2 + 1x5), (0x2 + 4x0 + 1x3)]]\n",
    "AB = [[19, 13],\n",
    "      [-3   3]]\n",
    "\n",
    "BA = [[(2x1 + 2x0), (1x-1 + 2x4), (1x3+2x1)],\n",
    "      [(-2x2 + 0x0), (-2x-1 + 0x4), (-2x3 + 0x1)],\n",
    "      [[(5x2 + 0x3), (5x-1 + 3x4), (5x3 + 3x1)]]]\n",
    "BA = [[2, 7, 5],\n",
    "      [-4, 2, -6],\n",
    "      [10, 7, 18]]\n",
    "```"
   ]
  },
  {
   "cell_type": "code",
   "execution_count": 12,
   "id": "229bd195",
   "metadata": {},
   "outputs": [
    {
     "name": "stdout",
     "output_type": "stream",
     "text": [
      "AB is:\n",
      "[[19 13]\n",
      " [-3  3]]\n",
      "The shape is (2, 2)\n",
      "\n",
      "BA is:\n",
      "[[ 2  7  5]\n",
      " [-4  2 -6]\n",
      " [10  7 18]]\n",
      "The shape is (3, 3)\n"
     ]
    }
   ],
   "source": [
    "# multiplying matrice A and B\n",
    "AB = np.dot(A, B)\n",
    "print(f\"AB is:\\n{AB}\\nThe shape is {AB.shape}\")\n",
    "\n",
    "BA = np.dot(B, A)\n",
    "print(f\"\\nBA is:\\n{BA}\\nThe shape is {BA.shape}\")"
   ]
  },
  {
   "cell_type": "code",
   "execution_count": null,
   "metadata": {},
   "outputs": [],
   "source": []
  }
 ],
 "metadata": {
  "kernelspec": {
   "display_name": "_data_evn",
   "language": "python",
   "name": "python3"
  },
  "language_info": {
   "codemirror_mode": {
    "name": "ipython",
    "version": 3
   },
   "file_extension": ".py",
   "mimetype": "text/x-python",
   "name": "python",
   "nbconvert_exporter": "python",
   "pygments_lexer": "ipython3",
   "version": "3.13.5"
  }
 },
 "nbformat": 4,
 "nbformat_minor": 5
}
