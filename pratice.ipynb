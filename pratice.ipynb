{
 "cells": [
  {
   "cell_type": "code",
   "execution_count": 2,
   "id": "0af9bca8",
   "metadata": {},
   "outputs": [
    {
     "name": "stdout",
     "output_type": "stream",
     "text": [
      "Rex say woof!\n",
      "Luna say woof!\n"
     ]
    }
   ],
   "source": [
    "class Dog:\n",
    "    def __init__(self, name, breed, age):\n",
    "        self.name = name\n",
    "        self.breed = breed\n",
    "        self.age = age\n",
    "\n",
    "    def bark(self):\n",
    "        print(f\"{self.name} say woof!\")\n",
    "\n",
    "dog1 = Dog(\"Rex\", \"Germer Shepherd\", 3)\n",
    "dog2 = Dog(\"Luna\", \"Husky\", 2)\n",
    "\n",
    "dog1.bark()\n",
    "dog2.bark()"
   ]
  },
  {
   "cell_type": "code",
   "execution_count": 5,
   "id": "4a8e90b9",
   "metadata": {},
   "outputs": [
    {
     "name": "stdout",
     "output_type": "stream",
     "text": [
      "This is a red Toyota Corolla with 4 wheels\n",
      "This is a blue BMW X5 with 4 wheels\n"
     ]
    }
   ],
   "source": [
    "# 1. creating a class name Car \n",
    "# 2. creating a class attribute wheels which will be equal to 4 \n",
    "# 3. creating an instance attribute brand, model, and color \n",
    "# 4. creating a method called description() that print something like \"This is a red {self.name} with {wheel} wheels.\n",
    "\n",
    "class Car:\n",
    "    wheels = 4\n",
    "\n",
    "    def __init__(self, brand, model, color):\n",
    "        self.brand = brand\n",
    "        self.model = model\n",
    "        self.color = color\n",
    "\n",
    "    def description(self):\n",
    "        print(f\"This is a {self.color} {self.brand} {self.model} with {Car.wheels} wheels\")\n",
    "\n",
    "car1 = Car(\"Toyota\", \"Corolla\", \"red\")\n",
    "car2 = Car(\"BMW\", \"X5\", \"blue\")\n",
    "\n",
    "car1.description()\n",
    "car2.description()"
   ]
  },
  {
   "cell_type": "code",
   "execution_count": null,
   "id": "af0e4782",
   "metadata": {},
   "outputs": [],
   "source": []
  }
 ],
 "metadata": {
  "kernelspec": {
   "display_name": "_data_evn",
   "language": "python",
   "name": "python3"
  },
  "language_info": {
   "codemirror_mode": {
    "name": "ipython",
    "version": 3
   },
   "file_extension": ".py",
   "mimetype": "text/x-python",
   "name": "python",
   "nbconvert_exporter": "python",
   "pygments_lexer": "ipython3",
   "version": "3.13.5"
  }
 },
 "nbformat": 4,
 "nbformat_minor": 5
}
